{
 "cells": [
  {
   "cell_type": "markdown",
   "id": "1fcdd87b",
   "metadata": {},
   "source": [
    "# Replication of Estimating Treatment Effects with Causal Forests: An Application by Athey and Wager (2018) ."
   ]
  },
  {
   "cell_type": "markdown",
   "id": "68ae9ef2",
   "metadata": {},
   "source": [
    "The objetive of this paper is to evaluate the impact of a nudge-like intervention designed to instill students with a growth mindset on student achievement using simulated data from a model fit from the National Study of Learning Mindsets. This paper aims to answer three questions:\n",
    " * Was the mindset intervention efective in improving student achievement?\n",
    " * Was the efect of the intervention moderated by school level achievement ($X_2$) or pre-existing mindset norms ($X_1$)?\n",
    " * Do other covariates moderate treatment efects?\n",
    " \n",
    "However, there are 2 methodological challenges to take into account. First, althought is a randomized study, there seems to be some selection efects in the synthetic data. Because of this, the study will be analyzed as an observational rather than randomized study. Second, the students in this study all drawn from 76 randomly selected schools,thus, were not independently sampled. Since there seems to be considerable heterogeneity across schools because of this, we need make an analysis that robustly accounts for the sampling variability of potentially unexplained school-level in order to generalize outside our sample. \n",
    " \n",
    " \n"
   ]
  },
  {
   "cell_type": "code",
   "execution_count": null,
   "id": "a4d3a52b",
   "metadata": {},
   "outputs": [],
   "source": [
    "#set seed to keep track of the same random numbers\n",
    "set.seed(1)\n",
    "\n",
    "# Notes: The paper refers to an argument called `samples.per.cluster`. This option was removed in grf version 1.0\n",
    "# and is now by default (`equalize.cluster.weights = FALSE`) internally set to the size of the largest cluster,\n",
    "# which means that large schools recieve larger weight than small schools. To be closer to the original behavior,\n",
    "# this script has been updated by setting `equalize.cluster.weights` to TRUE, which means each school receives\n",
    "# equal weight in ATE estimation. For more details on clustering in grf, see the algorithm reference at:\n",
    "# https://grf-labs.github.io/grf/REFERENCE.html#cluster-robust-estimation"
   ]
  },
  {
   "cell_type": "code",
   "execution_count": 1,
   "id": "7c58fa0d",
   "metadata": {},
   "outputs": [
    {
     "name": "stderr",
     "output_type": "stream",
     "text": [
      "Loading required package: zoo\n",
      "\n",
      "\n",
      "Attaching package: 'zoo'\n",
      "\n",
      "\n",
      "The following objects are masked from 'package:base':\n",
      "\n",
      "    as.Date, as.Date.numeric\n",
      "\n",
      "\n",
      "Warning message:\n",
      "\"package 'ggplot2' was built under R version 4.1.2\"\n"
     ]
    }
   ],
   "source": [
    "rm(list = ls())\n",
    "library(grf)\n",
    "if(packageVersion(\"grf\") < '0.10.2') {\n",
    "  warning(\"This script requires grf 0.10.2 or higher\")\n",
    "}\n",
    "\n",
    "#import libraries\n",
    "\n",
    "library(sandwich)\n",
    "library(lmtest)\n",
    "library(ggplot2)"
   ]
  },
  {
   "cell_type": "code",
   "execution_count": 2,
   "id": "826e2693",
   "metadata": {},
   "outputs": [
    {
     "data": {
      "text/html": [
       "<table class=\"dataframe\">\n",
       "<caption>A data.frame: 6 × 13</caption>\n",
       "<thead>\n",
       "\t<tr><th></th><th scope=col>schoolid</th><th scope=col>Z</th><th scope=col>Y</th><th scope=col>S3</th><th scope=col>C1</th><th scope=col>C2</th><th scope=col>C3</th><th scope=col>XC</th><th scope=col>X1</th><th scope=col>X2</th><th scope=col>X3</th><th scope=col>X4</th><th scope=col>X5</th></tr>\n",
       "\t<tr><th></th><th scope=col>&lt;int&gt;</th><th scope=col>&lt;int&gt;</th><th scope=col>&lt;dbl&gt;</th><th scope=col>&lt;int&gt;</th><th scope=col>&lt;int&gt;</th><th scope=col>&lt;int&gt;</th><th scope=col>&lt;int&gt;</th><th scope=col>&lt;int&gt;</th><th scope=col>&lt;dbl&gt;</th><th scope=col>&lt;dbl&gt;</th><th scope=col>&lt;dbl&gt;</th><th scope=col>&lt;dbl&gt;</th><th scope=col>&lt;dbl&gt;</th></tr>\n",
       "</thead>\n",
       "<tbody>\n",
       "\t<tr><th scope=row>1</th><td>76</td><td>1</td><td> 0.08160167</td><td>6</td><td> 4</td><td>2</td><td>1</td><td>4</td><td>0.3345435</td><td>0.6485856</td><td>-1.310927</td><td>0.2240765</td><td>-0.4267567</td></tr>\n",
       "\t<tr><th scope=row>2</th><td>76</td><td>1</td><td>-0.38586896</td><td>4</td><td>12</td><td>2</td><td>1</td><td>4</td><td>0.3345435</td><td>0.6485856</td><td>-1.310927</td><td>0.2240765</td><td>-0.4267567</td></tr>\n",
       "\t<tr><th scope=row>3</th><td>76</td><td>1</td><td> 0.39818373</td><td>6</td><td> 4</td><td>2</td><td>0</td><td>4</td><td>0.3345435</td><td>0.6485856</td><td>-1.310927</td><td>0.2240765</td><td>-0.4267567</td></tr>\n",
       "\t<tr><th scope=row>4</th><td>76</td><td>1</td><td>-0.17503685</td><td>6</td><td> 4</td><td>2</td><td>0</td><td>4</td><td>0.3345435</td><td>0.6485856</td><td>-1.310927</td><td>0.2240765</td><td>-0.4267567</td></tr>\n",
       "\t<tr><th scope=row>5</th><td>76</td><td>1</td><td> 0.88458337</td><td>6</td><td> 4</td><td>1</td><td>0</td><td>4</td><td>0.3345435</td><td>0.6485856</td><td>-1.310927</td><td>0.2240765</td><td>-0.4267567</td></tr>\n",
       "\t<tr><th scope=row>6</th><td>76</td><td>1</td><td>-0.09056477</td><td>6</td><td> 4</td><td>2</td><td>0</td><td>4</td><td>0.3345435</td><td>0.6485856</td><td>-1.310927</td><td>0.2240765</td><td>-0.4267567</td></tr>\n",
       "</tbody>\n",
       "</table>\n"
      ],
      "text/latex": [
       "A data.frame: 6 × 13\n",
       "\\begin{tabular}{r|lllllllllllll}\n",
       "  & schoolid & Z & Y & S3 & C1 & C2 & C3 & XC & X1 & X2 & X3 & X4 & X5\\\\\n",
       "  & <int> & <int> & <dbl> & <int> & <int> & <int> & <int> & <int> & <dbl> & <dbl> & <dbl> & <dbl> & <dbl>\\\\\n",
       "\\hline\n",
       "\t1 & 76 & 1 &  0.08160167 & 6 &  4 & 2 & 1 & 4 & 0.3345435 & 0.6485856 & -1.310927 & 0.2240765 & -0.4267567\\\\\n",
       "\t2 & 76 & 1 & -0.38586896 & 4 & 12 & 2 & 1 & 4 & 0.3345435 & 0.6485856 & -1.310927 & 0.2240765 & -0.4267567\\\\\n",
       "\t3 & 76 & 1 &  0.39818373 & 6 &  4 & 2 & 0 & 4 & 0.3345435 & 0.6485856 & -1.310927 & 0.2240765 & -0.4267567\\\\\n",
       "\t4 & 76 & 1 & -0.17503685 & 6 &  4 & 2 & 0 & 4 & 0.3345435 & 0.6485856 & -1.310927 & 0.2240765 & -0.4267567\\\\\n",
       "\t5 & 76 & 1 &  0.88458337 & 6 &  4 & 1 & 0 & 4 & 0.3345435 & 0.6485856 & -1.310927 & 0.2240765 & -0.4267567\\\\\n",
       "\t6 & 76 & 1 & -0.09056477 & 6 &  4 & 2 & 0 & 4 & 0.3345435 & 0.6485856 & -1.310927 & 0.2240765 & -0.4267567\\\\\n",
       "\\end{tabular}\n"
      ],
      "text/markdown": [
       "\n",
       "A data.frame: 6 × 13\n",
       "\n",
       "| <!--/--> | schoolid &lt;int&gt; | Z &lt;int&gt; | Y &lt;dbl&gt; | S3 &lt;int&gt; | C1 &lt;int&gt; | C2 &lt;int&gt; | C3 &lt;int&gt; | XC &lt;int&gt; | X1 &lt;dbl&gt; | X2 &lt;dbl&gt; | X3 &lt;dbl&gt; | X4 &lt;dbl&gt; | X5 &lt;dbl&gt; |\n",
       "|---|---|---|---|---|---|---|---|---|---|---|---|---|---|\n",
       "| 1 | 76 | 1 |  0.08160167 | 6 |  4 | 2 | 1 | 4 | 0.3345435 | 0.6485856 | -1.310927 | 0.2240765 | -0.4267567 |\n",
       "| 2 | 76 | 1 | -0.38586896 | 4 | 12 | 2 | 1 | 4 | 0.3345435 | 0.6485856 | -1.310927 | 0.2240765 | -0.4267567 |\n",
       "| 3 | 76 | 1 |  0.39818373 | 6 |  4 | 2 | 0 | 4 | 0.3345435 | 0.6485856 | -1.310927 | 0.2240765 | -0.4267567 |\n",
       "| 4 | 76 | 1 | -0.17503685 | 6 |  4 | 2 | 0 | 4 | 0.3345435 | 0.6485856 | -1.310927 | 0.2240765 | -0.4267567 |\n",
       "| 5 | 76 | 1 |  0.88458337 | 6 |  4 | 1 | 0 | 4 | 0.3345435 | 0.6485856 | -1.310927 | 0.2240765 | -0.4267567 |\n",
       "| 6 | 76 | 1 | -0.09056477 | 6 |  4 | 2 | 0 | 4 | 0.3345435 | 0.6485856 | -1.310927 | 0.2240765 | -0.4267567 |\n",
       "\n"
      ],
      "text/plain": [
       "  schoolid Z Y           S3 C1 C2 C3 XC X1        X2        X3        X4       \n",
       "1 76       1  0.08160167 6   4 2  1  4  0.3345435 0.6485856 -1.310927 0.2240765\n",
       "2 76       1 -0.38586896 4  12 2  1  4  0.3345435 0.6485856 -1.310927 0.2240765\n",
       "3 76       1  0.39818373 6   4 2  0  4  0.3345435 0.6485856 -1.310927 0.2240765\n",
       "4 76       1 -0.17503685 6   4 2  0  4  0.3345435 0.6485856 -1.310927 0.2240765\n",
       "5 76       1  0.88458337 6   4 1  0  4  0.3345435 0.6485856 -1.310927 0.2240765\n",
       "6 76       1 -0.09056477 6   4 2  0  4  0.3345435 0.6485856 -1.310927 0.2240765\n",
       "  X5        \n",
       "1 -0.4267567\n",
       "2 -0.4267567\n",
       "3 -0.4267567\n",
       "4 -0.4267567\n",
       "5 -0.4267567\n",
       "6 -0.4267567"
      ]
     },
     "metadata": {},
     "output_type": "display_data"
    }
   ],
   "source": [
    "#import data and chage formats\n",
    "data.all = read.csv(\"synthetic_data.csv\")\n",
    "\n",
    "head(data.all)"
   ]
  },
  {
   "cell_type": "code",
   "execution_count": 3,
   "id": "5359a934",
   "metadata": {},
   "outputs": [
    {
     "data": {
      "text/plain": [
       "\n",
       "Call:\n",
       "glm(formula = Z ~ ., family = binomial, data = data.all[, -3])\n",
       "\n",
       "Deviance Residuals: \n",
       "    Min       1Q   Median       3Q      Max  \n",
       "-1.2079  -0.9088  -0.8297   1.4176   1.9556  \n",
       "\n",
       "Coefficients: (6 not defined because of singularities)\n",
       "              Estimate Std. Error z value Pr(>|z|)    \n",
       "(Intercept) -0.9524636  0.2845173  -3.348 0.000815 ***\n",
       "schoolid2    0.0697302  0.2766287   0.252 0.800986    \n",
       "schoolid3    0.0382080  0.2911323   0.131 0.895586    \n",
       "schoolid4    0.1761334  0.2784711   0.633 0.527059    \n",
       "schoolid5   -0.0033389  0.2950180  -0.011 0.990970    \n",
       "schoolid6    0.0583548  0.3067481   0.190 0.849124    \n",
       "schoolid7   -0.1313759  0.3188190  -0.412 0.680288    \n",
       "schoolid8    0.1233661  0.3023736   0.408 0.683279    \n",
       "schoolid9   -0.1955428  0.3073344  -0.636 0.524611    \n",
       "schoolid10  -0.1892794  0.2968750  -0.638 0.523752    \n",
       "schoolid11  -0.2224060  0.5461005  -0.407 0.683816    \n",
       "schoolid12  -0.3312420  0.5414374  -0.612 0.540682    \n",
       "schoolid13  -0.0408540  0.3989507  -0.102 0.918436    \n",
       "schoolid14  -0.8681934  0.6033674  -1.439 0.150175    \n",
       "schoolid15  -0.1059135  0.3263162  -0.325 0.745504    \n",
       "schoolid16  -0.1063268  0.2885387  -0.369 0.712500    \n",
       "schoolid17   0.0854323  0.3119435   0.274 0.784184    \n",
       "schoolid18  -0.1924441  0.2997822  -0.642 0.520908    \n",
       "schoolid19  -0.0265326  0.3229712  -0.082 0.934526    \n",
       "schoolid20  -0.2179554  0.3041336  -0.717 0.473594    \n",
       "schoolid21  -0.2147440  0.2982822  -0.720 0.471565    \n",
       "schoolid22  -0.5115966  0.4410779  -1.160 0.246098    \n",
       "schoolid23   0.0039231  0.3475373   0.011 0.990994    \n",
       "schoolid24  -0.0848314  0.3259572  -0.260 0.794668    \n",
       "schoolid25   0.0521087  0.2754586   0.189 0.849959    \n",
       "schoolid26   0.0241212  0.2876511   0.084 0.933171    \n",
       "schoolid27  -0.2300630  0.3104796  -0.741 0.458698    \n",
       "schoolid28  -0.3519010  0.2924774  -1.203 0.228909    \n",
       "schoolid29  -0.2198764  0.3293288  -0.668 0.504357    \n",
       "schoolid30  -0.3146292  0.3257994  -0.966 0.334187    \n",
       "schoolid31   0.1398555  0.6137901   0.228 0.819759    \n",
       "schoolid32   0.1555524  0.3916156   0.397 0.691215    \n",
       "schoolid33  -0.0991693  0.3939370  -0.252 0.801243    \n",
       "schoolid34  -0.0073688  0.2980808  -0.025 0.980278    \n",
       "schoolid35  -0.3528987  0.3997273  -0.883 0.377318    \n",
       "schoolid36  -0.3751465  0.3988972  -0.940 0.346982    \n",
       "schoolid37  -0.0343169  0.3219646  -0.107 0.915117    \n",
       "schoolid38  -0.1346432  0.3851869  -0.350 0.726674    \n",
       "schoolid39  -0.4339936  0.3612869  -1.201 0.229657    \n",
       "schoolid40  -0.3993958  0.3834495  -1.042 0.297604    \n",
       "schoolid41  -0.1490784  0.3542105  -0.421 0.673846    \n",
       "schoolid42  -0.1545715  0.3551857  -0.435 0.663428    \n",
       "schoolid43  -0.5679567  0.4277455  -1.328 0.184247    \n",
       "schoolid44  -0.1425896  0.3774795  -0.378 0.705623    \n",
       "schoolid45  -0.1337888  0.3232493  -0.414 0.678957    \n",
       "schoolid46  -0.2573249  0.3129119  -0.822 0.410874    \n",
       "schoolid47   0.0027726  0.2770108   0.010 0.992014    \n",
       "schoolid48  -0.3406079  0.3470361  -0.981 0.326358    \n",
       "schoolid49  -0.3236117  0.3434541  -0.942 0.346077    \n",
       "schoolid50  -0.1185119  0.4086074  -0.290 0.771787    \n",
       "schoolid51   0.4087898  0.4506822   0.907 0.364382    \n",
       "schoolid52  -0.3144014  0.4118342  -0.763 0.445214    \n",
       "schoolid53  -0.2733677  0.4511280  -0.606 0.544538    \n",
       "schoolid54  -0.0889588  0.3872532  -0.230 0.818311    \n",
       "schoolid55  -0.1558106  0.4155020  -0.375 0.707665    \n",
       "schoolid56   0.1050353  0.3149235   0.334 0.738737    \n",
       "schoolid57  -0.0314901  0.2901719  -0.109 0.913581    \n",
       "schoolid58  -0.0383183  0.2730077  -0.140 0.888379    \n",
       "schoolid59  -0.0529637  0.2934895  -0.180 0.856790    \n",
       "schoolid60  -0.1624792  0.3972885  -0.409 0.682561    \n",
       "schoolid61  -0.0289549  0.3201953  -0.090 0.927946    \n",
       "schoolid62   0.0993158  0.2669678   0.372 0.709882    \n",
       "schoolid63   0.1684702  0.3282167   0.513 0.607749    \n",
       "schoolid64  -0.0693060  0.2770896  -0.250 0.802493    \n",
       "schoolid65  -0.0004197  0.4072922  -0.001 0.999178    \n",
       "schoolid66  -0.2130911  0.2984091  -0.714 0.475171    \n",
       "schoolid67   0.0358440  0.2921158   0.123 0.902341    \n",
       "schoolid68  -0.0871303  0.3290814  -0.265 0.791188    \n",
       "schoolid69  -0.2550387  0.2908992  -0.877 0.380636    \n",
       "schoolid70  -0.0268947  0.4032160  -0.067 0.946820    \n",
       "schoolid71   0.0037464  0.4268290   0.009 0.992997    \n",
       "schoolid72  -0.1304085  0.2881512  -0.453 0.650859    \n",
       "schoolid73  -0.2160697  0.2840030  -0.761 0.446776    \n",
       "schoolid74  -0.0935320  0.2842612  -0.329 0.742129    \n",
       "schoolid75  -0.1056241  0.3024204  -0.349 0.726892    \n",
       "schoolid76  -0.1052261  0.2939262  -0.358 0.720342    \n",
       "S3           0.1036077  0.0197345   5.250 1.52e-07 ***\n",
       "C1          -0.0015919  0.0053900  -0.295 0.767728    \n",
       "C2          -0.1038596  0.0424020  -2.449 0.014309 *  \n",
       "C3          -0.1319218  0.0461833  -2.856 0.004284 ** \n",
       "XC                  NA         NA      NA       NA    \n",
       "X1                  NA         NA      NA       NA    \n",
       "X2                  NA         NA      NA       NA    \n",
       "X3                  NA         NA      NA       NA    \n",
       "X4                  NA         NA      NA       NA    \n",
       "X5                  NA         NA      NA       NA    \n",
       "---\n",
       "Signif. codes:  0 '***' 0.001 '**' 0.01 '*' 0.05 '.' 0.1 ' ' 1\n",
       "\n",
       "(Dispersion parameter for binomial family taken to be 1)\n",
       "\n",
       "    Null deviance: 13115  on 10390  degrees of freedom\n",
       "Residual deviance: 13009  on 10311  degrees of freedom\n",
       "AIC: 13169\n",
       "\n",
       "Number of Fisher Scoring iterations: 4\n"
      ]
     },
     "metadata": {},
     "output_type": "display_data"
    }
   ],
   "source": [
    "data.all$schoolid = factor(data.all$schoolid)\n",
    "\n",
    "DF = data.all[,-1]\n",
    "school.id = as.numeric(data.all$schoolid)\n",
    "\n",
    "school.mat = model.matrix(~ schoolid + 0, data = data.all)\n",
    "school.size = colSums(school.mat)\n",
    "\n",
    "# It appears that school ID does not affect pscore. So ignore it in modeling, and just treat it as source of per-cluster error.\n",
    "w.lm = glm(Z ~ ., data = data.all[,-3], family = binomial)\n",
    "summary(w.lm)\n",
    "\n",
    "\n",
    "W = DF$Z\n",
    "Y = DF$Y\n",
    "X.raw = DF[,-(1:2)]\n",
    "\n",
    "C1.exp = model.matrix(~ factor(X.raw$C1) + 0)\n",
    "XC.exp = model.matrix(~ factor(X.raw$XC) + 0)\n",
    "\n",
    "X = cbind(X.raw[,-which(names(X.raw) %in% c(\"C1\", \"XC\"))], C1.exp, XC.exp)"
   ]
  },
  {
   "cell_type": "markdown",
   "id": "9b6e2aa8",
   "metadata": {},
   "source": [
    "### How the tree was built?"
   ]
  },
  {
   "cell_type": "markdown",
   "id": "1e63912e",
   "metadata": {},
   "source": [
    "We start fitting two separate regression forest (Y.forest & W.forest) with all the features. In them, they use default settings, as their predictions are inputs to the causal forest and default parameter choices often perform reasonably\n",
    "well with random forests. Let's remember that they are estimating Y\\~X and W\\~X in order used them as inputs in the next random forest. This is following the Partilling-Out method. "
   ]
  },
  {
   "cell_type": "code",
   "execution_count": 4,
   "id": "464abfa5",
   "metadata": {},
   "outputs": [],
   "source": [
    "#Pilot random forest with all the features\n",
    "\n",
    "Y.forest = regression_forest(X, Y, clusters = school.id, equalize.cluster.weights = TRUE)\n",
    "Y.hat = predict(Y.forest)$predictions\n",
    "W.forest = regression_forest(X, W, clusters = school.id, equalize.cluster.weights = TRUE)\n",
    "W.hat = predict(W.forest)$predictions"
   ]
  },
  {
   "cell_type": "markdown",
   "id": "0eee560b",
   "metadata": {},
   "source": [
    "With this predictions, the estimate a pilot causal forest on all the features, do not realize the tuning, but save the most important variables used in the estimation. This is done in order to the most important features in low-signal situations."
   ]
  },
  {
   "cell_type": "code",
   "execution_count": 5,
   "id": "93e9f910",
   "metadata": {},
   "outputs": [],
   "source": [
    "#with the features that are repeated, we pilot a rondom forest, consideding the clusters,  \n",
    "cf.raw = causal_forest(X, Y, W,\n",
    "                       Y.hat = Y.hat, W.hat = W.hat,\n",
    "                       clusters = school.id,\n",
    "                       equalize.cluster.weights = TRUE)\n",
    "varimp = variable_importance(cf.raw)\n",
    "selected.idx = which(varimp > mean(varimp))"
   ]
  },
  {
   "cell_type": "markdown",
   "id": "70b5172a",
   "metadata": {},
   "source": [
    "Now, we this important features, we estimate the causal forest. This means we do boostrap on the observations (generate samples with replacements in whom we generate tress- thus creating a forest) and aggregating the predictions found of the forest. However, in order to find the ideal forest, we need to tune the parameters. For that, the  tune.parameters = \"all\" option is activated. \n",
    "\n",
    "With the forest created, they make out-of-bag predictions in order to tune parameters. This means that they use cross-validation: they split the data in subsets and estimate the model with certain parameters in a part of it (i.e 9 out of 10 splits) and then, with the coefficients found in that part, try the model in the part they didn't use and compare the predictions to the real observations. The squared difference (out-of-bag predicitions and real observations) between them is the RSE. This will allow us to calculate the mean of an RSE if we change which split that is used to generate the out-of-bag predictions, and it is used to see which parameters are better. The parameters found in this process a quite a few, e.g. minimum node size for individual trees."
   ]
  },
  {
   "cell_type": "code",
   "execution_count": 6,
   "id": "1db82d3c",
   "metadata": {},
   "outputs": [],
   "source": [
    "cf = causal_forest(X[,selected.idx], Y, W,\n",
    "                   Y.hat = Y.hat, W.hat = W.hat,\n",
    "                   clusters = school.id,\n",
    "                   equalize.cluster.weights = TRUE,\n",
    "                   tune.parameters = \"all\")\n",
    "tau.hat = predict(cf)$predictions"
   ]
  },
  {
   "cell_type": "markdown",
   "id": "d640d305",
   "metadata": {},
   "source": [
    "### Estimate ATE"
   ]
  },
  {
   "cell_type": "markdown",
   "id": "627287b1",
   "metadata": {},
   "source": [
    "With the tuned parameters, we estimate **the average treatment effect (ATE) that is 0.248 and has a confidence interval that goes between 0.0209 and 0.287 (+/-0.039) with a 95/% confidence. This means that the effect of the treatment or the intervetion related to the growth mind set had a positive and significant impact on the measure of achievement of the students on average**. "
   ]
  },
  {
   "cell_type": "code",
   "execution_count": 7,
   "id": "4286f016",
   "metadata": {},
   "outputs": [
    {
     "data": {
      "text/html": [
       "'95% CI for the ATE: 0.248 +/- 0.039'"
      ],
      "text/latex": [
       "'95\\% CI for the ATE: 0.248 +/- 0.039'"
      ],
      "text/markdown": [
       "'95% CI for the ATE: 0.248 +/- 0.039'"
      ],
      "text/plain": [
       "[1] \"95% CI for the ATE: 0.248 +/- 0.039\""
      ]
     },
     "metadata": {},
     "output_type": "display_data"
    }
   ],
   "source": [
    "#\n",
    "# Estimate ATE\n",
    "#\n",
    "\n",
    "ATE = average_treatment_effect(cf)\n",
    "paste(\"95% CI for the ATE:\", round(ATE[1], 3),\n",
    "      \"+/-\", round(qnorm(0.975) * ATE[2], 3))"
   ]
  },
  {
   "cell_type": "markdown",
   "id": "95d391d7",
   "metadata": {},
   "source": [
    "### Run best linear predictor analysis"
   ]
  },
  {
   "cell_type": "markdown",
   "id": "358ede1e",
   "metadata": {},
   "source": [
    "It is used to prove whether the causal forest has succeeded in accurately estimating treatment heterogeneity since we don't know if the CATE found is better estimate of the real effect than the ATE. The best linear predictor analysis tries to fit the CATE found as a function of the out-of-bag causal forest estimates. In this regression they fit $Y_i - \\hat{m}^{-i}(X_i)$ with $D_i= (\\hat{\\tau}^{-i}(X_i)-\\overline{\\tau})(W_i-\\hat{e}^{-i}(X_i))$ and $C_i=\\tau (W_i-\\hat{e}^{-i}(X_i))$. To our undesrtanding, this is like regressing the residuals of $Y$ and the residuals of $W$ multiplied with the CATE and ATE. If the coefficient on $D_i$ , related to CATE, it means the heteregenooius estimates are well calibrated, however, we only need it to be positive and significant to have evidence that we can't not deny correlation between the CATE and the real effect of the treatment. "
   ]
  },
  {
   "cell_type": "code",
   "execution_count": 8,
   "id": "8328f001",
   "metadata": {},
   "outputs": [
    {
     "data": {
      "text/plain": [
       "\n",
       "Best linear fit using forest predictions (on held-out data)\n",
       "as well as the mean forest prediction as regressors, along\n",
       "with one-sided heteroskedasticity-robust (HC3) SEs:\n",
       "\n",
       "                               Estimate Std. Error t value Pr(>t)    \n",
       "mean.forest.prediction         0.996727   0.082132  12.136 <2e-16 ***\n",
       "differential.forest.prediction 0.200832   0.616050   0.326 0.3722    \n",
       "---\n",
       "Signif. codes:  0 '***' 0.001 '**' 0.01 '*' 0.05 '.' 0.1 ' ' 1\n"
      ]
     },
     "metadata": {},
     "output_type": "display_data"
    },
    {
     "data": {
      "text/html": [
       "'95% CI for difference in ATE: 0.058 +/- 0.07'"
      ],
      "text/latex": [
       "'95\\% CI for difference in ATE: 0.058 +/- 0.07'"
      ],
      "text/markdown": [
       "'95% CI for difference in ATE: 0.058 +/- 0.07'"
      ],
      "text/plain": [
       "[1] \"95% CI for difference in ATE: 0.058 +/- 0.07\""
      ]
     },
     "metadata": {},
     "output_type": "display_data"
    }
   ],
   "source": [
    "#\n",
    "# Omnibus tests for heterogeneity\n",
    "#\n",
    "\n",
    "# Run best linear predictor analysis\n",
    "test_calibration(cf)\n",
    "\n",
    "# Compare regions with high and low estimated CATEs\n",
    "high_effect = tau.hat > median(tau.hat)\n",
    "ate.high = average_treatment_effect(cf, subset = high_effect)\n",
    "ate.low = average_treatment_effect(cf, subset = !high_effect)\n",
    "paste(\"95% CI for difference in ATE:\",\n",
    "      round(ate.high[1] - ate.low[1], 3), \"+/-\",\n",
    "      round(qnorm(0.975) * sqrt(ate.high[2]^2 + ate.low[2]^2), 3))"
   ]
  },
  {
   "cell_type": "markdown",
   "id": "056bbd23",
   "metadata": {},
   "source": [
    "It finds that if we insists in cluster-robust inference, there's almost no treatment heterogenity present and thus that the causal forest couldn't identify subgroups with effects at stand. \n",
    "\n",
    "Due to this, they try to found if there's heterogenity between two specific variables: $X_1$, pre-existing mindset, and $X_2$, school-level achievement. They find that schools with larger values of $X_1$ have larger effects than schools with smaller values of this variables. However, they do not see much heterogeneity along $X_2$."
   ]
  },
  {
   "cell_type": "code",
   "execution_count": 9,
   "id": "de5944fa",
   "metadata": {},
   "outputs": [
    {
     "data": {
      "text/plain": [
       "\n",
       "\tWelch Two Sample t-test\n",
       "\n",
       "data:  school.score[high.X1] and school.score[!high.X1]\n",
       "t = -3.0365, df = 71.412, p-value = 0.00334\n",
       "alternative hypothesis: true difference in means is not equal to 0\n",
       "95 percent confidence interval:\n",
       " -0.19234741 -0.03987287\n",
       "sample estimates:\n",
       "mean of x mean of y \n",
       "0.1903880 0.3064981 \n"
      ]
     },
     "metadata": {},
     "output_type": "display_data"
    },
    {
     "data": {
      "text/plain": [
       "\n",
       "\tWelch Two Sample t-test\n",
       "\n",
       "data:  school.score[high.X2] and school.score[!high.X2]\n",
       "t = 0.96525, df = 72.286, p-value = 0.3376\n",
       "alternative hypothesis: true difference in means is not equal to 0\n",
       "95 percent confidence interval:\n",
       " -0.0414292  0.1192237\n",
       "sample estimates:\n",
       "mean of x mean of y \n",
       "0.2678917 0.2289944 \n"
      ]
     },
     "metadata": {},
     "output_type": "display_data"
    },
    {
     "data": {
      "text/plain": [
       "                 Df Sum Sq Mean Sq F value Pr(>F)\n",
       "school.X2.levels  2 0.0807 0.04034    1.32  0.273\n",
       "Residuals        73 2.2313 0.03057               "
      ]
     },
     "metadata": {},
     "output_type": "display_data"
    }
   ],
   "source": [
    "#\n",
    "# formal test for X1 and X2\n",
    "#\n",
    "\n",
    "dr.score = tau.hat + W / cf$W.hat *\n",
    "  (Y - cf$Y.hat - (1 - cf$W.hat) * tau.hat) -\n",
    "  (1 - W) / (1 - cf$W.hat) * (Y - cf$Y.hat + cf$W.hat * tau.hat)\n",
    "school.score = t(school.mat) %*% dr.score / school.size\n",
    "\n",
    "school.X1 = t(school.mat) %*% X$X1 / school.size\n",
    "high.X1 = school.X1 > median(school.X1)\n",
    "t.test(school.score[high.X1], school.score[!high.X1])\n",
    "\n",
    "school.X2 = (t(school.mat) %*% X$X2) / school.size\n",
    "high.X2 = school.X2 > median(school.X2)\n",
    "t.test(school.score[high.X2], school.score[!high.X2])\n",
    "\n",
    "school.X2.levels = cut(school.X2,\n",
    "  breaks = c(-Inf, quantile(school.X2, c(1/3, 2/3)), Inf))\n",
    "summary(aov(school.score ~ school.X2.levels))"
   ]
  },
  {
   "cell_type": "markdown",
   "id": "fcb4dd29",
   "metadata": {},
   "source": [
    "### Look at school-wise heterogeneity"
   ]
  },
  {
   "cell_type": "markdown",
   "id": "6d036030",
   "metadata": {},
   "source": [
    "As seen before, there's much perceivable heterogenety at school-level. In order to see if this help us to identify heteregenous effects, we fit models using only school-level covariates. This fact seems to be presented on the next graphs, where the distribution of the school treatment effects and the student expectation success propensity score are shown."
   ]
  },
  {
   "cell_type": "code",
   "execution_count": 10,
   "id": "8d548aa5",
   "metadata": {},
   "outputs": [
    {
     "data": {
      "text/html": [
       "<strong>null device:</strong> 1"
      ],
      "text/latex": [
       "\\textbf{null device:} 1"
      ],
      "text/markdown": [
       "**null device:** 1"
      ],
      "text/plain": [
       "null device \n",
       "          1 "
      ]
     },
     "metadata": {},
     "output_type": "display_data"
    },
    {
     "name": "stdout",
     "output_type": "stream",
     "text": [
      "[1] \"0.248 +/- 0.039\"\n"
     ]
    },
    {
     "data": {
      "image/png": "[encoded data removed]",
      "text/plain": [
       "Plot with title \"\""
      ]
     },
     "metadata": {
      "image/png": {
       "height": 420,
       "width": 420
      }
     },
     "output_type": "display_data"
    }
   ],
   "source": [
    "# Look at school-wise heterogeneity\n",
    "\n",
    "#pdf(\"school_hist.pdf\")\n",
    "\n",
    "\n",
    "pardef = par(mar = c(5, 4, 4, 2) + 0.5, cex.lab=1.5, cex.axis=1.5, cex.main=1.5, cex.sub=1.5)\n",
    "hist(school.score, xlab = \"School Treatment Effect Estimate\", main = \"\")\n",
    "dev.off()\n",
    "\n",
    "#\n",
    "# Re-check ATE... sanity check only\n",
    "#\n",
    "\n",
    "ate.hat = mean(school.score)\n",
    "se.hat = sqrt(var(school.score) / length(school.score - 1))\n",
    "print(paste(round(ate.hat, 3), \"+/-\", round(1.96 * se.hat, 3)))"
   ]
  },
  {
   "cell_type": "markdown",
   "id": "8a4fca87",
   "metadata": {},
   "source": [
    "There is a decent variability in the distibution of school treatment effect estimates, that goes between -0.2 and 0.8. Althought some values are negative, most of the distribution seem to be on the positive side of axis."
   ]
  },
  {
   "cell_type": "code",
   "execution_count": 11,
   "id": "7efd2379",
   "metadata": {
    "scrolled": true
   },
   "outputs": [
    {
     "data": {
      "text/html": [
       "<strong>null device:</strong> 1"
      ],
      "text/latex": [
       "\\textbf{null device:} 1"
      ],
      "text/markdown": [
       "**null device:** 1"
      ],
      "text/plain": [
       "null device \n",
       "          1 "
      ]
     },
     "metadata": {},
     "output_type": "display_data"
    },
    {
     "data": {
      "image/png": "[encoded data removed]",
      "text/plain": [
       "plot without title"
      ]
     },
     "metadata": {
      "image/png": {
       "height": 420,
       "width": 420
      }
     },
     "output_type": "display_data"
    }
   ],
   "source": [
    "#\n",
    "# Look at variation in propensity scores\n",
    "#\n",
    "\n",
    "DF = X\n",
    "DF$W.hat = cf$W.hat\n",
    "\n",
    "#pdf(\"pscore.pdf\")\n",
    "pardef = par(mar = c(5, 4, 4, 2) + 0.5, cex.lab=1.5, cex.axis=1.5, cex.main=1.5, cex.sub=1.5)\n",
    "boxplot(W.hat ~ S3, data = DF, ylab = \"Propensity Score\", xlab = \"Student Expectation of Success\")\n",
    "lines(smooth.spline(X$S3, cf$W.hat), lwd = 2, col = 4)\n",
    "dev.off()"
   ]
  },
  {
   "cell_type": "markdown",
   "id": "72ea397b",
   "metadata": {},
   "source": [
    "In order to see if this effects remain in a simple estimation using only the school-level covariates, we run an random forest and an OLS of the prediction made before and this covariates. Here we find that $X_1$ holds a considerable effect on the predicition and is correlated negatively. Nonetheless, it is not enough evidence to prove heterogeneity to fit a complex model because even here it is not clear if $X_1$ is and effect modififer and more than just the most important predictor because is not significant. \n"
   ]
  },
  {
   "cell_type": "code",
   "execution_count": 32,
   "id": "97198b80",
   "metadata": {},
   "outputs": [
    {
     "data": {
      "text/plain": [
       "\n",
       "Best linear fit using forest predictions (on held-out data)\n",
       "as well as the mean forest prediction as regressors, along\n",
       "with one-sided heteroskedasticity-robust (HC3) SEs:\n",
       "\n",
       "                               Estimate Std. Error t value Pr(>t)    \n",
       "mean.forest.prediction         0.999712   0.082042 12.1854 <2e-16 ***\n",
       "differential.forest.prediction 0.656781   0.685991  0.9574 0.1707    \n",
       "---\n",
       "Signif. codes:  0 '***' 0.001 '**' 0.01 '*' 0.05 '.' 0.1 ' ' 1\n"
      ]
     },
     "metadata": {},
     "output_type": "display_data"
    }
   ],
   "source": [
    "# Train forest on school-wise DR scores\n",
    "#\n",
    "\n",
    "school.X = (t(school.mat) %*% as.matrix(X[,c(4:8, 25:28)])) / school.size\n",
    "school.X = data.frame(school.X)\n",
    "colnames(school.X) = c(\"X1\", \"X2\", \"X3\", \"X4\", \"X5\",\n",
    "                    \"XC.1\", \"XC.2\", \"XC.3\", \"XC.4\")\n",
    "\n",
    "dr.score = tau.hat + W / cf$W.hat * (Y - cf$Y.hat - (1 - cf$W.hat) * tau.hat) -\n",
    "  (1 - W) / (1 - cf$W.hat) * (Y - cf$Y.hat + cf$W.hat * tau.hat)\n",
    "school.score = t(school.mat) %*% dr.score / school.size\n",
    "\n",
    "school.forest = regression_forest(school.X, school.score)\n",
    "school.pred = predict(school.forest)$predictions\n",
    "test_calibration(school.forest)"
   ]
  },
  {
   "cell_type": "code",
   "execution_count": 31,
   "id": "9a4ceb4c",
   "metadata": {
    "scrolled": true
   },
   "outputs": [
    {
     "data": {
      "text/plain": [
       "\n",
       "t test of coefficients:\n",
       "\n",
       "              Estimate Std. Error t value Pr(>|t|)   \n",
       "(Intercept)  0.2412696  0.0771218  3.1284 0.002616 **\n",
       "X1          -0.0504144  0.0291605 -1.7289 0.088509 . \n",
       "X2           0.0127667  0.0336429  0.3795 0.705552   \n",
       "X3           0.0104740  0.0266411  0.3932 0.695474   \n",
       "X4           0.0235292  0.0255123  0.9223 0.359748   \n",
       "X5          -0.0357527  0.0269103 -1.3286 0.188559   \n",
       "XC.1         0.0013382  0.0937302  0.0143 0.988652   \n",
       "XC.2         0.0884114  0.1049088  0.8427 0.402415   \n",
       "XC.3        -0.1346624  0.0876731 -1.5360 0.129329   \n",
       "XC.4         0.0424256  0.0816214  0.5198 0.604952   \n",
       "---\n",
       "Signif. codes:  0 '***' 0.001 '**' 0.01 '*' 0.05 '.' 0.1 ' ' 1\n"
      ]
     },
     "metadata": {},
     "output_type": "display_data"
    }
   ],
   "source": [
    "# Alternative OLS analysis\n",
    "school.DF = data.frame(school.X, school.score=school.score)\n",
    "coeftest(lm(school.score ~ ., data = school.DF), vcov = vcovHC)"
   ]
  },
  {
   "cell_type": "markdown",
   "id": "d763c59a",
   "metadata": {},
   "source": [
    "Here we can see there's seems to be a correlation between the distribution of the propensity score and the student expectation of sucess: more expectation leed to a distribution of the propensity score that holds higher values in comparison to the level of expectations."
   ]
  },
  {
   "cell_type": "markdown",
   "id": "7fd910c5",
   "metadata": {},
   "source": [
    "### Analysis ignoring clusters. How do the results change?"
   ]
  },
  {
   "cell_type": "markdown",
   "id": "a752fa5f",
   "metadata": {},
   "source": [
    "We have seen until now no evidence on heteregenious effects of the treatment considering clusters. This mean we have token into account the possible correlation between students that attend the same school. Althought it will be naive to be believed that this doesn't happend,  it will helpful to analyse whether there exist consistent difference."
   ]
  },
  {
   "cell_type": "code",
   "execution_count": 13,
   "id": "69565bf7",
   "metadata": {},
   "outputs": [
    {
     "data": {
      "text/html": [
       "'95% CI for the ATE: 0.254 +/- 0.022'"
      ],
      "text/latex": [
       "'95\\% CI for the ATE: 0.254 +/- 0.022'"
      ],
      "text/markdown": [
       "'95% CI for the ATE: 0.254 +/- 0.022'"
      ],
      "text/plain": [
       "[1] \"95% CI for the ATE: 0.254 +/- 0.022\""
      ]
     },
     "metadata": {},
     "output_type": "display_data"
    },
    {
     "data": {
      "text/plain": [
       "\n",
       "Best linear fit using forest predictions (on held-out data)\n",
       "as well as the mean forest prediction as regressors, along\n",
       "with one-sided heteroskedasticity-robust (HC3) SEs:\n",
       "\n",
       "                               Estimate Std. Error t value    Pr(>t)    \n",
       "mean.forest.prediction          1.00834    0.04487 22.4724 < 2.2e-16 ***\n",
       "differential.forest.prediction  0.40428    0.11262  3.5897 0.0001663 ***\n",
       "---\n",
       "Signif. codes:  0 '***' 0.001 '**' 0.01 '*' 0.05 '.' 0.1 ' ' 1\n"
      ]
     },
     "metadata": {},
     "output_type": "display_data"
    }
   ],
   "source": [
    "#\n",
    "# Analysis ignoring clusters\n",
    "#\n",
    "\n",
    "cf.noclust = causal_forest(X[,selected.idx], Y, W,\n",
    "                           Y.hat = Y.hat, W.hat = W.hat,\n",
    "                           tune.parameters = \"all\")\n",
    "\n",
    "ATE.noclust = average_treatment_effect(cf.noclust)\n",
    "paste(\"95% CI for the ATE:\", round(ATE.noclust[1], 3),\n",
    "      \"+/-\", round(qnorm(0.975) * ATE.noclust[2], 3))\n",
    "\n",
    "test_calibration(cf.noclust)"
   ]
  },
  {
   "cell_type": "markdown",
   "id": "d8c07616",
   "metadata": {},
   "source": [
    "When ignoring the clustering, we find that the ATE is higher than the one found before (0.258>0.24). However, as we can see in the following graph, it seems that is more disperse that the ATE with clustering."
   ]
  },
  {
   "cell_type": "code",
   "execution_count": 14,
   "id": "3657489b",
   "metadata": {
    "scrolled": true
   },
   "outputs": [
    {
     "data": {
      "image/png": "[encoded data removed]",
      "text/plain": [
       "plot without title"
      ]
     },
     "metadata": {
      "image/png": {
       "height": 420,
       "width": 420
      }
     },
     "output_type": "display_data"
    }
   ],
   "source": [
    "tau.hat.noclust = predict(cf.noclust)$predict\n",
    "plot(school.id, tau.hat.noclust)"
   ]
  },
  {
   "cell_type": "markdown",
   "id": "280bb630",
   "metadata": {},
   "source": [
    "In order to see if this results are robust to any consideration of clsutering, we take this issue into account by trying a 5-fold version where the estimation folds are \"clustered\". To more precise, we split the sample of each school in 5 folds, try a causal forest *without clustering* for 4/5 folds and made CATE estimated in the one left. Also, they run the prediction test on out-of-fold predictions. \n"
   ]
  },
  {
   "cell_type": "code",
   "execution_count": 15,
   "id": "2beb5270",
   "metadata": {},
   "outputs": [
    {
     "name": "stdout",
     "output_type": "stream",
     "text": [
      "[1] 1\n",
      "[1] 2\n",
      "[1] 3\n",
      "[1] 4\n",
      "[1] 5\n"
     ]
    },
    {
     "data": {
      "text/plain": [
       "\n",
       "Best linear fit using forest predictions (on held-out data)\n",
       "as well as the mean forest prediction as regressors, along\n",
       "with one-sided heteroskedasticity-robust (HC3) SEs:\n",
       "\n",
       "                               Estimate Std. Error t value Pr(>t)    \n",
       "mean.forest.prediction         1.001320   0.065828 15.2113 <2e-16 ***\n",
       "differential.forest.prediction 0.279860   0.239488  1.1686 0.1213    \n",
       "---\n",
       "Signif. codes:  0 '***' 0.001 '**' 0.01 '*' 0.05 '.' 0.1 ' ' 1\n"
      ]
     },
     "metadata": {},
     "output_type": "display_data"
    },
    {
     "data": {
      "text/html": [
       "<style>\n",
       ".list-inline {list-style: none; margin:0; padding: 0}\n",
       ".list-inline>li {display: inline-block}\n",
       ".list-inline>li:not(:last-child)::after {content: \"\\00b7\"; padding: 0 .5ex}\n",
       "</style>\n",
       "<ol class=list-inline><li>0.000495362313688963</li><li>0.000393985093913585</li></ol>\n"
      ],
      "text/latex": [
       "\\begin{enumerate*}\n",
       "\\item 0.000495362313688963\n",
       "\\item 0.000393985093913585\n",
       "\\end{enumerate*}\n"
      ],
      "text/markdown": [
       "1. 0.000495362313688963\n",
       "2. 0.000393985093913585\n",
       "\n",
       "\n"
      ],
      "text/plain": [
       "[1] 0.0004953623 0.0003939851"
      ]
     },
     "metadata": {},
     "output_type": "display_data"
    },
    {
     "data": {
      "text/plain": [
       "                     Df Sum Sq Mean Sq F value   Pr(>F)    \n",
       "factor(school.id)    75    201   2.678   1.982 1.02e-06 ***\n",
       "Residuals         10315  13935   1.351                     \n",
       "---\n",
       "Signif. codes:  0 '***' 0.001 '**' 0.01 '*' 0.05 '.' 0.1 ' ' 1"
      ]
     },
     "metadata": {},
     "output_type": "display_data"
    }
   ],
   "source": [
    "nfold = 5\n",
    "school.levels = unique(school.id)\n",
    "cluster.folds = sample.int(nfold, length(school.levels), replace = TRUE)\n",
    "\n",
    "tau.hat.crossfold = rep(NA, length(Y))\n",
    "for (foldid in 1:nfold) {\n",
    "  print(foldid)\n",
    "  infold = school.id %in% school.levels[cluster.folds == foldid]\n",
    "  cf.fold = causal_forest(X[!infold, selected.idx], Y[!infold], W[!infold],\n",
    "                          Y.hat = Y.hat[!infold], W.hat = W.hat[!infold],\n",
    "                          tune.parameters = \"all\")\n",
    "  pred.fold = predict(cf.fold, X[infold, selected.idx])$predictions\n",
    "  tau.hat.crossfold[infold] = pred.fold\n",
    "}\n",
    "\n",
    "cf.noclust.cpy = cf.noclust\n",
    "cf.noclust.cpy$predictions = tau.hat.crossfold\n",
    "cf.noclust.cpy$clusters = school.id\n",
    "test_calibration(cf.noclust.cpy)\n",
    "\n",
    "Rloss = mean(((Y - Y.hat) - tau.hat * (W - W.hat))^2)\n",
    "Rloss.noclust = mean(((Y - Y.hat) - tau.hat.noclust * (W - W.hat))^2)\n",
    "Rloss.crossfold = mean(((Y - Y.hat) - tau.hat.crossfold * (W - W.hat))^2)\n",
    "\n",
    "c(Rloss.noclust - Rloss, Rloss.crossfold - Rloss)\n",
    "\n",
    "summary(aov(dr.score ~ factor(school.id)))"
   ]
  },
  {
   "cell_type": "markdown",
   "id": "1213971b",
   "metadata": {},
   "source": [
    "The significant and heterogeneous effect found by no considering the clusters in school banishes. This tell us that this methods are not safe since they are not robust to clustering, which should be considered. We remain with the result found earlier: there's no enough evidence to assure us that there exist heteregonius effects. "
   ]
  },
  {
   "cell_type": "code",
   "execution_count": 17,
   "id": "65862c86",
   "metadata": {},
   "outputs": [],
   "source": [
    "#install.packages(\"survival\")\n",
    "#install.packages(\"lattice\")\n",
    "#install.packages(\"ggplot2\")\n",
    "#install.packages(\"Hmisc\")"
   ]
  },
  {
   "cell_type": "markdown",
   "id": "2c6a36b0",
   "metadata": {},
   "source": [
    "### Analysis without fitting the propensity score"
   ]
  },
  {
   "cell_type": "markdown",
   "id": "9c570120",
   "metadata": {},
   "source": [
    "We see that propensity score is not as important to the results found as clsutering was since it appers to be that the ATE found (0.254) is very much similar to the one found using orthogalization. As we can see in the followin figure, the overlaped distribution are almost the same because they are really close to the 45 degree line that means equiality between the two variables (that are the estimates)."
   ]
  },
  {
   "cell_type": "code",
   "execution_count": 18,
   "id": "382cb4d3",
   "metadata": {},
   "outputs": [
    {
     "data": {
      "text/html": [
       "'95% CI for the ATE: 0.254 +/- 0.039'"
      ],
      "text/latex": [
       "'95\\% CI for the ATE: 0.254 +/- 0.039'"
      ],
      "text/markdown": [
       "'95% CI for the ATE: 0.254 +/- 0.039'"
      ],
      "text/plain": [
       "[1] \"95% CI for the ATE: 0.254 +/- 0.039\""
      ]
     },
     "metadata": {},
     "output_type": "display_data"
    },
    {
     "data": {
      "text/html": [
       "<strong>null device:</strong> 1"
      ],
      "text/latex": [
       "\\textbf{null device:} 1"
      ],
      "text/markdown": [
       "**null device:** 1"
      ],
      "text/plain": [
       "null device \n",
       "          1 "
      ]
     },
     "metadata": {},
     "output_type": "display_data"
    },
    {
     "data": {
      "image/png": "[encoded data removed]",
      "text/plain": [
       "plot without title"
      ]
     },
     "metadata": {
      "image/png": {
       "height": 420,
       "width": 420
      }
     },
     "output_type": "display_data"
    }
   ],
   "source": [
    "#\n",
    "# Analaysis without fitting the propensity score\n",
    "#\n",
    "\n",
    "cf.noprop = causal_forest(X[,selected.idx], Y, W,\n",
    "                          Y.hat = Y.hat, W.hat = mean(W),\n",
    "                          tune.parameters = \"all\",\n",
    "                          equalize.cluster.weights = TRUE,\n",
    "                          clusters = school.id)\n",
    "tau.hat.noprop = predict(cf.noprop)$predictions\n",
    "\n",
    "ATE.noprop = average_treatment_effect(cf.noprop)\n",
    "paste(\"95% CI for the ATE:\", round(ATE.noprop[1], 3),\n",
    "      \"+/-\", round(qnorm(0.975) * ATE.noprop[2], 3))\n",
    "\n",
    "#pdf(\"tauhat_noprop.pdf\")\n",
    "pardef = par(mar = c(5, 4, 4, 2) + 0.5, cex.lab=1.5, cex.axis=1.5, cex.main=1.5, cex.sub=1.5)\n",
    "plot(tau.hat, tau.hat.noprop,\n",
    "     xlim = range(tau.hat, tau.hat.noprop),\n",
    "     ylim = range(tau.hat, tau.hat.noprop),\n",
    "     xlab = \"orthogonalized causal forest estimates\",\n",
    "     ylab = \"non-orthogonalized causal forest\")\n",
    "abline(0, 1, lwd = 2, lty = 2, col = 4)\n",
    "par = pardef\n",
    "dev.off()"
   ]
  },
  {
   "cell_type": "markdown",
   "id": "83de83f7",
   "metadata": {},
   "source": [
    "This can be due to that the covariates that help to predict X are the ones that help to predict Y. Since what we do in partialling out is taking away the effect of this covariates (that can change between  X and Y) in each of this variables, and this ones seem to be the same to both of them, then Partialling out would be the same as doing an OLS. \n",
    "\n",
    "However, we can radizalize the situation and try to see what would happend if we had an covariates that had more correlation with $W_i$ than with $Y_i$, meaning that the covariates partialled out are different for both of them. It is fpund that apparently there seems to be no significance in the ATE found. "
   ]
  },
  {
   "cell_type": "code",
   "execution_count": 19,
   "id": "2183efe3",
   "metadata": {},
   "outputs": [
    {
     "data": {
      "text/html": [
       "'95% CI for the ATE: -0.055 +/- 0.144'"
      ],
      "text/latex": [
       "'95\\% CI for the ATE: -0.055 +/- 0.144'"
      ],
      "text/markdown": [
       "'95% CI for the ATE: -0.055 +/- 0.144'"
      ],
      "text/plain": [
       "[1] \"95% CI for the ATE: -0.055 +/- 0.144\""
      ]
     },
     "metadata": {},
     "output_type": "display_data"
    },
    {
     "data": {
      "text/html": [
       "'95% CI for the ATE: 0.055 +/- 0.143'"
      ],
      "text/latex": [
       "'95\\% CI for the ATE: 0.055 +/- 0.143'"
      ],
      "text/markdown": [
       "'95% CI for the ATE: 0.055 +/- 0.143'"
      ],
      "text/plain": [
       "[1] \"95% CI for the ATE: 0.055 +/- 0.143\""
      ]
     },
     "metadata": {},
     "output_type": "display_data"
    }
   ],
   "source": [
    "#\n",
    "# Experiment with no orthogonalization\n",
    "#\n",
    "\n",
    "n.synth = 1000\n",
    "p.synth = 10\n",
    "X.synth = matrix(rnorm(n.synth * p.synth), n.synth, p.synth)\n",
    "W.synth = rbinom(n.synth, 1, 1 / (1 + exp(-X.synth[,1])))\n",
    "Y.synth = 2 * rowMeans(X.synth[,1:6]) + rnorm(n.synth)\n",
    "\n",
    "Y.forest.synth = regression_forest(X.synth, Y.synth)\n",
    "Y.hat.synth = predict(Y.forest.synth)$predictions\n",
    "W.forest.synth = regression_forest(X.synth, W.synth)\n",
    "W.hat.synth = predict(W.forest.synth)$predictions\n",
    "\n",
    "cf.synth = causal_forest(X.synth, Y.synth, W.synth,\n",
    "                         Y.hat = Y.hat.synth, W.hat = W.hat.synth)\n",
    "ATE.synth = average_treatment_effect(cf.synth)\n",
    "paste(\"95% CI for the ATE:\", round(ATE.synth[1], 3),\n",
    "      \"+/-\", round(qnorm(0.975) * ATE.synth[2], 3))\n",
    "\n",
    "cf.synth.noprop = causal_forest(X.synth, Y.synth, W.synth,\n",
    "                                Y.hat = Y.hat.synth, W.hat = mean(W.synth))\n",
    "ATE.synth.noprop = average_treatment_effect(cf.synth.noprop)\n",
    "paste(\"95% CI for the ATE:\", round(ATE.synth.noprop[1], 3),\n",
    "      \"+/-\", round(qnorm(0.975) * ATE.synth.noprop[2], 3))"
   ]
  },
  {
   "cell_type": "markdown",
   "id": "700948f2",
   "metadata": {},
   "source": [
    "### Some plots"
   ]
  },
  {
   "cell_type": "code",
   "execution_count": 21,
   "id": "ae36fbcb",
   "metadata": {},
   "outputs": [
    {
     "data": {
      "text/html": [
       "<strong>null device:</strong> 1"
      ],
      "text/latex": [
       "\\textbf{null device:} 1"
      ],
      "text/markdown": [
       "**null device:** 1"
      ],
      "text/plain": [
       "null device \n",
       "          1 "
      ]
     },
     "metadata": {},
     "output_type": "display_data"
    },
    {
     "data": {
      "image/png": "[encoded data removed]",
      "text/plain": [
       "Plot with title \"\""
      ]
     },
     "metadata": {
      "image/png": {
       "height": 420,
       "width": 420
      }
     },
     "output_type": "display_data"
    }
   ],
   "source": [
    "#\n",
    "# Make some plots...\n",
    "#\n",
    "\n",
    "#pdf(\"tauhat_hist.pdf\")\n",
    "pardef = par(mar = c(5, 4, 4, 2) + 0.5, cex.lab=1.5, cex.axis=1.5, cex.main=1.5, cex.sub=1.5)\n",
    "hist(tau.hat, xlab = \"estimated CATE\", main = \"\")\n",
    "dev.off()"
   ]
  },
  {
   "cell_type": "markdown",
   "id": "3a77a01a",
   "metadata": {},
   "source": [
    "Here is the distribution of the estimated CATE using clustering and orthogonzization. As we can see, the distribution is not very disperse (concentrates basically on 0.2 y 0.3) and it's no too large considering this values. This make us question whether there exist significant heteregenous effects, and, as seen before, there seems no to be heteregenous effects. "
   ]
  },
  {
   "cell_type": "code",
   "execution_count": 22,
   "id": "392cec96",
   "metadata": {},
   "outputs": [
    {
     "data": {
      "text/html": [
       "<strong>null device:</strong> 1"
      ],
      "text/latex": [
       "\\textbf{null device:} 1"
      ],
      "text/markdown": [
       "**null device:** 1"
      ],
      "text/plain": [
       "null device \n",
       "          1 "
      ]
     },
     "metadata": {},
     "output_type": "display_data"
    },
    {
     "data": {
      "image/png": "[encoded data removed]",
      "text/plain": [
       "Plot with title \"\""
      ]
     },
     "metadata": {
      "image/png": {
       "height": 420,
       "width": 420
      }
     },
     "output_type": "display_data"
    }
   ],
   "source": [
    "#pdf(\"tauhat_hist_noprop.pdf\")\n",
    "pardef = par(mar = c(5, 4, 4, 2) + 0.5, cex.lab=1.5, cex.axis=1.5, cex.main=1.5, cex.sub=1.5)\n",
    "hist(tau.hat.noprop, xlab = \"estimated CATE\", main = \"\")\n",
    "dev.off()"
   ]
  },
  {
   "cell_type": "markdown",
   "id": "1e3a801e",
   "metadata": {},
   "source": [
    "When we don't consider the propensity score that helps us to regulate for the large of the school, we found that this effect is very similar to the one found when we take into account this. As we can see, this ATE is concentrated between the same values as the previous one (0.2 and 0.3), holding the same hypothesis as before: there's not enough evidence to prove heterogenous effects between schools. "
   ]
  },
  {
   "cell_type": "code",
   "execution_count": 34,
   "id": "efa14d2f",
   "metadata": {},
   "outputs": [
    {
     "data": {
      "text/html": [
       "<strong>null device:</strong> 1"
      ],
      "text/latex": [
       "\\textbf{null device:} 1"
      ],
      "text/markdown": [
       "**null device:** 1"
      ],
      "text/plain": [
       "null device \n",
       "          1 "
      ]
     },
     "metadata": {},
     "output_type": "display_data"
    },
    {
     "data": {
      "image/png": "[encoded data removed]",
      "text/plain": [
       "Plot with title \"\""
      ]
     },
     "metadata": {
      "image/png": {
       "height": 420,
       "width": 420
      }
     },
     "output_type": "display_data"
    }
   ],
   "source": [
    "#pdf(\"tauhat_hist_noclust.pdf\")\n",
    "pardef = par(mar = c(5, 4, 4, 2) + 0.5, cex.lab=1.5, cex.axis=1.5, cex.main=1.5, cex.sub=1.5)\n",
    "hist(tau.hat.noclust, xlab = \"estimated CATE\", main = \"\")\n",
    "dev.off()"
   ]
  },
  {
   "cell_type": "markdown",
   "id": "8bf83757",
   "metadata": {},
   "source": [
    "This result is very different when we ignore the clusters. As found before. We find that the distribution of the ATE seems to hold higher values than when considering clustering, but at the same time the distribution is more disperse since now is between 0.0 a 0.6 (almost the triple size of the range!). However, as hold before, this a naive approach since it ignores the possible correlations of the student's errors that attend the same school."
   ]
  },
  {
   "cell_type": "code",
   "execution_count": 24,
   "id": "968ac47c",
   "metadata": {},
   "outputs": [
    {
     "data": {
      "text/html": [
       "<strong>null device:</strong> 1"
      ],
      "text/latex": [
       "\\textbf{null device:} 1"
      ],
      "text/markdown": [
       "**null device:** 1"
      ],
      "text/plain": [
       "null device \n",
       "          1 "
      ]
     },
     "metadata": {},
     "output_type": "display_data"
    },
    {
     "data": {
      "text/html": [
       "<strong>null device:</strong> 1"
      ],
      "text/latex": [
       "\\textbf{null device:} 1"
      ],
      "text/markdown": [
       "**null device:** 1"
      ],
      "text/plain": [
       "null device \n",
       "          1 "
      ]
     },
     "metadata": {},
     "output_type": "display_data"
    },
    {
     "data": {
      "image/png": "[encoded data removed]",
      "text/plain": [
       "plot without title"
      ]
     },
     "metadata": {
      "image/png": {
       "height": 420,
       "width": 420
      }
     },
     "output_type": "display_data"
    }
   ],
   "source": [
    "#pdf(\"tauhat_vs_X1.pdf\")\n",
    "pardef = par(mar = c(5, 4, 4, 2) + 0.5, cex.lab=1.5, cex.axis=1.5, cex.main=1.5, cex.sub=1.5)\n",
    "boxplot(tau.hat ~ round(X$X1), xlab = \"X1\", ylab = \"estimated CATE\")\n",
    "lines(smooth.spline(4 + X[,\"X1\"], tau.hat, df = 4), lwd = 2, col = 4)\n",
    "dev.off()\n",
    "\n",
    "#pdf(\"tauhat_vs_X2.pdf\")\n",
    "pardef = par(mar = c(5, 4, 4, 2) + 0.5, cex.lab=1.5, cex.axis=1.5, cex.main=1.5, cex.sub=1.5)\n",
    "boxplot(tau.hat ~ round(X$X2), xlab = \"X2\", ylab = \"estimated CATE\")\n",
    "lines(smooth.spline(4 + X[,\"X2\"], tau.hat, df = 4), lwd = 2, col = 4)\n",
    "dev.off()\n",
    "\n",
    "school.avg.tauhat = t(school.mat) %*% tau.hat / school.size"
   ]
  },
  {
   "cell_type": "markdown",
   "id": "772fbf7d",
   "metadata": {},
   "source": [
    "This plot demostrates the importance of the $X_i$ variable that is the school-level mean of students' fixed mindsets. As we can see, there seem to be a negative relation between the value of this variable and the CATE found. This explains us why is the best predictor of the measure of achievement $Y$. Nonetheless, as seen before, there's no enough evidence that this variable, when controled by other ones, is enough to prove heterogenity between the effects."
   ]
  },
  {
   "cell_type": "code",
   "execution_count": 25,
   "id": "30a2ce3c",
   "metadata": {},
   "outputs": [
    {
     "data": {
      "text/html": [
       "<strong>null device:</strong> 1"
      ],
      "text/latex": [
       "\\textbf{null device:} 1"
      ],
      "text/markdown": [
       "**null device:** 1"
      ],
      "text/plain": [
       "null device \n",
       "          1 "
      ]
     },
     "metadata": {},
     "output_type": "display_data"
    },
    {
     "data": {
      "image/png": "[encoded data removed]",
      "text/plain": [
       "plot without title"
      ]
     },
     "metadata": {
      "image/png": {
       "height": 420,
       "width": 420
      }
     },
     "output_type": "display_data"
    }
   ],
   "source": [
    "#pdf(\"school_avg.pdf\")\n",
    "pardef = par(mar = c(5, 4, 4, 2) + 0.5, cex.lab=1.5, cex.axis=1.5, cex.main=1.5, cex.sub=1.5)\n",
    "plot(school.avg.tauhat, school.pred, cex = 1.5,\n",
    "     xlim = range(school.avg.tauhat, school.pred),\n",
    "     ylim = range(school.avg.tauhat, school.pred),\n",
    "     xlab = \"average CATE estimate in school\",\n",
    "     ylab = \"school-wise forest predictions\")\n",
    "abline(0, 1, lwd = 2, lty = 2, col = 4)\n",
    "par = pardef\n",
    "dev.off()"
   ]
  },
  {
   "cell_type": "markdown",
   "id": "db46bbb9",
   "metadata": {},
   "source": [
    "This graphs shows us the positive relation between the school-level predictions using school-level covariates and the average CATE estimates in school. This means that higher predictions of the measures of achievement are found when the average CATE estimate in a school is also higher. "
   ]
  },
  {
   "cell_type": "markdown",
   "id": "e27dcef4",
   "metadata": {},
   "source": [
    "### Visualize school-level covariates by treatment heterogeneity"
   ]
  },
  {
   "cell_type": "code",
   "execution_count": 26,
   "id": "ea748c84",
   "metadata": {},
   "outputs": [
    {
     "data": {
      "text/html": [
       "0.210526315789474"
      ],
      "text/latex": [
       "0.210526315789474"
      ],
      "text/markdown": [
       "0.210526315789474"
      ],
      "text/plain": [
       "[1] 0.2105263"
      ]
     },
     "metadata": {},
     "output_type": "display_data"
    },
    {
     "data": {
      "text/html": [
       "0.538461538461538"
      ],
      "text/latex": [
       "0.538461538461538"
      ],
      "text/markdown": [
       "0.538461538461538"
      ],
      "text/plain": [
       "[1] 0.5384615"
      ]
     },
     "metadata": {},
     "output_type": "display_data"
    },
    {
     "data": {
      "image/png": "[encoded data removed]",
      "text/plain": [
       "plot without title"
      ]
     },
     "metadata": {
      "image/png": {
       "height": 420,
       "width": 420
      }
     },
     "output_type": "display_data"
    }
   ],
   "source": [
    "#\n",
    "# Visualize school-level covariates by treatment heterogeneity\n",
    "#\n",
    "\n",
    "school.X.std = scale(school.X)\n",
    "school.tercile = cut(school.pred,\n",
    "                     breaks = c(-Inf, quantile(school.pred, c(1/3, 2/3)), Inf))\n",
    "school.tercile.mat = model.matrix(~ school.tercile + 0)\n",
    "school.means = diag(1 / colSums(school.tercile.mat)) %*% t(school.tercile.mat) %*% as.matrix(school.X.std)\n",
    "\n",
    "MM = max(abs(school.means))\n",
    "HC = heat.colors(21)\n",
    "school.col = apply(school.means, 1:2, function(aa) HC[1 + round(20 * (0.5 + aa))])\n",
    "\n",
    "DF.plot = data.frame(tercile=rep(factor(1:3, labels=c(\"low\", \"mid\", \"high\")), 9), mean=as.numeric(school.means),\n",
    "                     feature = factor(rbind(colnames(school.X), colnames(school.X), colnames(school.X))))\n",
    "\n",
    "ggplot(data = DF.plot, aes(x = feature, y = tercile, fill = mean)) +\n",
    "    geom_tile() + scale_fill_gradient(low = \"white\", high = \"steelblue\") +\n",
    "    theme(axis.text = element_text(size=12), axis.title = element_text(size=14),\n",
    "          legend.title = element_text(size=14), legend.text = element_text(size=12)) +\n",
    "    theme(panel.background = element_blank())\n",
    "ggsave(\"tercile_plot.pdf\", width = 8, height = 4.5, dpi = 120)\n",
    "\n",
    "mean(school.X$XC.3)\n",
    "mean(school.X$XC.3[as.numeric(school.tercile) == 1])\n",
    "\n",
    "                   "
   ]
  },
  {
   "cell_type": "markdown",
   "id": "30bf90a1",
   "metadata": {},
   "source": [
    "This graph show us the difference between the mean of the CATE for each school-level covariate considered in the school-wise estimation. We can see that there is not much hetereginty between the means in all covariates but the $X_1$, where the difference between the low and high group of CATEs. This reminds us that even if it seem to be variability in the effects when we divide by this covariate, there's not enough evidence that controling with the other covariates this effect will remain even when analysing the data at school-level."
   ]
  },
  {
   "cell_type": "markdown",
   "id": "4fb62e30",
   "metadata": {},
   "source": [
    "### CATE by school"
   ]
  },
  {
   "cell_type": "code",
   "execution_count": 27,
   "id": "8df6692c",
   "metadata": {},
   "outputs": [
    {
     "data": {
      "text/html": [
       "<strong>null device:</strong> 1"
      ],
      "text/latex": [
       "\\textbf{null device:} 1"
      ],
      "text/markdown": [
       "**null device:** 1"
      ],
      "text/plain": [
       "null device \n",
       "          1 "
      ]
     },
     "metadata": {},
     "output_type": "display_data"
    },
    {
     "data": {
      "image/png": "[encoded data removed]",
      "text/plain": [
       "plot without title"
      ]
     },
     "metadata": {
      "image/png": {
       "height": 420,
       "width": 420
      }
     },
     "output_type": "display_data"
    }
   ],
   "source": [
    "#\n",
    "# CATE by school\n",
    "#\n",
    "\n",
    "ord = order(order(school.pred))\n",
    "school.sort = ord[school.id]\n",
    "\n",
    "#pdf(\"school_boxplot.pdf\")\n",
    "pardef = par(mar = c(5, 4, 4, 2) + 0.5, cex.lab=1.5, cex.axis=1.5, cex.main=1.5, cex.sub=1.5)\n",
    "boxplot(tau.hat.noclust ~ school.sort, xaxt = \"n\",\n",
    "        xlab = \"school\", ylab = \"estimated CATE\")\n",
    "points(1:76, sort(school.pred), col = 4, pch = 16)\n",
    "legend(\"topleft\", c(\"school mean CATE\", \"CATE w/o clustering\"), pch = c(16, 1), col = c(4, 1), cex = 1.5)\n",
    "par = pardef\n",
    "dev.off()"
   ]
  },
  {
   "cell_type": "markdown",
   "id": "85dc25b7",
   "metadata": {},
   "source": [
    "This graph compares per-student predictions from a non-cluster-robust causal forest to per-school mean treatment effect predictions from a forest trained on per-school responses that takes clustering into account. As seen before. We can see that CATE found in when ignoring clusters is higher and more disperse by school than when considering clusters. "
   ]
  },
  {
   "cell_type": "markdown",
   "id": "11967071",
   "metadata": {
    "papermill": {
     "duration": 0.016442,
     "end_time": "2021-02-13T17:30:13.246048",
     "exception": false,
     "start_time": "2021-02-13T17:30:13.229606",
     "status": "completed"
    },
    "tags": []
   },
   "source": [
    "# A Case Study: Barro-Lee growth data"
   ]
  },
  {
   "cell_type": "markdown",
   "id": "2def6d67",
   "metadata": {
    "papermill": {
     "duration": 0.016649,
     "end_time": "2021-02-13T17:30:13.315270",
     "exception": false,
     "start_time": "2021-02-13T17:30:13.298621",
     "status": "completed"
    },
    "tags": []
   },
   "source": [
    "## Data"
   ]
  },
  {
   "cell_type": "markdown",
   "id": "4f1e171d",
   "metadata": {
    "papermill": {
     "duration": 0.018756,
     "end_time": "2021-02-13T17:30:13.351290",
     "exception": false,
     "start_time": "2021-02-13T17:30:13.332534",
     "status": "completed"
    },
    "tags": []
   },
   "source": [
    "$Y_{j,t}$ is grwth rate in country $j$ at time $t$, $D_{j, t-1}$ is  initial wealth in country $j$ at time $t-1$  and  $Z_{j,t}$ is a set of demographic and economic characteristics of country $j$ at time $t$."
   ]
  },
  {
   "cell_type": "code",
   "execution_count": 119,
   "id": "070c19eb",
   "metadata": {},
   "outputs": [],
   "source": [
    "library(hdm)\n",
    "library(xtable)"
   ]
  },
  {
   "cell_type": "code",
   "execution_count": 120,
   "id": "e6aba473",
   "metadata": {},
   "outputs": [],
   "source": [
    "# Export data to read in python\n",
    "GrowthData <- GrowthData\n",
    "save(GrowthData, file = \"../GrowthData.RData\")"
   ]
  },
  {
   "cell_type": "code",
   "execution_count": 121,
   "id": "36537757",
   "metadata": {},
   "outputs": [
    {
     "name": "stderr",
     "output_type": "stream",
     "text": [
      "The following objects are masked from data (pos = 7):\n",
      "\n",
      "    bmp1l, ex1, fert1, fert65, freeop, freetar, gde1, gdpsh465,\n",
      "    geerec1, geetot1, govsh41, govwb1, gpop1, gvxdxe41, h65, hf65,\n",
      "    high65, highc65, highcf65, highcm65, highf65, highm65, hm65,\n",
      "    human65, humanf65, humanm65, hyr65, hyrf65, hyrm65, im1, intercept,\n",
      "    invsh41, lifee065, mort1, mort65, no65, nof65, nom65, Outcome, p65,\n",
      "    pf65, pinstab1, pm65, pop1565, pop65, pop6565, s65, sec65, secc65,\n",
      "    seccf65, seccm65, secf65, secm65, sf65, sm65, syr65, syrf65,\n",
      "    syrm65, teapri65, teasec65, tot1, worker65, xr65\n",
      "\n"
     ]
    },
    {
     "data": {
      "text/html": [
       "<ol class=list-inline>\n",
       "\t<li>'Outcome'</li>\n",
       "\t<li>'intercept'</li>\n",
       "\t<li>'gdpsh465'</li>\n",
       "\t<li>'bmp1l'</li>\n",
       "\t<li>'freeop'</li>\n",
       "\t<li>'freetar'</li>\n",
       "\t<li>'h65'</li>\n",
       "\t<li>'hm65'</li>\n",
       "\t<li>'hf65'</li>\n",
       "\t<li>'p65'</li>\n",
       "\t<li>'pm65'</li>\n",
       "\t<li>'pf65'</li>\n",
       "\t<li>'s65'</li>\n",
       "\t<li>'sm65'</li>\n",
       "\t<li>'sf65'</li>\n",
       "\t<li>'fert65'</li>\n",
       "\t<li>'mort65'</li>\n",
       "\t<li>'lifee065'</li>\n",
       "\t<li>'gpop1'</li>\n",
       "\t<li>'fert1'</li>\n",
       "\t<li>'mort1'</li>\n",
       "\t<li>'invsh41'</li>\n",
       "\t<li>'geetot1'</li>\n",
       "\t<li>'geerec1'</li>\n",
       "\t<li>'gde1'</li>\n",
       "\t<li>'govwb1'</li>\n",
       "\t<li>'govsh41'</li>\n",
       "\t<li>'gvxdxe41'</li>\n",
       "\t<li>'high65'</li>\n",
       "\t<li>'highm65'</li>\n",
       "\t<li>'highf65'</li>\n",
       "\t<li>'highc65'</li>\n",
       "\t<li>'highcm65'</li>\n",
       "\t<li>'highcf65'</li>\n",
       "\t<li>'human65'</li>\n",
       "\t<li>'humanm65'</li>\n",
       "\t<li>'humanf65'</li>\n",
       "\t<li>'hyr65'</li>\n",
       "\t<li>'hyrm65'</li>\n",
       "\t<li>'hyrf65'</li>\n",
       "\t<li>'no65'</li>\n",
       "\t<li>'nom65'</li>\n",
       "\t<li>'nof65'</li>\n",
       "\t<li>'pinstab1'</li>\n",
       "\t<li>'pop65'</li>\n",
       "\t<li>'worker65'</li>\n",
       "\t<li>'pop1565'</li>\n",
       "\t<li>'pop6565'</li>\n",
       "\t<li>'sec65'</li>\n",
       "\t<li>'secm65'</li>\n",
       "\t<li>'secf65'</li>\n",
       "\t<li>'secc65'</li>\n",
       "\t<li>'seccm65'</li>\n",
       "\t<li>'seccf65'</li>\n",
       "\t<li>'syr65'</li>\n",
       "\t<li>'syrm65'</li>\n",
       "\t<li>'syrf65'</li>\n",
       "\t<li>'teapri65'</li>\n",
       "\t<li>'teasec65'</li>\n",
       "\t<li>'ex1'</li>\n",
       "\t<li>'im1'</li>\n",
       "\t<li>'xr65'</li>\n",
       "\t<li>'tot1'</li>\n",
       "</ol>\n"
      ],
      "text/latex": [
       "\\begin{enumerate*}\n",
       "\\item 'Outcome'\n",
       "\\item 'intercept'\n",
       "\\item 'gdpsh465'\n",
       "\\item 'bmp1l'\n",
       "\\item 'freeop'\n",
       "\\item 'freetar'\n",
       "\\item 'h65'\n",
       "\\item 'hm65'\n",
       "\\item 'hf65'\n",
       "\\item 'p65'\n",
       "\\item 'pm65'\n",
       "\\item 'pf65'\n",
       "\\item 's65'\n",
       "\\item 'sm65'\n",
       "\\item 'sf65'\n",
       "\\item 'fert65'\n",
       "\\item 'mort65'\n",
       "\\item 'lifee065'\n",
       "\\item 'gpop1'\n",
       "\\item 'fert1'\n",
       "\\item 'mort1'\n",
       "\\item 'invsh41'\n",
       "\\item 'geetot1'\n",
       "\\item 'geerec1'\n",
       "\\item 'gde1'\n",
       "\\item 'govwb1'\n",
       "\\item 'govsh41'\n",
       "\\item 'gvxdxe41'\n",
       "\\item 'high65'\n",
       "\\item 'highm65'\n",
       "\\item 'highf65'\n",
       "\\item 'highc65'\n",
       "\\item 'highcm65'\n",
       "\\item 'highcf65'\n",
       "\\item 'human65'\n",
       "\\item 'humanm65'\n",
       "\\item 'humanf65'\n",
       "\\item 'hyr65'\n",
       "\\item 'hyrm65'\n",
       "\\item 'hyrf65'\n",
       "\\item 'no65'\n",
       "\\item 'nom65'\n",
       "\\item 'nof65'\n",
       "\\item 'pinstab1'\n",
       "\\item 'pop65'\n",
       "\\item 'worker65'\n",
       "\\item 'pop1565'\n",
       "\\item 'pop6565'\n",
       "\\item 'sec65'\n",
       "\\item 'secm65'\n",
       "\\item 'secf65'\n",
       "\\item 'secc65'\n",
       "\\item 'seccm65'\n",
       "\\item 'seccf65'\n",
       "\\item 'syr65'\n",
       "\\item 'syrm65'\n",
       "\\item 'syrf65'\n",
       "\\item 'teapri65'\n",
       "\\item 'teasec65'\n",
       "\\item 'ex1'\n",
       "\\item 'im1'\n",
       "\\item 'xr65'\n",
       "\\item 'tot1'\n",
       "\\end{enumerate*}\n"
      ],
      "text/markdown": [
       "1. 'Outcome'\n",
       "2. 'intercept'\n",
       "3. 'gdpsh465'\n",
       "4. 'bmp1l'\n",
       "5. 'freeop'\n",
       "6. 'freetar'\n",
       "7. 'h65'\n",
       "8. 'hm65'\n",
       "9. 'hf65'\n",
       "10. 'p65'\n",
       "11. 'pm65'\n",
       "12. 'pf65'\n",
       "13. 's65'\n",
       "14. 'sm65'\n",
       "15. 'sf65'\n",
       "16. 'fert65'\n",
       "17. 'mort65'\n",
       "18. 'lifee065'\n",
       "19. 'gpop1'\n",
       "20. 'fert1'\n",
       "21. 'mort1'\n",
       "22. 'invsh41'\n",
       "23. 'geetot1'\n",
       "24. 'geerec1'\n",
       "25. 'gde1'\n",
       "26. 'govwb1'\n",
       "27. 'govsh41'\n",
       "28. 'gvxdxe41'\n",
       "29. 'high65'\n",
       "30. 'highm65'\n",
       "31. 'highf65'\n",
       "32. 'highc65'\n",
       "33. 'highcm65'\n",
       "34. 'highcf65'\n",
       "35. 'human65'\n",
       "36. 'humanm65'\n",
       "37. 'humanf65'\n",
       "38. 'hyr65'\n",
       "39. 'hyrm65'\n",
       "40. 'hyrf65'\n",
       "41. 'no65'\n",
       "42. 'nom65'\n",
       "43. 'nof65'\n",
       "44. 'pinstab1'\n",
       "45. 'pop65'\n",
       "46. 'worker65'\n",
       "47. 'pop1565'\n",
       "48. 'pop6565'\n",
       "49. 'sec65'\n",
       "50. 'secm65'\n",
       "51. 'secf65'\n",
       "52. 'secc65'\n",
       "53. 'seccm65'\n",
       "54. 'seccf65'\n",
       "55. 'syr65'\n",
       "56. 'syrm65'\n",
       "57. 'syrf65'\n",
       "58. 'teapri65'\n",
       "59. 'teasec65'\n",
       "60. 'ex1'\n",
       "61. 'im1'\n",
       "62. 'xr65'\n",
       "63. 'tot1'\n",
       "\n",
       "\n"
      ],
      "text/plain": [
       " [1] \"Outcome\"   \"intercept\" \"gdpsh465\"  \"bmp1l\"     \"freeop\"    \"freetar\"  \n",
       " [7] \"h65\"       \"hm65\"      \"hf65\"      \"p65\"       \"pm65\"      \"pf65\"     \n",
       "[13] \"s65\"       \"sm65\"      \"sf65\"      \"fert65\"    \"mort65\"    \"lifee065\" \n",
       "[19] \"gpop1\"     \"fert1\"     \"mort1\"     \"invsh41\"   \"geetot1\"   \"geerec1\"  \n",
       "[25] \"gde1\"      \"govwb1\"    \"govsh41\"   \"gvxdxe41\"  \"high65\"    \"highm65\"  \n",
       "[31] \"highf65\"   \"highc65\"   \"highcm65\"  \"highcf65\"  \"human65\"   \"humanm65\" \n",
       "[37] \"humanf65\"  \"hyr65\"     \"hyrm65\"    \"hyrf65\"    \"no65\"      \"nom65\"    \n",
       "[43] \"nof65\"     \"pinstab1\"  \"pop65\"     \"worker65\"  \"pop1565\"   \"pop6565\"  \n",
       "[49] \"sec65\"     \"secm65\"    \"secf65\"    \"secc65\"    \"seccm65\"   \"seccf65\"  \n",
       "[55] \"syr65\"     \"syrm65\"    \"syrf65\"    \"teapri65\"  \"teasec65\"  \"ex1\"      \n",
       "[61] \"im1\"       \"xr65\"      \"tot1\"     "
      ]
     },
     "metadata": {},
     "output_type": "display_data"
    }
   ],
   "source": [
    "library(hdm)\n",
    "data <- GrowthData\n",
    "attach(data)\n",
    "names(data)"
   ]
  },
  {
   "cell_type": "code",
   "execution_count": 122,
   "id": "50d8d4f8",
   "metadata": {},
   "outputs": [
    {
     "data": {
      "text/html": [
       "<table>\n",
       "<thead><tr><th scope=col>Outcome</th><th scope=col>intercept</th><th scope=col>gdpsh465</th><th scope=col>bmp1l</th><th scope=col>freeop</th><th scope=col>freetar</th><th scope=col>h65</th><th scope=col>hm65</th><th scope=col>hf65</th><th scope=col>p65</th><th scope=col>...</th><th scope=col>seccf65</th><th scope=col>syr65</th><th scope=col>syrm65</th><th scope=col>syrf65</th><th scope=col>teapri65</th><th scope=col>teasec65</th><th scope=col>ex1</th><th scope=col>im1</th><th scope=col>xr65</th><th scope=col>tot1</th></tr></thead>\n",
       "<tbody>\n",
       "\t<tr><td>-0.02433575</td><td>1          </td><td>6.591674   </td><td>0.2837     </td><td>0.153491   </td><td>0.043888   </td><td>0.007      </td><td>0.013      </td><td>0.001      </td><td>0.29       </td><td>...        </td><td> 0.04      </td><td>0.033      </td><td>0.057      </td><td>0.010      </td><td>47.6       </td><td>17.3       </td><td>0.0729     </td><td>0.0667     </td><td>0.348      </td><td>-0.014727  </td></tr>\n",
       "\t<tr><td> 0.10047257</td><td>1          </td><td>6.829794   </td><td>0.6141     </td><td>0.313509   </td><td>0.061827   </td><td>0.019      </td><td>0.032      </td><td>0.007      </td><td>0.91       </td><td>...        </td><td> 0.64      </td><td>0.173      </td><td>0.274      </td><td>0.067      </td><td>57.1       </td><td>18.0       </td><td>0.0940     </td><td>0.1438     </td><td>0.525      </td><td> 0.005750  </td></tr>\n",
       "\t<tr><td> 0.06705148</td><td>1          </td><td>8.895082   </td><td>0.0000     </td><td>0.204244   </td><td>0.009186   </td><td>0.260      </td><td>0.325      </td><td>0.201      </td><td>1.00       </td><td>...        </td><td>18.14      </td><td>2.573      </td><td>2.478      </td><td>2.667      </td><td>26.5       </td><td>20.7       </td><td>0.1741     </td><td>0.1750     </td><td>1.082      </td><td>-0.010040  </td></tr>\n",
       "\t<tr><td> 0.06408917</td><td>1          </td><td>7.565275   </td><td>0.1997     </td><td>0.248714   </td><td>0.036270   </td><td>0.061      </td><td>0.070      </td><td>0.051      </td><td>1.00       </td><td>...        </td><td> 2.63      </td><td>0.438      </td><td>0.453      </td><td>0.424      </td><td>27.8       </td><td>22.7       </td><td>0.1265     </td><td>0.1496     </td><td>6.625      </td><td>-0.002195  </td></tr>\n",
       "\t<tr><td> 0.02792955</td><td>1          </td><td>7.162397   </td><td>0.1740     </td><td>0.299252   </td><td>0.037367   </td><td>0.017      </td><td>0.027      </td><td>0.007      </td><td>0.82       </td><td>...        </td><td> 2.11      </td><td>0.257      </td><td>0.287      </td><td>0.229      </td><td>34.5       </td><td>17.6       </td><td>0.1211     </td><td>0.1308     </td><td>2.500      </td><td> 0.003283  </td></tr>\n",
       "\t<tr><td> 0.04640744</td><td>1          </td><td>7.218910   </td><td>0.0000     </td><td>0.258865   </td><td>0.020880   </td><td>0.023      </td><td>0.038      </td><td>0.006      </td><td>0.50       </td><td>...        </td><td> 1.46      </td><td>0.160      </td><td>0.174      </td><td>0.146      </td><td>34.3       </td><td> 8.1       </td><td>0.0634     </td><td>0.0762     </td><td>1.000      </td><td>-0.001747  </td></tr>\n",
       "</tbody>\n",
       "</table>\n"
      ],
      "text/latex": [
       "\\begin{tabular}{r|lllllllllllllllllllllllllllllllllllllllllllllllllllllllllllllll}\n",
       " Outcome & intercept & gdpsh465 & bmp1l & freeop & freetar & h65 & hm65 & hf65 & p65 & ... & seccf65 & syr65 & syrm65 & syrf65 & teapri65 & teasec65 & ex1 & im1 & xr65 & tot1\\\\\n",
       "\\hline\n",
       "\t -0.02433575 & 1           & 6.591674    & 0.2837      & 0.153491    & 0.043888    & 0.007       & 0.013       & 0.001       & 0.29        & ...         &  0.04       & 0.033       & 0.057       & 0.010       & 47.6        & 17.3        & 0.0729      & 0.0667      & 0.348       & -0.014727  \\\\\n",
       "\t  0.10047257 & 1           & 6.829794    & 0.6141      & 0.313509    & 0.061827    & 0.019       & 0.032       & 0.007       & 0.91        & ...         &  0.64       & 0.173       & 0.274       & 0.067       & 57.1        & 18.0        & 0.0940      & 0.1438      & 0.525       &  0.005750  \\\\\n",
       "\t  0.06705148 & 1           & 8.895082    & 0.0000      & 0.204244    & 0.009186    & 0.260       & 0.325       & 0.201       & 1.00        & ...         & 18.14       & 2.573       & 2.478       & 2.667       & 26.5        & 20.7        & 0.1741      & 0.1750      & 1.082       & -0.010040  \\\\\n",
       "\t  0.06408917 & 1           & 7.565275    & 0.1997      & 0.248714    & 0.036270    & 0.061       & 0.070       & 0.051       & 1.00        & ...         &  2.63       & 0.438       & 0.453       & 0.424       & 27.8        & 22.7        & 0.1265      & 0.1496      & 6.625       & -0.002195  \\\\\n",
       "\t  0.02792955 & 1           & 7.162397    & 0.1740      & 0.299252    & 0.037367    & 0.017       & 0.027       & 0.007       & 0.82        & ...         &  2.11       & 0.257       & 0.287       & 0.229       & 34.5        & 17.6        & 0.1211      & 0.1308      & 2.500       &  0.003283  \\\\\n",
       "\t  0.04640744 & 1           & 7.218910    & 0.0000      & 0.258865    & 0.020880    & 0.023       & 0.038       & 0.006       & 0.50        & ...         &  1.46       & 0.160       & 0.174       & 0.146       & 34.3        &  8.1        & 0.0634      & 0.0762      & 1.000       & -0.001747  \\\\\n",
       "\\end{tabular}\n"
      ],
      "text/markdown": [
       "\n",
       "| Outcome | intercept | gdpsh465 | bmp1l | freeop | freetar | h65 | hm65 | hf65 | p65 | ... | seccf65 | syr65 | syrm65 | syrf65 | teapri65 | teasec65 | ex1 | im1 | xr65 | tot1 |\n",
       "|---|---|---|---|---|---|---|---|---|---|---|---|---|---|---|---|---|---|---|---|---|\n",
       "| -0.02433575 | 1           | 6.591674    | 0.2837      | 0.153491    | 0.043888    | 0.007       | 0.013       | 0.001       | 0.29        | ...         |  0.04       | 0.033       | 0.057       | 0.010       | 47.6        | 17.3        | 0.0729      | 0.0667      | 0.348       | -0.014727   |\n",
       "|  0.10047257 | 1           | 6.829794    | 0.6141      | 0.313509    | 0.061827    | 0.019       | 0.032       | 0.007       | 0.91        | ...         |  0.64       | 0.173       | 0.274       | 0.067       | 57.1        | 18.0        | 0.0940      | 0.1438      | 0.525       |  0.005750   |\n",
       "|  0.06705148 | 1           | 8.895082    | 0.0000      | 0.204244    | 0.009186    | 0.260       | 0.325       | 0.201       | 1.00        | ...         | 18.14       | 2.573       | 2.478       | 2.667       | 26.5        | 20.7        | 0.1741      | 0.1750      | 1.082       | -0.010040   |\n",
       "|  0.06408917 | 1           | 7.565275    | 0.1997      | 0.248714    | 0.036270    | 0.061       | 0.070       | 0.051       | 1.00        | ...         |  2.63       | 0.438       | 0.453       | 0.424       | 27.8        | 22.7        | 0.1265      | 0.1496      | 6.625       | -0.002195   |\n",
       "|  0.02792955 | 1           | 7.162397    | 0.1740      | 0.299252    | 0.037367    | 0.017       | 0.027       | 0.007       | 0.82        | ...         |  2.11       | 0.257       | 0.287       | 0.229       | 34.5        | 17.6        | 0.1211      | 0.1308      | 2.500       |  0.003283   |\n",
       "|  0.04640744 | 1           | 7.218910    | 0.0000      | 0.258865    | 0.020880    | 0.023       | 0.038       | 0.006       | 0.50        | ...         |  1.46       | 0.160       | 0.174       | 0.146       | 34.3        |  8.1        | 0.0634      | 0.0762      | 1.000       | -0.001747   |\n",
       "\n"
      ],
      "text/plain": [
       "  Outcome     intercept gdpsh465 bmp1l  freeop   freetar  h65   hm65  hf65 \n",
       "1 -0.02433575 1         6.591674 0.2837 0.153491 0.043888 0.007 0.013 0.001\n",
       "2  0.10047257 1         6.829794 0.6141 0.313509 0.061827 0.019 0.032 0.007\n",
       "3  0.06705148 1         8.895082 0.0000 0.204244 0.009186 0.260 0.325 0.201\n",
       "4  0.06408917 1         7.565275 0.1997 0.248714 0.036270 0.061 0.070 0.051\n",
       "5  0.02792955 1         7.162397 0.1740 0.299252 0.037367 0.017 0.027 0.007\n",
       "6  0.04640744 1         7.218910 0.0000 0.258865 0.020880 0.023 0.038 0.006\n",
       "  p65  ... seccf65 syr65 syrm65 syrf65 teapri65 teasec65 ex1    im1    xr65 \n",
       "1 0.29 ...  0.04   0.033 0.057  0.010  47.6     17.3     0.0729 0.0667 0.348\n",
       "2 0.91 ...  0.64   0.173 0.274  0.067  57.1     18.0     0.0940 0.1438 0.525\n",
       "3 1.00 ... 18.14   2.573 2.478  2.667  26.5     20.7     0.1741 0.1750 1.082\n",
       "4 1.00 ...  2.63   0.438 0.453  0.424  27.8     22.7     0.1265 0.1496 6.625\n",
       "5 0.82 ...  2.11   0.257 0.287  0.229  34.5     17.6     0.1211 0.1308 2.500\n",
       "6 0.50 ...  1.46   0.160 0.174  0.146  34.3      8.1     0.0634 0.0762 1.000\n",
       "  tot1     \n",
       "1 -0.014727\n",
       "2  0.005750\n",
       "3 -0.010040\n",
       "4 -0.002195\n",
       "5  0.003283\n",
       "6 -0.001747"
      ]
     },
     "metadata": {},
     "output_type": "display_data"
    }
   ],
   "source": [
    "head(data)"
   ]
  },
  {
   "cell_type": "code",
   "execution_count": 72,
   "id": "db851b1e",
   "metadata": {
    "execution": {
     "iopub.execute_input": "2021-02-13T17:30:13.420018Z",
     "iopub.status.busy": "2021-02-13T17:30:13.417784Z",
     "iopub.status.idle": "2021-02-13T17:30:14.397557Z",
     "shell.execute_reply": "2021-02-13T17:30:14.396020Z"
    },
    "papermill": {
     "duration": 1.027605,
     "end_time": "2021-02-13T17:30:14.397806",
     "exception": false,
     "start_time": "2021-02-13T17:30:13.370201",
     "status": "completed"
    },
    "tags": []
   },
   "outputs": [
    {
     "data": {
      "text/html": [
       "<ol class=list-inline>\n",
       "\t<li>90</li>\n",
       "\t<li>63</li>\n",
       "</ol>\n"
      ],
      "text/latex": [
       "\\begin{enumerate*}\n",
       "\\item 90\n",
       "\\item 63\n",
       "\\end{enumerate*}\n"
      ],
      "text/markdown": [
       "1. 90\n",
       "2. 63\n",
       "\n",
       "\n"
      ],
      "text/plain": [
       "[1] 90 63"
      ]
     },
     "metadata": {},
     "output_type": "display_data"
    }
   ],
   "source": [
    "dim(data)"
   ]
  },
  {
   "cell_type": "markdown",
   "id": "6e9f5a0b",
   "metadata": {
    "papermill": {
     "duration": 0.017216,
     "end_time": "2021-02-13T17:30:14.432656",
     "exception": false,
     "start_time": "2021-02-13T17:30:14.415440",
     "status": "completed"
    },
    "tags": []
   },
   "source": [
    "### Preprocessing"
   ]
  },
  {
   "cell_type": "markdown",
   "id": "f07b1d20",
   "metadata": {
    "papermill": {
     "duration": 0.016789,
     "end_time": "2021-02-13T17:30:38.928857",
     "exception": false,
     "start_time": "2021-02-13T17:30:38.912068",
     "status": "completed"
    },
    "tags": []
   },
   "source": [
    "Now, we can construct the treatment variable, the outcome variable and the matrix $Z$ that includes the control variables."
   ]
  },
  {
   "cell_type": "code",
   "execution_count": 123,
   "id": "0f7f38b4",
   "metadata": {
    "execution": {
     "iopub.execute_input": "2021-02-13T17:30:38.968895Z",
     "iopub.status.busy": "2021-02-13T17:30:38.967511Z",
     "iopub.status.idle": "2021-02-13T17:30:38.988737Z",
     "shell.execute_reply": "2021-02-13T17:30:38.987198Z"
    },
    "papermill": {
     "duration": 0.042922,
     "end_time": "2021-02-13T17:30:38.988875",
     "exception": false,
     "start_time": "2021-02-13T17:30:38.945953",
     "status": "completed"
    },
    "tags": []
   },
   "outputs": [],
   "source": [
    "# Treatment Variable\n",
    "D =  data.frame(data$gdpsh465)\n",
    "# Outcome Variable\n",
    "Y = data.frame(data$Outcome)\n",
    "\n",
    "# Construct matrix Z\n",
    "x_1 = data[4:63]\n",
    "x_2 = data[2]\n",
    "X <- c(x_2,x_1)\n",
    "Z  = data.frame(X)"
   ]
  },
  {
   "cell_type": "code",
   "execution_count": 7,
   "id": "029932e0",
   "metadata": {},
   "outputs": [
    {
     "data": {
      "text/html": [
       "<ol class=list-inline>\n",
       "\t<li>90</li>\n",
       "\t<li>61</li>\n",
       "</ol>\n"
      ],
      "text/latex": [
       "\\begin{enumerate*}\n",
       "\\item 90\n",
       "\\item 61\n",
       "\\end{enumerate*}\n"
      ],
      "text/markdown": [
       "1. 90\n",
       "2. 61\n",
       "\n",
       "\n"
      ],
      "text/plain": [
       "[1] 90 61"
      ]
     },
     "metadata": {},
     "output_type": "display_data"
    }
   ],
   "source": [
    "dim(Z)"
   ]
  },
  {
   "cell_type": "code",
   "execution_count": 8,
   "id": "bce09f68",
   "metadata": {},
   "outputs": [
    {
     "data": {
      "text/html": [
       "<table>\n",
       "<thead><tr><th scope=col>intercept</th><th scope=col>bmp1l</th><th scope=col>freeop</th><th scope=col>freetar</th><th scope=col>h65</th><th scope=col>hm65</th><th scope=col>hf65</th><th scope=col>p65</th><th scope=col>pm65</th><th scope=col>pf65</th><th scope=col>...</th><th scope=col>seccf65</th><th scope=col>syr65</th><th scope=col>syrm65</th><th scope=col>syrf65</th><th scope=col>teapri65</th><th scope=col>teasec65</th><th scope=col>ex1</th><th scope=col>im1</th><th scope=col>xr65</th><th scope=col>tot1</th></tr></thead>\n",
       "<tbody>\n",
       "\t<tr><td>1        </td><td>0.2837   </td><td>0.153491 </td><td>0.043888 </td><td>0.007    </td><td>0.013    </td><td>0.001    </td><td>0.29     </td><td>0.37     </td><td>0.21     </td><td>...      </td><td> 0.04    </td><td>0.033    </td><td>0.057    </td><td>0.010    </td><td>47.6     </td><td>17.3     </td><td>0.0729   </td><td>0.0667   </td><td>0.348    </td><td>-0.014727</td></tr>\n",
       "\t<tr><td>1        </td><td>0.6141   </td><td>0.313509 </td><td>0.061827 </td><td>0.019    </td><td>0.032    </td><td>0.007    </td><td>0.91     </td><td>1.00     </td><td>0.65     </td><td>...      </td><td> 0.64    </td><td>0.173    </td><td>0.274    </td><td>0.067    </td><td>57.1     </td><td>18.0     </td><td>0.0940   </td><td>0.1438   </td><td>0.525    </td><td> 0.005750</td></tr>\n",
       "\t<tr><td>1        </td><td>0.0000   </td><td>0.204244 </td><td>0.009186 </td><td>0.260    </td><td>0.325    </td><td>0.201    </td><td>1.00     </td><td>1.00     </td><td>1.00     </td><td>...      </td><td>18.14    </td><td>2.573    </td><td>2.478    </td><td>2.667    </td><td>26.5     </td><td>20.7     </td><td>0.1741   </td><td>0.1750   </td><td>1.082    </td><td>-0.010040</td></tr>\n",
       "\t<tr><td>1        </td><td>0.1997   </td><td>0.248714 </td><td>0.036270 </td><td>0.061    </td><td>0.070    </td><td>0.051    </td><td>1.00     </td><td>1.00     </td><td>1.00     </td><td>...      </td><td> 2.63    </td><td>0.438    </td><td>0.453    </td><td>0.424    </td><td>27.8     </td><td>22.7     </td><td>0.1265   </td><td>0.1496   </td><td>6.625    </td><td>-0.002195</td></tr>\n",
       "\t<tr><td>1        </td><td>0.1740   </td><td>0.299252 </td><td>0.037367 </td><td>0.017    </td><td>0.027    </td><td>0.007    </td><td>0.82     </td><td>0.85     </td><td>0.81     </td><td>...      </td><td> 2.11    </td><td>0.257    </td><td>0.287    </td><td>0.229    </td><td>34.5     </td><td>17.6     </td><td>0.1211   </td><td>0.1308   </td><td>2.500    </td><td> 0.003283</td></tr>\n",
       "\t<tr><td>1        </td><td>0.0000   </td><td>0.258865 </td><td>0.020880 </td><td>0.023    </td><td>0.038    </td><td>0.006    </td><td>0.50     </td><td>0.55     </td><td>0.50     </td><td>...      </td><td> 1.46    </td><td>0.160    </td><td>0.174    </td><td>0.146    </td><td>34.3     </td><td> 8.1     </td><td>0.0634   </td><td>0.0762   </td><td>1.000    </td><td>-0.001747</td></tr>\n",
       "</tbody>\n",
       "</table>\n"
      ],
      "text/latex": [
       "\\begin{tabular}{r|lllllllllllllllllllllllllllllllllllllllllllllllllllllllllllll}\n",
       " intercept & bmp1l & freeop & freetar & h65 & hm65 & hf65 & p65 & pm65 & pf65 & ... & seccf65 & syr65 & syrm65 & syrf65 & teapri65 & teasec65 & ex1 & im1 & xr65 & tot1\\\\\n",
       "\\hline\n",
       "\t 1         & 0.2837    & 0.153491  & 0.043888  & 0.007     & 0.013     & 0.001     & 0.29      & 0.37      & 0.21      & ...       &  0.04     & 0.033     & 0.057     & 0.010     & 47.6      & 17.3      & 0.0729    & 0.0667    & 0.348     & -0.014727\\\\\n",
       "\t 1         & 0.6141    & 0.313509  & 0.061827  & 0.019     & 0.032     & 0.007     & 0.91      & 1.00      & 0.65      & ...       &  0.64     & 0.173     & 0.274     & 0.067     & 57.1      & 18.0      & 0.0940    & 0.1438    & 0.525     &  0.005750\\\\\n",
       "\t 1         & 0.0000    & 0.204244  & 0.009186  & 0.260     & 0.325     & 0.201     & 1.00      & 1.00      & 1.00      & ...       & 18.14     & 2.573     & 2.478     & 2.667     & 26.5      & 20.7      & 0.1741    & 0.1750    & 1.082     & -0.010040\\\\\n",
       "\t 1         & 0.1997    & 0.248714  & 0.036270  & 0.061     & 0.070     & 0.051     & 1.00      & 1.00      & 1.00      & ...       &  2.63     & 0.438     & 0.453     & 0.424     & 27.8      & 22.7      & 0.1265    & 0.1496    & 6.625     & -0.002195\\\\\n",
       "\t 1         & 0.1740    & 0.299252  & 0.037367  & 0.017     & 0.027     & 0.007     & 0.82      & 0.85      & 0.81      & ...       &  2.11     & 0.257     & 0.287     & 0.229     & 34.5      & 17.6      & 0.1211    & 0.1308    & 2.500     &  0.003283\\\\\n",
       "\t 1         & 0.0000    & 0.258865  & 0.020880  & 0.023     & 0.038     & 0.006     & 0.50      & 0.55      & 0.50      & ...       &  1.46     & 0.160     & 0.174     & 0.146     & 34.3      &  8.1      & 0.0634    & 0.0762    & 1.000     & -0.001747\\\\\n",
       "\\end{tabular}\n"
      ],
      "text/markdown": [
       "\n",
       "| intercept | bmp1l | freeop | freetar | h65 | hm65 | hf65 | p65 | pm65 | pf65 | ... | seccf65 | syr65 | syrm65 | syrf65 | teapri65 | teasec65 | ex1 | im1 | xr65 | tot1 |\n",
       "|---|---|---|---|---|---|---|---|---|---|---|---|---|---|---|---|---|---|---|---|---|\n",
       "| 1         | 0.2837    | 0.153491  | 0.043888  | 0.007     | 0.013     | 0.001     | 0.29      | 0.37      | 0.21      | ...       |  0.04     | 0.033     | 0.057     | 0.010     | 47.6      | 17.3      | 0.0729    | 0.0667    | 0.348     | -0.014727 |\n",
       "| 1         | 0.6141    | 0.313509  | 0.061827  | 0.019     | 0.032     | 0.007     | 0.91      | 1.00      | 0.65      | ...       |  0.64     | 0.173     | 0.274     | 0.067     | 57.1      | 18.0      | 0.0940    | 0.1438    | 0.525     |  0.005750 |\n",
       "| 1         | 0.0000    | 0.204244  | 0.009186  | 0.260     | 0.325     | 0.201     | 1.00      | 1.00      | 1.00      | ...       | 18.14     | 2.573     | 2.478     | 2.667     | 26.5      | 20.7      | 0.1741    | 0.1750    | 1.082     | -0.010040 |\n",
       "| 1         | 0.1997    | 0.248714  | 0.036270  | 0.061     | 0.070     | 0.051     | 1.00      | 1.00      | 1.00      | ...       |  2.63     | 0.438     | 0.453     | 0.424     | 27.8      | 22.7      | 0.1265    | 0.1496    | 6.625     | -0.002195 |\n",
       "| 1         | 0.1740    | 0.299252  | 0.037367  | 0.017     | 0.027     | 0.007     | 0.82      | 0.85      | 0.81      | ...       |  2.11     | 0.257     | 0.287     | 0.229     | 34.5      | 17.6      | 0.1211    | 0.1308    | 2.500     |  0.003283 |\n",
       "| 1         | 0.0000    | 0.258865  | 0.020880  | 0.023     | 0.038     | 0.006     | 0.50      | 0.55      | 0.50      | ...       |  1.46     | 0.160     | 0.174     | 0.146     | 34.3      |  8.1      | 0.0634    | 0.0762    | 1.000     | -0.001747 |\n",
       "\n"
      ],
      "text/plain": [
       "  intercept bmp1l  freeop   freetar  h65   hm65  hf65  p65  pm65 pf65 ...\n",
       "1 1         0.2837 0.153491 0.043888 0.007 0.013 0.001 0.29 0.37 0.21 ...\n",
       "2 1         0.6141 0.313509 0.061827 0.019 0.032 0.007 0.91 1.00 0.65 ...\n",
       "3 1         0.0000 0.204244 0.009186 0.260 0.325 0.201 1.00 1.00 1.00 ...\n",
       "4 1         0.1997 0.248714 0.036270 0.061 0.070 0.051 1.00 1.00 1.00 ...\n",
       "5 1         0.1740 0.299252 0.037367 0.017 0.027 0.007 0.82 0.85 0.81 ...\n",
       "6 1         0.0000 0.258865 0.020880 0.023 0.038 0.006 0.50 0.55 0.50 ...\n",
       "  seccf65 syr65 syrm65 syrf65 teapri65 teasec65 ex1    im1    xr65  tot1     \n",
       "1  0.04   0.033 0.057  0.010  47.6     17.3     0.0729 0.0667 0.348 -0.014727\n",
       "2  0.64   0.173 0.274  0.067  57.1     18.0     0.0940 0.1438 0.525  0.005750\n",
       "3 18.14   2.573 2.478  2.667  26.5     20.7     0.1741 0.1750 1.082 -0.010040\n",
       "4  2.63   0.438 0.453  0.424  27.8     22.7     0.1265 0.1496 6.625 -0.002195\n",
       "5  2.11   0.257 0.287  0.229  34.5     17.6     0.1211 0.1308 2.500  0.003283\n",
       "6  1.46   0.160 0.174  0.146  34.3      8.1     0.0634 0.0762 1.000 -0.001747"
      ]
     },
     "metadata": {},
     "output_type": "display_data"
    }
   ],
   "source": [
    "head(Z)"
   ]
  },
  {
   "cell_type": "markdown",
   "id": "40944d02",
   "metadata": {
    "papermill": {
     "duration": 0.01807,
     "end_time": "2021-02-13T17:30:39.025018",
     "exception": false,
     "start_time": "2021-02-13T17:30:39.006948",
     "status": "completed"
    },
    "tags": []
   },
   "source": [
    "We have in total 61 control variables."
   ]
  },
  {
   "cell_type": "code",
   "execution_count": 41,
   "id": "f847cb5e",
   "metadata": {},
   "outputs": [
    {
     "name": "stderr",
     "output_type": "stream",
     "text": [
      "also installing the dependency 'sandwich'\n",
      "\n"
     ]
    },
    {
     "name": "stdout",
     "output_type": "stream",
     "text": [
      "\n",
      "  There are binary versions available but the source versions are later:\n",
      "         binary  source needs_compilation\n",
      "sandwich  3.0-0   3.0-1             FALSE\n",
      "lfe       2.8-6 2.8-7.1              TRUE\n",
      "\n",
      "  Binaries will be installed\n",
      "package 'lfe' successfully unpacked and MD5 sums checked\n",
      "\n",
      "The downloaded binary packages are in\n",
      "\tC:\\Users\\User\\AppData\\Local\\Temp\\RtmpQ7jWpI\\downloaded_packages\n"
     ]
    },
    {
     "name": "stderr",
     "output_type": "stream",
     "text": [
      "installing the source package 'sandwich'\n",
      "\n"
     ]
    }
   ],
   "source": [
    "# install.packages(\"lfe\")"
   ]
  },
  {
   "cell_type": "code",
   "execution_count": 124,
   "id": "62c87827",
   "metadata": {},
   "outputs": [],
   "source": [
    "library(lfe)"
   ]
  },
  {
   "cell_type": "markdown",
   "id": "7c41da5b",
   "metadata": {
    "papermill": {
     "duration": 0.01855,
     "end_time": "2021-02-13T17:30:40.260049",
     "exception": false,
     "start_time": "2021-02-13T17:30:40.241499",
     "status": "completed"
    },
    "tags": []
   },
   "source": [
    "## The Convergence Hypothesis\n"
   ]
  },
  {
   "cell_type": "markdown",
   "id": "156879e4",
   "metadata": {
    "papermill": {
     "duration": 0.018478,
     "end_time": "2021-02-13T17:30:40.297035",
     "exception": false,
     "start_time": "2021-02-13T17:30:40.278557",
     "status": "completed"
    },
    "tags": []
   },
   "source": [
    "### OLS"
   ]
  },
  {
   "cell_type": "markdown",
   "id": "7400682a",
   "metadata": {
    "papermill": {
     "duration": 0.018386,
     "end_time": "2021-02-13T17:30:40.333613",
     "exception": false,
     "start_time": "2021-02-13T17:30:40.315227",
     "status": "completed"
    },
    "tags": []
   },
   "source": [
    "After preprocessing the data, we first look at simple regression of $Y_{j,t}$ on $D_{j,t-1}$ without controls as a baseline model."
   ]
  },
  {
   "cell_type": "code",
   "execution_count": 125,
   "id": "d88b06ab",
   "metadata": {
    "execution": {
     "iopub.execute_input": "2021-02-13T17:30:40.378059Z",
     "iopub.status.busy": "2021-02-13T17:30:40.375375Z",
     "iopub.status.idle": "2021-02-13T17:30:40.488189Z",
     "shell.execute_reply": "2021-02-13T17:30:40.485758Z"
    },
    "papermill": {
     "duration": 0.136101,
     "end_time": "2021-02-13T17:30:40.488367",
     "exception": false,
     "start_time": "2021-02-13T17:30:40.352266",
     "status": "completed"
    },
    "scrolled": true,
    "tags": []
   },
   "outputs": [
    {
     "data": {
      "text/html": [
       "<dl class=dl-horizontal>\n",
       "\t<dt>2.5 %</dt>\n",
       "\t\t<dd>-0.0108101278829859</dd>\n",
       "\t<dt>97.5 %</dt>\n",
       "\t\t<dd>0.013443553109878</dd>\n",
       "</dl>\n"
      ],
      "text/latex": [
       "\\begin{description*}\n",
       "\\item[2.5 \\textbackslash{}\\%] -0.0108101278829859\n",
       "\\item[97.5 \\textbackslash{}\\%] 0.013443553109878\n",
       "\\end{description*}\n"
      ],
      "text/markdown": [
       "2.5 %\n",
       ":   -0.010810127882985997.5 %\n",
       ":   0.013443553109878\n",
       "\n"
      ],
      "text/plain": [
       "      2.5 %      97.5 % \n",
       "-0.01081013  0.01344355 "
      ]
     },
     "metadata": {},
     "output_type": "display_data"
    },
    {
     "data": {
      "text/html": [
       "<dl class=dl-horizontal>\n",
       "\t<dt>Estimate</dt>\n",
       "\t\t<dd>0.00131671261344604</dd>\n",
       "\t<dt>Std. Error</dt>\n",
       "\t\t<dd>0.00610220014253542</dd>\n",
       "\t<dt>t value</dt>\n",
       "\t\t<dd>0.215776700647343</dd>\n",
       "\t<dt>Pr(&gt;|t|)</dt>\n",
       "\t\t<dd>0.829661164776393</dd>\n",
       "</dl>\n"
      ],
      "text/latex": [
       "\\begin{description*}\n",
       "\\item[Estimate] 0.00131671261344604\n",
       "\\item[Std. Error] 0.00610220014253542\n",
       "\\item[t value] 0.215776700647343\n",
       "\\item[Pr(>\\textbackslash{}textbar\\{\\}t\\textbackslash{}textbar\\{\\})] 0.829661164776393\n",
       "\\end{description*}\n"
      ],
      "text/markdown": [
       "Estimate\n",
       ":   0.00131671261344604Std. Error\n",
       ":   0.00610220014253542t value\n",
       ":   0.215776700647343Pr(&amp;gt;|t|)\n",
       ":   0.829661164776393\n",
       "\n"
      ],
      "text/plain": [
       "   Estimate  Std. Error     t value    Pr(>|t|) \n",
       "0.001316713 0.006102200 0.215776701 0.829661165 "
      ]
     },
     "metadata": {},
     "output_type": "display_data"
    }
   ],
   "source": [
    "#baseline_formula <- as.formula(paste(y, \"~\", d ))\n",
    "#baseline.ols <- lm(baseline_formula,data=rdata)\n",
    "\n",
    "baseline.ols <- felm(Outcome ~ gdpsh465,data=data) \n",
    "est_baseline <- summary(baseline.ols)$coef[2,]\n",
    "confint(baseline.ols)[2,]\n",
    "est_baseline"
   ]
  },
  {
   "cell_type": "code",
   "execution_count": 126,
   "id": "a75fdab2",
   "metadata": {},
   "outputs": [
    {
     "data": {
      "text/plain": [
       "\n",
       "Call:\n",
       "   felm(formula = Outcome ~ gdpsh465, data = data) \n",
       "\n",
       "Residuals:\n",
       "      Min        1Q    Median        3Q       Max \n",
       "-0.147387 -0.024088  0.001209  0.027721  0.139357 \n",
       "\n",
       "Coefficients:\n",
       "            Estimate Std. Error t value Pr(>|t|)\n",
       "(Intercept) 0.035207   0.047318   0.744    0.459\n",
       "gdpsh465    0.001317   0.006102   0.216    0.830\n",
       "\n",
       "Residual standard error: 0.05159 on 88 degrees of freedom\n",
       "Multiple R-squared(full model): 0.0005288   Adjusted R-squared: -0.01083 \n",
       "Multiple R-squared(proj model): 0.0005288   Adjusted R-squared: -0.01083 \n",
       "F-statistic(full model):0.04656 on 1 and 88 DF, p-value: 0.8297 \n",
       "F-statistic(proj model): 0.04656 on 1 and 88 DF, p-value: 0.8297 \n",
       "\n"
      ]
     },
     "metadata": {},
     "output_type": "display_data"
    }
   ],
   "source": [
    "summary(baseline.ols)"
   ]
  },
  {
   "cell_type": "code",
   "execution_count": 127,
   "id": "1d8b22b9",
   "metadata": {},
   "outputs": [
    {
     "data": {
      "text/html": [
       "<dl class=dl-horizontal>\n",
       "\t<dt>2.5 %</dt>\n",
       "\t\t<dd>-0.0108101278829859</dd>\n",
       "\t<dt>97.5 %</dt>\n",
       "\t\t<dd>0.013443553109878</dd>\n",
       "</dl>\n"
      ],
      "text/latex": [
       "\\begin{description*}\n",
       "\\item[2.5 \\textbackslash{}\\%] -0.0108101278829859\n",
       "\\item[97.5 \\textbackslash{}\\%] 0.013443553109878\n",
       "\\end{description*}\n"
      ],
      "text/markdown": [
       "2.5 %\n",
       ":   -0.010810127882985997.5 %\n",
       ":   0.013443553109878\n",
       "\n"
      ],
      "text/plain": [
       "      2.5 %      97.5 % \n",
       "-0.01081013  0.01344355 "
      ]
     },
     "metadata": {},
     "output_type": "display_data"
    }
   ],
   "source": [
    "confint(baseline.ols)[2,]"
   ]
  },
  {
   "cell_type": "markdown",
   "id": "8ebb6264",
   "metadata": {
    "papermill": {
     "duration": 0.019514,
     "end_time": "2021-02-13T17:30:40.528479",
     "exception": false,
     "start_time": "2021-02-13T17:30:40.508965",
     "status": "completed"
    },
    "tags": []
   },
   "source": [
    "The point estimate is $0.0013$ with the confidence interval ranging from -0.011 to 0.013. Since 0 is contained in the confidence interval, the point estimate is not consistent.\n",
    "\n",
    "Since our goal is to estimate the effect of initial wealth after controlling for a rich set county characteristics we next include the controls. First, we estimate the model by ols and then by an array of the modern regression methods using the double machine learning approach."
   ]
  },
  {
   "cell_type": "code",
   "execution_count": 128,
   "id": "8a8ed9d6",
   "metadata": {
    "execution": {
     "iopub.execute_input": "2021-02-13T17:30:40.575465Z",
     "iopub.status.busy": "2021-02-13T17:30:40.573798Z",
     "iopub.status.idle": "2021-02-13T17:30:40.777165Z",
     "shell.execute_reply": "2021-02-13T17:30:40.774926Z"
    },
    "papermill": {
     "duration": 0.229579,
     "end_time": "2021-02-13T17:30:40.777425",
     "exception": false,
     "start_time": "2021-02-13T17:30:40.547846",
     "status": "completed"
    },
    "tags": []
   },
   "outputs": [
    {
     "data": {
      "text/plain": [
       "Outcome ~ gdpsh465 + intercept + bmp1l + freeop + freetar + h65 + \n",
       "    hm65 + hf65 + p65 + pm65 + pf65 + s65 + sm65 + sf65 + fert65 + \n",
       "    mort65 + lifee065 + gpop1 + fert1 + mort1 + invsh41 + geetot1 + \n",
       "    geerec1 + gde1 + govwb1 + govsh41 + gvxdxe41 + high65 + highm65 + \n",
       "    highf65 + highc65 + highcm65 + highcf65 + human65 + humanm65 + \n",
       "    humanf65 + hyr65 + hyrm65 + hyrf65 + no65 + nom65 + nof65 + \n",
       "    pinstab1 + pop65 + worker65 + pop1565 + pop6565 + sec65 + \n",
       "    secm65 + secf65 + secc65 + seccm65 + seccf65 + syr65 + syrm65 + \n",
       "    syrf65 + teapri65 + teasec65 + ex1 + im1 + xr65 + tot1"
      ]
     },
     "metadata": {},
     "output_type": "display_data"
    }
   ],
   "source": [
    "control_formula <- as.formula(paste(\"Outcome\", \"~\", paste(\"gdpsh465\",paste(colnames(Z),collapse=\"+\"),\n",
    "                                                          sep=\"+\")))\n",
    "control_formula"
   ]
  },
  {
   "cell_type": "code",
   "execution_count": 129,
   "id": "811a40af",
   "metadata": {
    "execution": {
     "iopub.execute_input": "2021-02-13T17:30:40.575465Z",
     "iopub.status.busy": "2021-02-13T17:30:40.573798Z",
     "iopub.status.idle": "2021-02-13T17:30:40.777165Z",
     "shell.execute_reply": "2021-02-13T17:30:40.774926Z"
    },
    "papermill": {
     "duration": 0.229579,
     "end_time": "2021-02-13T17:30:40.777425",
     "exception": false,
     "start_time": "2021-02-13T17:30:40.547846",
     "status": "completed"
    },
    "tags": []
   },
   "outputs": [
    {
     "name": "stderr",
     "output_type": "stream",
     "text": [
      "Warning message in chol.default(mat, pivot = TRUE, tol = tol):\n",
      "\"the matrix is either rank-deficient or indefinite\"Warning message in chol.default(mat, pivot = TRUE, tol = tol):\n",
      "\"the matrix is either rank-deficient or indefinite\""
     ]
    },
    {
     "data": {
      "text/html": [
       "<dl class=dl-horizontal>\n",
       "\t<dt>2.5 %</dt>\n",
       "\t\t<dd>-0.0706002209563806</dd>\n",
       "\t<dt>97.5 %</dt>\n",
       "\t\t<dd>0.0518442434868527</dd>\n",
       "</dl>\n"
      ],
      "text/latex": [
       "\\begin{description*}\n",
       "\\item[2.5 \\textbackslash{}\\%] -0.0706002209563806\n",
       "\\item[97.5 \\textbackslash{}\\%] 0.0518442434868527\n",
       "\\end{description*}\n"
      ],
      "text/markdown": [
       "2.5 %\n",
       ":   -0.070600220956380697.5 %\n",
       ":   0.0518442434868527\n",
       "\n"
      ],
      "text/plain": [
       "      2.5 %      97.5 % \n",
       "-0.07060022  0.05184424 "
      ]
     },
     "metadata": {},
     "output_type": "display_data"
    },
    {
     "data": {
      "text/html": [
       "<dl class=dl-horizontal>\n",
       "\t<dt>Estimate</dt>\n",
       "\t\t<dd>-0.00937798873476396</dd>\n",
       "\t<dt>Std. Error</dt>\n",
       "\t\t<dd>0.0298877264057774</dd>\n",
       "\t<dt>t value</dt>\n",
       "\t\t<dd>-0.313773908642016</dd>\n",
       "\t<dt>Pr(&gt;|t|)</dt>\n",
       "\t\t<dd>0.756018519248517</dd>\n",
       "</dl>\n"
      ],
      "text/latex": [
       "\\begin{description*}\n",
       "\\item[Estimate] -0.00937798873476396\n",
       "\\item[Std. Error] 0.0298877264057774\n",
       "\\item[t value] -0.313773908642016\n",
       "\\item[Pr(>\\textbackslash{}textbar\\{\\}t\\textbackslash{}textbar\\{\\})] 0.756018519248517\n",
       "\\end{description*}\n"
      ],
      "text/markdown": [
       "Estimate\n",
       ":   -0.00937798873476396Std. Error\n",
       ":   0.0298877264057774t value\n",
       ":   -0.313773908642016Pr(&amp;gt;|t|)\n",
       ":   0.756018519248517\n",
       "\n"
      ],
      "text/plain": [
       "    Estimate   Std. Error      t value     Pr(>|t|) \n",
       "-0.009377989  0.029887726 -0.313773909  0.756018519 "
      ]
     },
     "metadata": {},
     "output_type": "display_data"
    }
   ],
   "source": [
    "control.ols <- felm(control_formula,data=data)\n",
    "est_ols <- summary(control.ols)$coef[2,]\n",
    "confint(control.ols)[2,]\n",
    "est_ols"
   ]
  },
  {
   "cell_type": "code",
   "execution_count": 179,
   "id": "45ccabfc",
   "metadata": {
    "scrolled": true
   },
   "outputs": [
    {
     "name": "stderr",
     "output_type": "stream",
     "text": [
      "Warning message in chol.default(mat, pivot = TRUE, tol = tol):\n",
      "\"the matrix is either rank-deficient or indefinite\""
     ]
    },
    {
     "data": {
      "text/html": [
       "<table>\n",
       "<thead><tr><th></th><th scope=col>Estimate</th><th scope=col>Std. Error</th><th scope=col>t value</th><th scope=col>Pr(&gt;|t|)</th></tr></thead>\n",
       "<tbody>\n",
       "\t<tr><th scope=row>(Intercept)</th><td> 0.247160892</td><td>0.78450164  </td><td> 0.31505465 </td><td>0.755056171 </td></tr>\n",
       "\t<tr><th scope=row>gdpsh465</th><td>-0.009377989</td><td>0.02988773  </td><td>-0.31377391 </td><td>0.756018519 </td></tr>\n",
       "\t<tr><th scope=row>intercept</th><td>         NaN</td><td>        NA  </td><td>        NaN </td><td>        NaN </td></tr>\n",
       "\t<tr><th scope=row>bmp1l</th><td>-0.068862679</td><td>0.03253065  </td><td>-2.11685514 </td><td>0.043289717 </td></tr>\n",
       "\t<tr><th scope=row>freeop</th><td> 0.080068972</td><td>0.20786400  </td><td> 0.38519884 </td><td>0.703000843 </td></tr>\n",
       "\t<tr><th scope=row>freetar</th><td>-0.488962603</td><td>0.41816285  </td><td>-1.16931143 </td><td>0.252136478 </td></tr>\n",
       "\t<tr><th scope=row>h65</th><td>-2.362098643</td><td>0.85729167  </td><td>-2.75530339 </td><td>0.010192435 </td></tr>\n",
       "\t<tr><th scope=row>hm65</th><td> 0.707143403</td><td>0.52314511  </td><td> 1.35171561 </td><td>0.187285917 </td></tr>\n",
       "\t<tr><th scope=row>hf65</th><td> 1.693448426</td><td>0.50318881  </td><td> 3.36543337 </td><td>0.002232683 </td></tr>\n",
       "\t<tr><th scope=row>p65</th><td> 0.265526696</td><td>0.16429407  </td><td> 1.61616729 </td><td>0.117271228 </td></tr>\n",
       "\t<tr><th scope=row>pm65</th><td> 0.136952625</td><td>0.15121749  </td><td> 0.90566656 </td><td>0.372840116 </td></tr>\n",
       "\t<tr><th scope=row>pf65</th><td>-0.331266947</td><td>0.16512299  </td><td>-2.00618302 </td><td>0.054583867 </td></tr>\n",
       "\t<tr><th scope=row>s65</th><td> 0.039079307</td><td>0.18552248  </td><td> 0.21064459 </td><td>0.834690078 </td></tr>\n",
       "\t<tr><th scope=row>sm65</th><td>-0.030668507</td><td>0.11679396  </td><td>-0.26258642 </td><td>0.794791807 </td></tr>\n",
       "\t<tr><th scope=row>sf65</th><td>-0.179917281</td><td>0.11809892  </td><td>-1.52344557 </td><td>0.138863009 </td></tr>\n",
       "\t<tr><th scope=row>fert65</th><td> 0.006880834</td><td>0.02705142  </td><td> 0.25436128 </td><td>0.801075252 </td></tr>\n",
       "\t<tr><th scope=row>mort65</th><td>-0.233454503</td><td>0.81742198  </td><td>-0.28559852 </td><td>0.777287824 </td></tr>\n",
       "\t<tr><th scope=row>lifee065</th><td>-0.014914472</td><td>0.19333559  </td><td>-0.07714292 </td><td>0.939058460 </td></tr>\n",
       "\t<tr><th scope=row>gpop1</th><td> 0.970184569</td><td>1.81220836  </td><td> 0.53536039 </td><td>0.596627598 </td></tr>\n",
       "\t<tr><th scope=row>fert1</th><td> 0.008838189</td><td>0.03504148  </td><td> 0.25222077 </td><td>0.802712696 </td></tr>\n",
       "\t<tr><th scope=row>mort1</th><td> 0.066562928</td><td>0.68481003  </td><td> 0.09719911 </td><td>0.923260701 </td></tr>\n",
       "\t<tr><th scope=row>invsh41</th><td> 0.074461125</td><td>0.10844692  </td><td> 0.68661353 </td><td>0.497973614 </td></tr>\n",
       "\t<tr><th scope=row>geetot1</th><td>-0.715104900</td><td>1.68013567  </td><td>-0.42562331 </td><td>0.673636105 </td></tr>\n",
       "\t<tr><th scope=row>geerec1</th><td> 0.630004625</td><td>2.44737849  </td><td> 0.25742019 </td><td>0.798736844 </td></tr>\n",
       "\t<tr><th scope=row>gde1</th><td>-0.443575221</td><td>1.67120675  </td><td>-0.26542211 </td><td>0.792628756 </td></tr>\n",
       "\t<tr><th scope=row>govwb1</th><td> 0.337452361</td><td>0.43798695  </td><td> 0.77046213 </td><td>0.447478341 </td></tr>\n",
       "\t<tr><th scope=row>govsh41</th><td> 0.463174638</td><td>1.92543734  </td><td> 0.24055555 </td><td>0.811652244 </td></tr>\n",
       "\t<tr><th scope=row>gvxdxe41</th><td>-0.793381586</td><td>2.05939737  </td><td>-0.38524939 </td><td>0.702963814 </td></tr>\n",
       "\t<tr><th scope=row>high65</th><td>-0.752483827</td><td>0.90572159  </td><td>-0.83081141 </td><td>0.413108818 </td></tr>\n",
       "\t<tr><th scope=row>highm65</th><td>-0.390261809</td><td>0.68124930  </td><td>-0.57286196 </td><td>0.571310298 </td></tr>\n",
       "\t<tr><th scope=row>...</th><td>...</td><td>...</td><td>...</td><td>...</td></tr>\n",
       "\t<tr><th scope=row>highcf65</th><td> 3.920771e-01</td><td>7.660246e-01 </td><td> 0.51183360  </td><td>0.61278088   </td></tr>\n",
       "\t<tr><th scope=row>human65</th><td> 2.337269e+00</td><td>3.307269e+00 </td><td> 0.70670677  </td><td>0.48558874   </td></tr>\n",
       "\t<tr><th scope=row>humanm65</th><td>-1.209249e+00</td><td>1.618516e+00 </td><td>-0.74713473  </td><td>0.46121073   </td></tr>\n",
       "\t<tr><th scope=row>humanf65</th><td>-1.103947e+00</td><td>1.684693e+00 </td><td>-0.65528073  </td><td>0.51763500   </td></tr>\n",
       "\t<tr><th scope=row>hyr65</th><td> 5.491388e+01</td><td>2.388729e+01 </td><td> 2.29887430  </td><td>0.02918450   </td></tr>\n",
       "\t<tr><th scope=row>hyrm65</th><td> 1.293505e+01</td><td>2.317142e+01 </td><td> 0.55823279  </td><td>0.58112223   </td></tr>\n",
       "\t<tr><th scope=row>hyrf65</th><td> 9.092580e+00</td><td>1.766958e+01 </td><td> 0.51458948  </td><td>0.61087820   </td></tr>\n",
       "\t<tr><th scope=row>no65</th><td> 3.720986e-02</td><td>1.319733e-01 </td><td> 0.28194992  </td><td>0.78005543   </td></tr>\n",
       "\t<tr><th scope=row>nom65</th><td>-2.119769e-02</td><td>6.495975e-02 </td><td>-0.32632031  </td><td>0.74660862   </td></tr>\n",
       "\t<tr><th scope=row>nof65</th><td>-1.685782e-02</td><td>6.700258e-02 </td><td>-0.25159952  </td><td>0.80318812   </td></tr>\n",
       "\t<tr><th scope=row>pinstab1</th><td>-4.997113e-02</td><td>3.092081e-02 </td><td>-1.61610018  </td><td>0.11728579   </td></tr>\n",
       "\t<tr><th scope=row>pop65</th><td> 1.031796e-07</td><td>1.317950e-07 </td><td> 0.78287929  </td><td>0.44026959   </td></tr>\n",
       "\t<tr><th scope=row>worker65</th><td> 3.407897e-02</td><td>1.561909e-01 </td><td> 0.21818786  </td><td>0.82886515   </td></tr>\n",
       "\t<tr><th scope=row>pop1565</th><td>-4.655346e-01</td><td>4.713340e-01 </td><td>-0.98769582  </td><td>0.33176044   </td></tr>\n",
       "\t<tr><th scope=row>pop6565</th><td>-1.357450e+00</td><td>6.349424e-01 </td><td>-2.13791049  </td><td>0.04139326   </td></tr>\n",
       "\t<tr><th scope=row>sec65</th><td>-1.089278e-02</td><td>3.076618e-01 </td><td>-0.03540505  </td><td>0.97200796   </td></tr>\n",
       "\t<tr><th scope=row>secm65</th><td> 3.343663e-03</td><td>1.511923e-01 </td><td> 0.02211529  </td><td>0.98251284   </td></tr>\n",
       "\t<tr><th scope=row>secf65</th><td>-2.304330e-03</td><td>1.579715e-01 </td><td>-0.01458699  </td><td>0.98846512   </td></tr>\n",
       "\t<tr><th scope=row>secc65</th><td>-4.915284e-01</td><td>7.290408e-01 </td><td>-0.67421247  </td><td>0.50570489   </td></tr>\n",
       "\t<tr><th scope=row>seccm65</th><td> 2.596016e-01</td><td>3.556533e-01 </td><td> 0.72992874  </td><td>0.47149686   </td></tr>\n",
       "\t<tr><th scope=row>seccf65</th><td> 2.206524e-01</td><td>3.733333e-01 </td><td> 0.59103325  </td><td>0.55923950   </td></tr>\n",
       "\t<tr><th scope=row>syr65</th><td>-7.555806e-01</td><td>7.976763e+00 </td><td>-0.09472271  </td><td>0.92520971   </td></tr>\n",
       "\t<tr><th scope=row>syrm65</th><td> 3.109007e-01</td><td>3.896731e+00 </td><td> 0.07978500  </td><td>0.93697577   </td></tr>\n",
       "\t<tr><th scope=row>syrf65</th><td> 7.592810e-01</td><td>4.110634e+00 </td><td> 0.18471141  </td><td>0.85478678   </td></tr>\n",
       "\t<tr><th scope=row>teapri65</th><td> 3.954524e-05</td><td>7.700406e-04 </td><td> 0.05135474  </td><td>0.95940747   </td></tr>\n",
       "\t<tr><th scope=row>teasec65</th><td> 2.496674e-04</td><td>1.171230e-03 </td><td> 0.21316678  </td><td>0.83274136   </td></tr>\n",
       "\t<tr><th scope=row>ex1</th><td>-5.804081e-01</td><td>2.418472e-01 </td><td>-2.39989593  </td><td>0.02329485   </td></tr>\n",
       "\t<tr><th scope=row>im1</th><td> 5.914450e-01</td><td>2.502978e-01 </td><td> 2.36296558  </td><td>0.02530892   </td></tr>\n",
       "\t<tr><th scope=row>xr65</th><td>-1.037768e-04</td><td>5.416760e-05 </td><td>-1.91584652  </td><td>0.06564690   </td></tr>\n",
       "\t<tr><th scope=row>tot1</th><td>-1.279011e-01</td><td>1.125951e-01 </td><td>-1.13593842  </td><td>0.26561200   </td></tr>\n",
       "</tbody>\n",
       "</table>\n"
      ],
      "text/latex": [
       "\\begin{tabular}{r|llll}\n",
       "  & Estimate & Std. Error & t value & Pr(>\\textbar{}t\\textbar{})\\\\\n",
       "\\hline\n",
       "\t(Intercept) &  0.247160892 & 0.78450164   &  0.31505465  & 0.755056171 \\\\\n",
       "\tgdpsh465 & -0.009377989 & 0.02988773   & -0.31377391  & 0.756018519 \\\\\n",
       "\tintercept &          NaN &         NA   &         NaN  &         NaN \\\\\n",
       "\tbmp1l & -0.068862679 & 0.03253065   & -2.11685514  & 0.043289717 \\\\\n",
       "\tfreeop &  0.080068972 & 0.20786400   &  0.38519884  & 0.703000843 \\\\\n",
       "\tfreetar & -0.488962603 & 0.41816285   & -1.16931143  & 0.252136478 \\\\\n",
       "\th65 & -2.362098643 & 0.85729167   & -2.75530339  & 0.010192435 \\\\\n",
       "\thm65 &  0.707143403 & 0.52314511   &  1.35171561  & 0.187285917 \\\\\n",
       "\thf65 &  1.693448426 & 0.50318881   &  3.36543337  & 0.002232683 \\\\\n",
       "\tp65 &  0.265526696 & 0.16429407   &  1.61616729  & 0.117271228 \\\\\n",
       "\tpm65 &  0.136952625 & 0.15121749   &  0.90566656  & 0.372840116 \\\\\n",
       "\tpf65 & -0.331266947 & 0.16512299   & -2.00618302  & 0.054583867 \\\\\n",
       "\ts65 &  0.039079307 & 0.18552248   &  0.21064459  & 0.834690078 \\\\\n",
       "\tsm65 & -0.030668507 & 0.11679396   & -0.26258642  & 0.794791807 \\\\\n",
       "\tsf65 & -0.179917281 & 0.11809892   & -1.52344557  & 0.138863009 \\\\\n",
       "\tfert65 &  0.006880834 & 0.02705142   &  0.25436128  & 0.801075252 \\\\\n",
       "\tmort65 & -0.233454503 & 0.81742198   & -0.28559852  & 0.777287824 \\\\\n",
       "\tlifee065 & -0.014914472 & 0.19333559   & -0.07714292  & 0.939058460 \\\\\n",
       "\tgpop1 &  0.970184569 & 1.81220836   &  0.53536039  & 0.596627598 \\\\\n",
       "\tfert1 &  0.008838189 & 0.03504148   &  0.25222077  & 0.802712696 \\\\\n",
       "\tmort1 &  0.066562928 & 0.68481003   &  0.09719911  & 0.923260701 \\\\\n",
       "\tinvsh41 &  0.074461125 & 0.10844692   &  0.68661353  & 0.497973614 \\\\\n",
       "\tgeetot1 & -0.715104900 & 1.68013567   & -0.42562331  & 0.673636105 \\\\\n",
       "\tgeerec1 &  0.630004625 & 2.44737849   &  0.25742019  & 0.798736844 \\\\\n",
       "\tgde1 & -0.443575221 & 1.67120675   & -0.26542211  & 0.792628756 \\\\\n",
       "\tgovwb1 &  0.337452361 & 0.43798695   &  0.77046213  & 0.447478341 \\\\\n",
       "\tgovsh41 &  0.463174638 & 1.92543734   &  0.24055555  & 0.811652244 \\\\\n",
       "\tgvxdxe41 & -0.793381586 & 2.05939737   & -0.38524939  & 0.702963814 \\\\\n",
       "\thigh65 & -0.752483827 & 0.90572159   & -0.83081141  & 0.413108818 \\\\\n",
       "\thighm65 & -0.390261809 & 0.68124930   & -0.57286196  & 0.571310298 \\\\\n",
       "\t... & ... & ... & ... & ...\\\\\n",
       "\thighcf65 &  3.920771e-01 & 7.660246e-01  &  0.51183360   & 0.61278088   \\\\\n",
       "\thuman65 &  2.337269e+00 & 3.307269e+00  &  0.70670677   & 0.48558874   \\\\\n",
       "\thumanm65 & -1.209249e+00 & 1.618516e+00  & -0.74713473   & 0.46121073   \\\\\n",
       "\thumanf65 & -1.103947e+00 & 1.684693e+00  & -0.65528073   & 0.51763500   \\\\\n",
       "\thyr65 &  5.491388e+01 & 2.388729e+01  &  2.29887430   & 0.02918450   \\\\\n",
       "\thyrm65 &  1.293505e+01 & 2.317142e+01  &  0.55823279   & 0.58112223   \\\\\n",
       "\thyrf65 &  9.092580e+00 & 1.766958e+01  &  0.51458948   & 0.61087820   \\\\\n",
       "\tno65 &  3.720986e-02 & 1.319733e-01  &  0.28194992   & 0.78005543   \\\\\n",
       "\tnom65 & -2.119769e-02 & 6.495975e-02  & -0.32632031   & 0.74660862   \\\\\n",
       "\tnof65 & -1.685782e-02 & 6.700258e-02  & -0.25159952   & 0.80318812   \\\\\n",
       "\tpinstab1 & -4.997113e-02 & 3.092081e-02  & -1.61610018   & 0.11728579   \\\\\n",
       "\tpop65 &  1.031796e-07 & 1.317950e-07  &  0.78287929   & 0.44026959   \\\\\n",
       "\tworker65 &  3.407897e-02 & 1.561909e-01  &  0.21818786   & 0.82886515   \\\\\n",
       "\tpop1565 & -4.655346e-01 & 4.713340e-01  & -0.98769582   & 0.33176044   \\\\\n",
       "\tpop6565 & -1.357450e+00 & 6.349424e-01  & -2.13791049   & 0.04139326   \\\\\n",
       "\tsec65 & -1.089278e-02 & 3.076618e-01  & -0.03540505   & 0.97200796   \\\\\n",
       "\tsecm65 &  3.343663e-03 & 1.511923e-01  &  0.02211529   & 0.98251284   \\\\\n",
       "\tsecf65 & -2.304330e-03 & 1.579715e-01  & -0.01458699   & 0.98846512   \\\\\n",
       "\tsecc65 & -4.915284e-01 & 7.290408e-01  & -0.67421247   & 0.50570489   \\\\\n",
       "\tseccm65 &  2.596016e-01 & 3.556533e-01  &  0.72992874   & 0.47149686   \\\\\n",
       "\tseccf65 &  2.206524e-01 & 3.733333e-01  &  0.59103325   & 0.55923950   \\\\\n",
       "\tsyr65 & -7.555806e-01 & 7.976763e+00  & -0.09472271   & 0.92520971   \\\\\n",
       "\tsyrm65 &  3.109007e-01 & 3.896731e+00  &  0.07978500   & 0.93697577   \\\\\n",
       "\tsyrf65 &  7.592810e-01 & 4.110634e+00  &  0.18471141   & 0.85478678   \\\\\n",
       "\tteapri65 &  3.954524e-05 & 7.700406e-04  &  0.05135474   & 0.95940747   \\\\\n",
       "\tteasec65 &  2.496674e-04 & 1.171230e-03  &  0.21316678   & 0.83274136   \\\\\n",
       "\tex1 & -5.804081e-01 & 2.418472e-01  & -2.39989593   & 0.02329485   \\\\\n",
       "\tim1 &  5.914450e-01 & 2.502978e-01  &  2.36296558   & 0.02530892   \\\\\n",
       "\txr65 & -1.037768e-04 & 5.416760e-05  & -1.91584652   & 0.06564690   \\\\\n",
       "\ttot1 & -1.279011e-01 & 1.125951e-01  & -1.13593842   & 0.26561200   \\\\\n",
       "\\end{tabular}\n"
      ],
      "text/markdown": [
       "\n",
       "| <!--/--> | Estimate | Std. Error | t value | Pr(>|t|) |\n",
       "|---|---|---|---|---|\n",
       "| (Intercept) |  0.247160892 | 0.78450164   |  0.31505465  | 0.755056171  |\n",
       "| gdpsh465 | -0.009377989 | 0.02988773   | -0.31377391  | 0.756018519  |\n",
       "| intercept |          NaN |         NA   |         NaN  |         NaN  |\n",
       "| bmp1l | -0.068862679 | 0.03253065   | -2.11685514  | 0.043289717  |\n",
       "| freeop |  0.080068972 | 0.20786400   |  0.38519884  | 0.703000843  |\n",
       "| freetar | -0.488962603 | 0.41816285   | -1.16931143  | 0.252136478  |\n",
       "| h65 | -2.362098643 | 0.85729167   | -2.75530339  | 0.010192435  |\n",
       "| hm65 |  0.707143403 | 0.52314511   |  1.35171561  | 0.187285917  |\n",
       "| hf65 |  1.693448426 | 0.50318881   |  3.36543337  | 0.002232683  |\n",
       "| p65 |  0.265526696 | 0.16429407   |  1.61616729  | 0.117271228  |\n",
       "| pm65 |  0.136952625 | 0.15121749   |  0.90566656  | 0.372840116  |\n",
       "| pf65 | -0.331266947 | 0.16512299   | -2.00618302  | 0.054583867  |\n",
       "| s65 |  0.039079307 | 0.18552248   |  0.21064459  | 0.834690078  |\n",
       "| sm65 | -0.030668507 | 0.11679396   | -0.26258642  | 0.794791807  |\n",
       "| sf65 | -0.179917281 | 0.11809892   | -1.52344557  | 0.138863009  |\n",
       "| fert65 |  0.006880834 | 0.02705142   |  0.25436128  | 0.801075252  |\n",
       "| mort65 | -0.233454503 | 0.81742198   | -0.28559852  | 0.777287824  |\n",
       "| lifee065 | -0.014914472 | 0.19333559   | -0.07714292  | 0.939058460  |\n",
       "| gpop1 |  0.970184569 | 1.81220836   |  0.53536039  | 0.596627598  |\n",
       "| fert1 |  0.008838189 | 0.03504148   |  0.25222077  | 0.802712696  |\n",
       "| mort1 |  0.066562928 | 0.68481003   |  0.09719911  | 0.923260701  |\n",
       "| invsh41 |  0.074461125 | 0.10844692   |  0.68661353  | 0.497973614  |\n",
       "| geetot1 | -0.715104900 | 1.68013567   | -0.42562331  | 0.673636105  |\n",
       "| geerec1 |  0.630004625 | 2.44737849   |  0.25742019  | 0.798736844  |\n",
       "| gde1 | -0.443575221 | 1.67120675   | -0.26542211  | 0.792628756  |\n",
       "| govwb1 |  0.337452361 | 0.43798695   |  0.77046213  | 0.447478341  |\n",
       "| govsh41 |  0.463174638 | 1.92543734   |  0.24055555  | 0.811652244  |\n",
       "| gvxdxe41 | -0.793381586 | 2.05939737   | -0.38524939  | 0.702963814  |\n",
       "| high65 | -0.752483827 | 0.90572159   | -0.83081141  | 0.413108818  |\n",
       "| highm65 | -0.390261809 | 0.68124930   | -0.57286196  | 0.571310298  |\n",
       "| ... | ... | ... | ... | ... |\n",
       "| highcf65 |  3.920771e-01 | 7.660246e-01  |  0.51183360   | 0.61278088    |\n",
       "| human65 |  2.337269e+00 | 3.307269e+00  |  0.70670677   | 0.48558874    |\n",
       "| humanm65 | -1.209249e+00 | 1.618516e+00  | -0.74713473   | 0.46121073    |\n",
       "| humanf65 | -1.103947e+00 | 1.684693e+00  | -0.65528073   | 0.51763500    |\n",
       "| hyr65 |  5.491388e+01 | 2.388729e+01  |  2.29887430   | 0.02918450    |\n",
       "| hyrm65 |  1.293505e+01 | 2.317142e+01  |  0.55823279   | 0.58112223    |\n",
       "| hyrf65 |  9.092580e+00 | 1.766958e+01  |  0.51458948   | 0.61087820    |\n",
       "| no65 |  3.720986e-02 | 1.319733e-01  |  0.28194992   | 0.78005543    |\n",
       "| nom65 | -2.119769e-02 | 6.495975e-02  | -0.32632031   | 0.74660862    |\n",
       "| nof65 | -1.685782e-02 | 6.700258e-02  | -0.25159952   | 0.80318812    |\n",
       "| pinstab1 | -4.997113e-02 | 3.092081e-02  | -1.61610018   | 0.11728579    |\n",
       "| pop65 |  1.031796e-07 | 1.317950e-07  |  0.78287929   | 0.44026959    |\n",
       "| worker65 |  3.407897e-02 | 1.561909e-01  |  0.21818786   | 0.82886515    |\n",
       "| pop1565 | -4.655346e-01 | 4.713340e-01  | -0.98769582   | 0.33176044    |\n",
       "| pop6565 | -1.357450e+00 | 6.349424e-01  | -2.13791049   | 0.04139326    |\n",
       "| sec65 | -1.089278e-02 | 3.076618e-01  | -0.03540505   | 0.97200796    |\n",
       "| secm65 |  3.343663e-03 | 1.511923e-01  |  0.02211529   | 0.98251284    |\n",
       "| secf65 | -2.304330e-03 | 1.579715e-01  | -0.01458699   | 0.98846512    |\n",
       "| secc65 | -4.915284e-01 | 7.290408e-01  | -0.67421247   | 0.50570489    |\n",
       "| seccm65 |  2.596016e-01 | 3.556533e-01  |  0.72992874   | 0.47149686    |\n",
       "| seccf65 |  2.206524e-01 | 3.733333e-01  |  0.59103325   | 0.55923950    |\n",
       "| syr65 | -7.555806e-01 | 7.976763e+00  | -0.09472271   | 0.92520971    |\n",
       "| syrm65 |  3.109007e-01 | 3.896731e+00  |  0.07978500   | 0.93697577    |\n",
       "| syrf65 |  7.592810e-01 | 4.110634e+00  |  0.18471141   | 0.85478678    |\n",
       "| teapri65 |  3.954524e-05 | 7.700406e-04  |  0.05135474   | 0.95940747    |\n",
       "| teasec65 |  2.496674e-04 | 1.171230e-03  |  0.21316678   | 0.83274136    |\n",
       "| ex1 | -5.804081e-01 | 2.418472e-01  | -2.39989593   | 0.02329485    |\n",
       "| im1 |  5.914450e-01 | 2.502978e-01  |  2.36296558   | 0.02530892    |\n",
       "| xr65 | -1.037768e-04 | 5.416760e-05  | -1.91584652   | 0.06564690    |\n",
       "| tot1 | -1.279011e-01 | 1.125951e-01  | -1.13593842   | 0.26561200    |\n",
       "\n"
      ],
      "text/plain": [
       "            Estimate      Std. Error   t value     Pr(>|t|)   \n",
       "(Intercept)  0.247160892  0.78450164    0.31505465 0.755056171\n",
       "gdpsh465    -0.009377989  0.02988773   -0.31377391 0.756018519\n",
       "intercept            NaN          NA           NaN         NaN\n",
       "bmp1l       -0.068862679  0.03253065   -2.11685514 0.043289717\n",
       "freeop       0.080068972  0.20786400    0.38519884 0.703000843\n",
       "freetar     -0.488962603  0.41816285   -1.16931143 0.252136478\n",
       "h65         -2.362098643  0.85729167   -2.75530339 0.010192435\n",
       "hm65         0.707143403  0.52314511    1.35171561 0.187285917\n",
       "hf65         1.693448426  0.50318881    3.36543337 0.002232683\n",
       "p65          0.265526696  0.16429407    1.61616729 0.117271228\n",
       "pm65         0.136952625  0.15121749    0.90566656 0.372840116\n",
       "pf65        -0.331266947  0.16512299   -2.00618302 0.054583867\n",
       "s65          0.039079307  0.18552248    0.21064459 0.834690078\n",
       "sm65        -0.030668507  0.11679396   -0.26258642 0.794791807\n",
       "sf65        -0.179917281  0.11809892   -1.52344557 0.138863009\n",
       "fert65       0.006880834  0.02705142    0.25436128 0.801075252\n",
       "mort65      -0.233454503  0.81742198   -0.28559852 0.777287824\n",
       "lifee065    -0.014914472  0.19333559   -0.07714292 0.939058460\n",
       "gpop1        0.970184569  1.81220836    0.53536039 0.596627598\n",
       "fert1        0.008838189  0.03504148    0.25222077 0.802712696\n",
       "mort1        0.066562928  0.68481003    0.09719911 0.923260701\n",
       "invsh41      0.074461125  0.10844692    0.68661353 0.497973614\n",
       "geetot1     -0.715104900  1.68013567   -0.42562331 0.673636105\n",
       "geerec1      0.630004625  2.44737849    0.25742019 0.798736844\n",
       "gde1        -0.443575221  1.67120675   -0.26542211 0.792628756\n",
       "govwb1       0.337452361  0.43798695    0.77046213 0.447478341\n",
       "govsh41      0.463174638  1.92543734    0.24055555 0.811652244\n",
       "gvxdxe41    -0.793381586  2.05939737   -0.38524939 0.702963814\n",
       "high65      -0.752483827  0.90572159   -0.83081141 0.413108818\n",
       "highm65     -0.390261809  0.68124930   -0.57286196 0.571310298\n",
       "...         ...           ...          ...         ...        \n",
       "highcf65     3.920771e-01 7.660246e-01  0.51183360 0.61278088 \n",
       "human65      2.337269e+00 3.307269e+00  0.70670677 0.48558874 \n",
       "humanm65    -1.209249e+00 1.618516e+00 -0.74713473 0.46121073 \n",
       "humanf65    -1.103947e+00 1.684693e+00 -0.65528073 0.51763500 \n",
       "hyr65        5.491388e+01 2.388729e+01  2.29887430 0.02918450 \n",
       "hyrm65       1.293505e+01 2.317142e+01  0.55823279 0.58112223 \n",
       "hyrf65       9.092580e+00 1.766958e+01  0.51458948 0.61087820 \n",
       "no65         3.720986e-02 1.319733e-01  0.28194992 0.78005543 \n",
       "nom65       -2.119769e-02 6.495975e-02 -0.32632031 0.74660862 \n",
       "nof65       -1.685782e-02 6.700258e-02 -0.25159952 0.80318812 \n",
       "pinstab1    -4.997113e-02 3.092081e-02 -1.61610018 0.11728579 \n",
       "pop65        1.031796e-07 1.317950e-07  0.78287929 0.44026959 \n",
       "worker65     3.407897e-02 1.561909e-01  0.21818786 0.82886515 \n",
       "pop1565     -4.655346e-01 4.713340e-01 -0.98769582 0.33176044 \n",
       "pop6565     -1.357450e+00 6.349424e-01 -2.13791049 0.04139326 \n",
       "sec65       -1.089278e-02 3.076618e-01 -0.03540505 0.97200796 \n",
       "secm65       3.343663e-03 1.511923e-01  0.02211529 0.98251284 \n",
       "secf65      -2.304330e-03 1.579715e-01 -0.01458699 0.98846512 \n",
       "secc65      -4.915284e-01 7.290408e-01 -0.67421247 0.50570489 \n",
       "seccm65      2.596016e-01 3.556533e-01  0.72992874 0.47149686 \n",
       "seccf65      2.206524e-01 3.733333e-01  0.59103325 0.55923950 \n",
       "syr65       -7.555806e-01 7.976763e+00 -0.09472271 0.92520971 \n",
       "syrm65       3.109007e-01 3.896731e+00  0.07978500 0.93697577 \n",
       "syrf65       7.592810e-01 4.110634e+00  0.18471141 0.85478678 \n",
       "teapri65     3.954524e-05 7.700406e-04  0.05135474 0.95940747 \n",
       "teasec65     2.496674e-04 1.171230e-03  0.21316678 0.83274136 \n",
       "ex1         -5.804081e-01 2.418472e-01 -2.39989593 0.02329485 \n",
       "im1          5.914450e-01 2.502978e-01  2.36296558 0.02530892 \n",
       "xr65        -1.037768e-04 5.416760e-05 -1.91584652 0.06564690 \n",
       "tot1        -1.279011e-01 1.125951e-01 -1.13593842 0.26561200 "
      ]
     },
     "metadata": {},
     "output_type": "display_data"
    }
   ],
   "source": [
    "summary(control.ols)$coef"
   ]
  },
  {
   "cell_type": "markdown",
   "id": "3abaddf9",
   "metadata": {
    "papermill": {
     "duration": 0.022083,
     "end_time": "2021-02-13T17:30:40.902070",
     "exception": false,
     "start_time": "2021-02-13T17:30:40.879987",
     "status": "completed"
    },
    "tags": []
   },
   "source": [
    "# DML algorithm\n",
    "\n",
    "Here we perform inference of the predictive coefficient $\\beta$ in our partially linear statistical model, \n",
    "\n",
    "$$\n",
    "Y = D\\beta + g(Z) + \\epsilon, \\quad E (\\epsilon | D, Z) = 0,\n",
    "$$\n",
    "\n",
    "using the **double machine learning** approach. \n",
    "\n",
    "For $\\tilde Y = Y- E(Y|Z)$ and $\\tilde D= D- E(D|Z)$, we can write\n",
    "$$\n",
    "\\tilde Y = \\alpha \\tilde D + \\epsilon, \\quad E (\\epsilon |\\tilde D) =0.\n",
    "$$\n",
    "\n",
    "Using cross-fitting, we employ modern regression methods\n",
    "to build estimators $\\hat \\ell(Z)$ and $\\hat m(Z)$ of $\\ell(Z):=E(Y|Z)$ and $m(Z):=E(D|Z)$ to obtain the estimates of the residualized quantities:\n",
    "\n",
    "$$\n",
    "\\tilde Y_i = Y_i  - \\hat \\ell (Z_i),   \\quad \\tilde D_i = D_i - \\hat m(Z_i), \\quad \\text{ for each } i = 1,\\dots,n.\n",
    "$$\n",
    "\n",
    "Finally, using ordinary least squares of $\\tilde Y_i$ on $\\tilde D_i$, we obtain the \n",
    "estimate of $\\beta$."
   ]
  },
  {
   "cell_type": "markdown",
   "id": "dd10671c",
   "metadata": {
    "papermill": {
     "duration": 0.021101,
     "end_time": "2021-02-13T17:30:40.944373",
     "exception": false,
     "start_time": "2021-02-13T17:30:40.923272",
     "status": "completed"
    },
    "tags": []
   },
   "source": [
    "The following algorithm comsumes $Y, D, Z$, and a machine learning method for learning the residuals $\\tilde Y$ and $\\tilde D$, where the residuals are obtained by cross-validation (cross-fitting). Then, it prints the estimated coefficient $\\beta$ and the corresponding standard error from the final OLS regression."
   ]
  },
  {
   "cell_type": "code",
   "execution_count": 161,
   "id": "8a776e6b",
   "metadata": {
    "execution": {
     "iopub.execute_input": "2021-02-13T17:30:41.049917Z",
     "iopub.status.busy": "2021-02-13T17:30:41.048343Z",
     "iopub.status.idle": "2021-02-13T17:30:41.060452Z",
     "shell.execute_reply": "2021-02-13T17:30:41.059555Z"
    },
    "papermill": {
     "duration": 0.095479,
     "end_time": "2021-02-13T17:30:41.060587",
     "exception": false,
     "start_time": "2021-02-13T17:30:40.965108",
     "status": "completed"
    },
    "tags": []
   },
   "outputs": [],
   "source": [
    "DML2.for.PLM <- function(z, d, y, dreg, yreg, nfold=10) {\n",
    "  nobs <- nrow(z) #number of observations\n",
    "  foldid <- rep.int(1:nfold,times = ceiling(nobs/nfold))[sample.int(nobs)] #define folds indices\n",
    "  I <- split(1:nobs, foldid)  #split observation indices into folds  \n",
    "  ytil <- dtil <- rep(NA, nobs)\n",
    "  cat(\"fold: \")\n",
    "  for(b in 1:length(I)){\n",
    "    dfit <- dreg(z[-I[[b]],], d[-I[[b]]]) #take a fold out\n",
    "    yfit <- yreg(z[-I[[b]],], y[-I[[b]]]) # take a foldt out\n",
    "    dhat <- predict(dfit, z[I[[b]],], type=\"response\") #predict the left-out fold \n",
    "    yhat <- predict(yfit, z[I[[b]],], type=\"response\") #predict the left-out fold  \n",
    "    dtil[I[[b]]] <- (d[I[[b]]] - dhat) #record residual for the left-out fold\n",
    "    ytil[I[[b]]] <- (y[I[[b]]] - yhat) #record residial for the left-out fold\n",
    "    cat(b,\" \")\n",
    "        }\n",
    "  #rfit <- lm(ytil ~ dtil)    #estimate the main parameter by regressing one residual on the other\n",
    "  data <- data.frame(cbind(ytil, dtil))\n",
    "  rfit <- felm(ytil ~ dtil,data=data) \n",
    "  coef.est <- coef(rfit)[2]  #extract coefficient\n",
    "  #HC <- vcovHC(rfit)\n",
    "  se    <- summary(rfit,robust=T)$coefficients[2,2] #record robust standard error by County\n",
    "  cat(sprintf(\"\\ncoef (se) = %g (%g)\\n\", coef.est , se))  #printing output\n",
    "  return( list(coef.est =coef.est , se=se, dtil=dtil, ytil=ytil, rfit=rfit) ) #save output and residuals \n",
    "}"
   ]
  },
  {
   "cell_type": "markdown",
   "id": "1c24c62c",
   "metadata": {
    "papermill": {
     "duration": 0.020604,
     "end_time": "2021-02-13T17:30:41.102146",
     "exception": false,
     "start_time": "2021-02-13T17:30:41.081542",
     "status": "completed"
    },
    "tags": []
   },
   "source": [
    "Now, we apply the Double Machine Learning (DML) approach with different machine learning methods. First, we load the relevant libraries."
   ]
  },
  {
   "cell_type": "code",
   "execution_count": 132,
   "id": "e87e5013",
   "metadata": {
    "execution": {
     "iopub.execute_input": "2021-02-13T17:30:41.148547Z",
     "iopub.status.busy": "2021-02-13T17:30:41.147436Z",
     "iopub.status.idle": "2021-02-13T17:30:41.609900Z",
     "shell.execute_reply": "2021-02-13T17:30:41.609227Z"
    },
    "papermill": {
     "duration": 0.486944,
     "end_time": "2021-02-13T17:30:41.610047",
     "exception": false,
     "start_time": "2021-02-13T17:30:41.123103",
     "status": "completed"
    },
    "tags": []
   },
   "outputs": [],
   "source": [
    "library(hdm)\n",
    "library(glmnet)\n",
    "library(sandwich)\n",
    "library(randomForest)"
   ]
  },
  {
   "cell_type": "markdown",
   "id": "355270f7",
   "metadata": {
    "papermill": {
     "duration": 0.022531,
     "end_time": "2021-02-13T17:30:41.655799",
     "exception": false,
     "start_time": "2021-02-13T17:30:41.633268",
     "status": "completed"
    },
    "tags": []
   },
   "source": [
    "Let us, construct the input matrices."
   ]
  },
  {
   "cell_type": "code",
   "execution_count": 162,
   "id": "bf09c080",
   "metadata": {
    "execution": {
     "iopub.execute_input": "2021-02-13T17:30:41.706539Z",
     "iopub.status.busy": "2021-02-13T17:30:41.705289Z",
     "iopub.status.idle": "2021-02-13T17:30:41.750368Z",
     "shell.execute_reply": "2021-02-13T17:30:41.749361Z"
    },
    "papermill": {
     "duration": 0.071827,
     "end_time": "2021-02-13T17:30:41.750537",
     "exception": false,
     "start_time": "2021-02-13T17:30:41.678710",
     "status": "completed"
    },
    "tags": []
   },
   "outputs": [
    {
     "data": {
      "text/html": [
       "<table>\n",
       "<thead><tr><th scope=col>data.Outcome</th><th scope=col>data.gdpsh465</th></tr></thead>\n",
       "<tbody>\n",
       "\t<tr><td>-0.02433575</td><td>6.591674   </td></tr>\n",
       "\t<tr><td> 0.10047257</td><td>6.829794   </td></tr>\n",
       "\t<tr><td> 0.06705148</td><td>8.895082   </td></tr>\n",
       "\t<tr><td> 0.06408917</td><td>7.565275   </td></tr>\n",
       "\t<tr><td> 0.02792955</td><td>7.162397   </td></tr>\n",
       "\t<tr><td> 0.04640744</td><td>7.218910   </td></tr>\n",
       "</tbody>\n",
       "</table>\n"
      ],
      "text/latex": [
       "\\begin{tabular}{r|ll}\n",
       " data.Outcome & data.gdpsh465\\\\\n",
       "\\hline\n",
       "\t -0.02433575 & 6.591674   \\\\\n",
       "\t  0.10047257 & 6.829794   \\\\\n",
       "\t  0.06705148 & 8.895082   \\\\\n",
       "\t  0.06408917 & 7.565275   \\\\\n",
       "\t  0.02792955 & 7.162397   \\\\\n",
       "\t  0.04640744 & 7.218910   \\\\\n",
       "\\end{tabular}\n"
      ],
      "text/markdown": [
       "\n",
       "| data.Outcome | data.gdpsh465 |\n",
       "|---|---|\n",
       "| -0.02433575 | 6.591674    |\n",
       "|  0.10047257 | 6.829794    |\n",
       "|  0.06705148 | 8.895082    |\n",
       "|  0.06408917 | 7.565275    |\n",
       "|  0.02792955 | 7.162397    |\n",
       "|  0.04640744 | 7.218910    |\n",
       "\n"
      ],
      "text/plain": [
       "  data.Outcome data.gdpsh465\n",
       "1 -0.02433575  6.591674     \n",
       "2  0.10047257  6.829794     \n",
       "3  0.06705148  8.895082     \n",
       "4  0.06408917  7.565275     \n",
       "5  0.02792955  7.162397     \n",
       "6  0.04640744  7.218910     "
      ]
     },
     "metadata": {},
     "output_type": "display_data"
    }
   ],
   "source": [
    "y <- as.matrix(Y)\n",
    "d <- as.matrix(D)\n",
    "z <- as.matrix(Z)\n",
    "head(data.frame(cbind(y,d)))"
   ]
  },
  {
   "cell_type": "markdown",
   "id": "a9093657",
   "metadata": {
    "papermill": {
     "duration": 0.022813,
     "end_time": "2021-02-13T17:30:41.796577",
     "exception": false,
     "start_time": "2021-02-13T17:30:41.773764",
     "status": "completed"
    },
    "tags": []
   },
   "source": [
    "In the following, we apply the DML approach with the differnt versions of lasso.\n"
   ]
  },
  {
   "cell_type": "markdown",
   "id": "85709f06",
   "metadata": {
    "papermill": {
     "duration": 0.02306,
     "end_time": "2021-02-13T17:30:41.843131",
     "exception": false,
     "start_time": "2021-02-13T17:30:41.820071",
     "status": "completed"
    },
    "tags": []
   },
   "source": [
    "## Lasso"
   ]
  },
  {
   "cell_type": "code",
   "execution_count": 163,
   "id": "15603fbf",
   "metadata": {
    "execution": {
     "iopub.execute_input": "2021-02-13T17:30:41.892634Z",
     "iopub.status.busy": "2021-02-13T17:30:41.891453Z",
     "iopub.status.idle": "2021-02-13T17:31:07.362797Z",
     "shell.execute_reply": "2021-02-13T17:31:07.360728Z"
    },
    "papermill": {
     "duration": 25.497739,
     "end_time": "2021-02-13T17:31:07.363059",
     "exception": false,
     "start_time": "2021-02-13T17:30:41.865320",
     "status": "completed"
    },
    "tags": []
   },
   "outputs": [],
   "source": [
    "#DML with Lasso:\n",
    "set.seed(123)\n",
    "dreg <- function(z,d){ rlasso(z,d, post=FALSE) } #ML method= lasso from hdm \n",
    "yreg <- function(z,y){ rlasso(z,y, post=FALSE) } #ML method = lasso from hdm"
   ]
  },
  {
   "cell_type": "code",
   "execution_count": 164,
   "id": "422fad0a",
   "metadata": {
    "execution": {
     "iopub.execute_input": "2021-02-13T17:30:41.892634Z",
     "iopub.status.busy": "2021-02-13T17:30:41.891453Z",
     "iopub.status.idle": "2021-02-13T17:31:07.362797Z",
     "shell.execute_reply": "2021-02-13T17:31:07.360728Z"
    },
    "papermill": {
     "duration": 25.497739,
     "end_time": "2021-02-13T17:31:07.363059",
     "exception": false,
     "start_time": "2021-02-13T17:30:41.865320",
     "status": "completed"
    },
    "tags": []
   },
   "outputs": [
    {
     "name": "stdout",
     "output_type": "stream",
     "text": [
      "fold: 1  2  3  4  5  6  7  8  9  10  \n",
      "coef (se) = -0.0369952 (0.0161759)\n"
     ]
    }
   ],
   "source": [
    "DML2.lasso = DML2.for.PLM(z, d, y, dreg, yreg, nfold=10)"
   ]
  },
  {
   "cell_type": "code",
   "execution_count": 165,
   "id": "62eb4dcb",
   "metadata": {
    "execution": {
     "iopub.execute_input": "2021-02-13T17:31:07.450047Z",
     "iopub.status.busy": "2021-02-13T17:31:07.449335Z",
     "iopub.status.idle": "2021-02-13T17:31:33.296006Z",
     "shell.execute_reply": "2021-02-13T17:31:33.294119Z"
    },
    "papermill": {
     "duration": 25.88845,
     "end_time": "2021-02-13T17:31:33.296252",
     "exception": false,
     "start_time": "2021-02-13T17:31:07.407802",
     "status": "completed"
    },
    "tags": []
   },
   "outputs": [
    {
     "name": "stdout",
     "output_type": "stream",
     "text": [
      "fold: 1  2  3  4  5  6  7  8  9  10  \n",
      "coef (se) = -0.0368285 (0.0141174)\n"
     ]
    }
   ],
   "source": [
    "#DML with Post-Lasso:\n",
    "dreg <- function(z,d){ rlasso(z,d, post=T) } #ML method= lasso from hdm \n",
    "yreg <- function(z,y){ rlasso(z,y, post=T) } #ML method = lasso from hdm\n",
    "DML2.post = DML2.for.PLM(z, d, y, dreg, yreg, nfold=10)"
   ]
  },
  {
   "cell_type": "code",
   "execution_count": 166,
   "id": "9f20aab6",
   "metadata": {
    "execution": {
     "iopub.execute_input": "2021-02-13T17:31:33.387359Z",
     "iopub.status.busy": "2021-02-13T17:31:33.386570Z",
     "iopub.status.idle": "2021-02-13T17:35:07.561791Z",
     "shell.execute_reply": "2021-02-13T17:35:07.562608Z"
    },
    "papermill": {
     "duration": 214.221131,
     "end_time": "2021-02-13T17:35:07.562866",
     "exception": false,
     "start_time": "2021-02-13T17:31:33.341735",
     "status": "completed"
    },
    "tags": []
   },
   "outputs": [
    {
     "name": "stdout",
     "output_type": "stream",
     "text": [
      "fold: 1  2  3  4  5  6  7  8  9  10  \n",
      "coef (se) = -0.0334203 (0.0158817)\n",
      "fold: 1  2  3  4  5  6  7  8  9  10  \n",
      "coef (se) = -0.0243239 (0.0171721)\n",
      "fold: 1  2  3  4  5  6  7  8  9  10  \n",
      "coef (se) = -0.0352966 (0.0166095)\n"
     ]
    }
   ],
   "source": [
    "#DML with cross-validated Lasso:\n",
    "dreg <- function(z,d){ cv.glmnet(z,d,family=\"gaussian\", alpha=1) } #ML method = lasso from glmnet \n",
    "yreg <- function(z,y){ cv.glmnet(z,y,family=\"gaussian\", alpha=1) }  #ML method = lasso from glmnet \n",
    "DML2.lasso.cv = DML2.for.PLM(z, d, y, dreg, yreg, nfold=10)\n",
    "\n",
    "dreg <- function(z,d){ cv.glmnet(z,d,family=\"gaussian\", alpha=0.5) } #ML method = elastic net from glmnet \n",
    "yreg <- function(z,y){ cv.glmnet(z,y,family=\"gaussian\", alpha=0.5) }  #ML method = elastic net from glmnet \n",
    "DML2.elnet = DML2.for.PLM(z, d, y, dreg, yreg, nfold=10)\n",
    "\n",
    "dreg <- function(z,d){ cv.glmnet(z,d,family=\"gaussian\", alpha=0) } #ML method = ridge from glmnet \n",
    "yreg <- function(z,y){ cv.glmnet(z,y,family=\"gaussian\", alpha=0) }  #ML method = ridge from glmnet \n",
    "DML2.ridge = DML2.for.PLM(z, d, y, dreg, yreg, nfold=10)"
   ]
  },
  {
   "cell_type": "markdown",
   "id": "5b311499",
   "metadata": {},
   "source": [
    "Here we also compute DML with OLS used as the ML method"
   ]
  },
  {
   "cell_type": "code",
   "execution_count": 168,
   "id": "db437ee4",
   "metadata": {},
   "outputs": [
    {
     "name": "stdout",
     "output_type": "stream",
     "text": [
      "fold: 1  2  3  4  5  6  7  8  9  10  \n",
      "coef (se) = 0.0214194 (0.0120002)\n"
     ]
    }
   ],
   "source": [
    "dreg <- function(z,d){  glmnet(z,d,family=\"gaussian\", lambda=0) } #ML method = ols from glmnet \n",
    "yreg <- function(z,y){  glmnet(z,y,family=\"gaussian\", lambda=0) }  #ML method = ols from glmnet \n",
    "DML2.ols = DML2.for.PLM(z, d, y, dreg, yreg, nfold=10)"
   ]
  },
  {
   "cell_type": "markdown",
   "id": "ee161cf0",
   "metadata": {},
   "source": [
    "Next, we also apply Random Forest for comparison purposes."
   ]
  },
  {
   "cell_type": "markdown",
   "id": "2e7aed92",
   "metadata": {
    "papermill": {
     "duration": 0.025256,
     "end_time": "2021-02-13T17:35:14.266042",
     "exception": false,
     "start_time": "2021-02-13T17:35:14.240786",
     "status": "completed"
    },
    "tags": []
   },
   "source": [
    "### Random Forest\n"
   ]
  },
  {
   "cell_type": "code",
   "execution_count": 169,
   "id": "4d0287c9",
   "metadata": {
    "execution": {
     "iopub.execute_input": "2021-02-13T17:35:14.320437Z",
     "iopub.status.busy": "2021-02-13T17:35:14.319294Z",
     "iopub.status.idle": "2021-02-13T17:40:48.550498Z",
     "shell.execute_reply": "2021-02-13T17:40:48.551323Z"
    },
    "papermill": {
     "duration": 334.261061,
     "end_time": "2021-02-13T17:40:48.551591",
     "exception": false,
     "start_time": "2021-02-13T17:35:14.290530",
     "status": "completed"
    },
    "scrolled": false,
    "tags": []
   },
   "outputs": [
    {
     "name": "stdout",
     "output_type": "stream",
     "text": [
      "fold: 1  2  3  4  5  6  7  8  9  10  \n",
      "coef (se) = -0.0396444 (0.0143189)\n"
     ]
    }
   ],
   "source": [
    "#DML with Random Forest:\n",
    "dreg <- function(z,d){ randomForest(z, d) } #ML method=Forest \n",
    "yreg <- function(z,y){ randomForest(z, y) } #ML method=Forest\n",
    "set.seed(1)\n",
    "DML2.RF = DML2.for.PLM(z, d, y, dreg, yreg, nfold=10) # set to 2 due to computation time"
   ]
  },
  {
   "cell_type": "code",
   "execution_count": 170,
   "id": "e4b3da73",
   "metadata": {},
   "outputs": [
    {
     "data": {
      "text/html": [
       "20"
      ],
      "text/latex": [
       "20"
      ],
      "text/markdown": [
       "20"
      ],
      "text/plain": [
       "[1] 20"
      ]
     },
     "metadata": {},
     "output_type": "display_data"
    }
   ],
   "source": [
    "if (!is.null(d) && !is.factor(d))\n",
    "             max(floor(ncol(z)/3), 1) else floor(sqrt(ncol(z)))"
   ]
  },
  {
   "cell_type": "code",
   "execution_count": 171,
   "id": "9404825c",
   "metadata": {},
   "outputs": [
    {
     "data": {
      "text/html": [
       "5"
      ],
      "text/latex": [
       "5"
      ],
      "text/markdown": [
       "5"
      ],
      "text/plain": [
       "[1] 5"
      ]
     },
     "metadata": {},
     "output_type": "display_data"
    }
   ],
   "source": [
    "if (!is.null(d) && !is.factor(d)) 5 else 1"
   ]
  },
  {
   "cell_type": "markdown",
   "id": "73e72509",
   "metadata": {
    "papermill": {
     "duration": 0.024871,
     "end_time": "2021-02-13T17:40:48.605021",
     "exception": false,
     "start_time": "2021-02-13T17:40:48.580150",
     "status": "completed"
    },
    "tags": []
   },
   "source": [
    "We conclude that the initial wealth is related to growth rate - if initial wealth increases by 1% relative\n",
    "to a trend then the predicted groth rate goes up by about 0.21% controlling for counties' characteristics."
   ]
  },
  {
   "cell_type": "markdown",
   "id": "98a99766",
   "metadata": {
    "papermill": {
     "duration": 0.027238,
     "end_time": "2021-02-13T17:40:48.657096",
     "exception": false,
     "start_time": "2021-02-13T17:40:48.629858",
     "status": "completed"
    },
    "tags": []
   },
   "source": [
    "Finally, let's see which method is actually better. We compute RMSE for predicting D and Y, and see which\n",
    "of the methods works better.\n"
   ]
  },
  {
   "cell_type": "code",
   "execution_count": 173,
   "id": "395c6da4",
   "metadata": {
    "execution": {
     "iopub.execute_input": "2021-02-13T17:40:48.735660Z",
     "iopub.status.busy": "2021-02-13T17:40:48.733563Z",
     "iopub.status.idle": "2021-02-13T17:40:48.775290Z",
     "shell.execute_reply": "2021-02-13T17:40:48.773348Z"
    },
    "papermill": {
     "duration": 0.087953,
     "end_time": "2021-02-13T17:40:48.775469",
     "exception": false,
     "start_time": "2021-02-13T17:40:48.687516",
     "status": "completed"
    },
    "tags": []
   },
   "outputs": [
    {
     "name": "stdout",
     "output_type": "stream",
     "text": [
      "               OLS       Lasso  Post-Lasso   CV Lasso   CV Ridge   CV Elnet\n",
      "RMSE D 0.002065032 0.000826522 0.000333837 0.00217135 0.00021052 0.00277514\n",
      "RMSE Y 0.000824923 0.012439662 0.000541272 0.00170954 0.00119465 0.00310513\n",
      "                RF\n",
      "RMSE D 0.000212644\n",
      "RMSE Y 0.014425179\n"
     ]
    }
   ],
   "source": [
    "mods<- list(DML2.ols, DML2.lasso, DML2.post, DML2.lasso.cv, DML2.ridge, DML2.elnet, DML2.RF)\n",
    "\n",
    "RMSE.mdl<- function(mdl) {\n",
    "RMSEY <- sqrt(mean(mdl$ytil)^2) \n",
    "RMSED <- sqrt(mean(mdl$dtil)^2) \n",
    "return( list(RMSEY=RMSEY, RMSED=RMSED))\n",
    "}\n",
    "\n",
    "#RMSE.mdl(DML2.lasso)\n",
    "\n",
    "#DML2.lasso$ytil\n",
    "\n",
    "Res<- lapply(mods, RMSE.mdl)\n",
    "\n",
    "\n",
    "prRes.Y<- c( Res[[1]]$RMSEY,Res[[2]]$RMSEY, Res[[3]]$RMSEY, Res[[4]]$RMSEY, Res[[5]]$RMSEY,  Res[[6]]$RMSEY, Res[[7]]$RMSEY)\n",
    "prRes.D<- c( Res[[1]]$RMSED,Res[[2]]$RMSED, Res[[3]]$RMSED, Res[[4]]$RMSED, Res[[5]]$RMSED, Res[[6]]$RMSED, Res[[7]]$RMSED)\n",
    "\n",
    "prRes<- rbind(prRes.Y, prRes.D); \n",
    "rownames(prRes)<- c(\"RMSE D\", \"RMSE Y\");\n",
    "colnames(prRes)<- c(\"OLS\", \"Lasso\", \"Post-Lasso\", \"CV Lasso\", \"CV Ridge\", \"CV Elnet\", \"RF\")\n",
    "print(prRes,digit=6)"
   ]
  },
  {
   "cell_type": "markdown",
   "id": "5dd996cd",
   "metadata": {
    "papermill": {
     "duration": 0.027155,
     "end_time": "2021-02-13T17:40:48.832101",
     "exception": false,
     "start_time": "2021-02-13T17:40:48.804946",
     "status": "completed"
    },
    "tags": []
   },
   "source": [
    "It looks like the best method for predicting D is CV Ridge, and the best method for predicting Y is Post-Lasso because the RMSE of these models are the smallest."
   ]
  },
  {
   "cell_type": "code",
   "execution_count": 174,
   "id": "03834dec",
   "metadata": {
    "execution": {
     "iopub.execute_input": "2021-02-13T17:40:48.887079Z",
     "iopub.status.busy": "2021-02-13T17:40:48.885820Z",
     "iopub.status.idle": "2021-02-13T17:41:18.806979Z",
     "shell.execute_reply": "2021-02-13T17:41:18.805624Z"
    },
    "papermill": {
     "duration": 29.950099,
     "end_time": "2021-02-13T17:41:18.807192",
     "exception": false,
     "start_time": "2021-02-13T17:40:48.857093",
     "status": "completed"
    },
    "tags": []
   },
   "outputs": [
    {
     "name": "stdout",
     "output_type": "stream",
     "text": [
      "fold: 1  2  3  4  5  6  7  8  9  10  \n",
      "coef (se) = -0.0419644 (0.0158423)\n"
     ]
    }
   ],
   "source": [
    "dreg <- function(z,d){ cv.glmnet(z,d,family=\"gaussian\", alpha=0) } #ML method = ridge from glmnet \n",
    "yreg <- function(z,y){ rlasso(z,y, post=T) } #ML method = lasso from hdm\n",
    "DML2.best= DML2.for.PLM(z, d, y, dreg, yreg, nfold=10)"
   ]
  },
  {
   "cell_type": "markdown",
   "id": "a21fdaaf",
   "metadata": {
    "papermill": {
     "duration": 0.034891,
     "end_time": "2021-02-13T17:41:18.892429",
     "exception": false,
     "start_time": "2021-02-13T17:41:18.857538",
     "status": "completed"
    },
    "tags": []
   },
   "source": [
    "Let's organize the results in a table."
   ]
  },
  {
   "cell_type": "code",
   "execution_count": 175,
   "id": "58a4af86",
   "metadata": {},
   "outputs": [
    {
     "data": {
      "text/html": [
       "<dl class=dl-horizontal>\n",
       "\t<dt>Estimate</dt>\n",
       "\t\t<dd>0.00131671261344604</dd>\n",
       "\t<dt>Std. Error</dt>\n",
       "\t\t<dd>0.00610220014253542</dd>\n",
       "\t<dt>t value</dt>\n",
       "\t\t<dd>0.215776700647343</dd>\n",
       "\t<dt>Pr(&gt;|t|)</dt>\n",
       "\t\t<dd>0.829661164776393</dd>\n",
       "</dl>\n"
      ],
      "text/latex": [
       "\\begin{description*}\n",
       "\\item[Estimate] 0.00131671261344604\n",
       "\\item[Std. Error] 0.00610220014253542\n",
       "\\item[t value] 0.215776700647343\n",
       "\\item[Pr(>\\textbackslash{}textbar\\{\\}t\\textbackslash{}textbar\\{\\})] 0.829661164776393\n",
       "\\end{description*}\n"
      ],
      "text/markdown": [
       "Estimate\n",
       ":   0.00131671261344604Std. Error\n",
       ":   0.00610220014253542t value\n",
       ":   0.215776700647343Pr(&amp;gt;|t|)\n",
       ":   0.829661164776393\n",
       "\n"
      ],
      "text/plain": [
       "   Estimate  Std. Error     t value    Pr(>|t|) \n",
       "0.001316713 0.006102200 0.215776701 0.829661165 "
      ]
     },
     "metadata": {},
     "output_type": "display_data"
    }
   ],
   "source": [
    "est_baseline"
   ]
  },
  {
   "cell_type": "code",
   "execution_count": 180,
   "id": "186976a2",
   "metadata": {
    "execution": {
     "iopub.execute_input": "2021-02-13T17:41:18.948154Z",
     "iopub.status.busy": "2021-02-13T17:41:18.946908Z",
     "iopub.status.idle": "2021-02-13T17:41:19.006359Z",
     "shell.execute_reply": "2021-02-13T17:41:19.005308Z"
    },
    "papermill": {
     "duration": 0.088669,
     "end_time": "2021-02-13T17:41:19.006521",
     "exception": false,
     "start_time": "2021-02-13T17:41:18.917852",
     "status": "completed"
    },
    "tags": []
   },
   "outputs": [
    {
     "data": {
      "text/html": [
       "<table>\n",
       "<thead><tr><th></th><th scope=col>Estimate</th><th scope=col>Standard Error</th></tr></thead>\n",
       "<tbody>\n",
       "\t<tr><th scope=row>Baseline OLS</th><td> 0.001316713</td><td>0.00610220  </td></tr>\n",
       "\t<tr><th scope=row>Least Squares with controls</th><td>-0.009377989</td><td>0.02988773  </td></tr>\n",
       "\t<tr><th scope=row>Lasso</th><td>-0.036995153</td><td>0.01617587  </td></tr>\n",
       "\t<tr><th scope=row>Post-Lasso</th><td>-0.036828539</td><td>0.01411740  </td></tr>\n",
       "\t<tr><th scope=row>CV Lasso</th><td>-0.033420281</td><td>0.01588175  </td></tr>\n",
       "\t<tr><th scope=row>CV Elnet</th><td>-0.024323934</td><td>0.01717206  </td></tr>\n",
       "\t<tr><th scope=row>CV Ridge</th><td>-0.035296577</td><td>0.01660945  </td></tr>\n",
       "\t<tr><th scope=row>Random Forest</th><td>-0.039644400</td><td>0.01431894  </td></tr>\n",
       "\t<tr><th scope=row>Best</th><td>-0.041964407</td><td>0.01584229  </td></tr>\n",
       "</tbody>\n",
       "</table>\n"
      ],
      "text/latex": [
       "\\begin{tabular}{r|ll}\n",
       "  & Estimate & Standard Error\\\\\n",
       "\\hline\n",
       "\tBaseline OLS &  0.001316713 & 0.00610220  \\\\\n",
       "\tLeast Squares with controls & -0.009377989 & 0.02988773  \\\\\n",
       "\tLasso & -0.036995153 & 0.01617587  \\\\\n",
       "\tPost-Lasso & -0.036828539 & 0.01411740  \\\\\n",
       "\tCV Lasso & -0.033420281 & 0.01588175  \\\\\n",
       "\tCV Elnet & -0.024323934 & 0.01717206  \\\\\n",
       "\tCV Ridge & -0.035296577 & 0.01660945  \\\\\n",
       "\tRandom Forest & -0.039644400 & 0.01431894  \\\\\n",
       "\tBest & -0.041964407 & 0.01584229  \\\\\n",
       "\\end{tabular}\n"
      ],
      "text/markdown": [
       "\n",
       "| <!--/--> | Estimate | Standard Error |\n",
       "|---|---|---|\n",
       "| Baseline OLS |  0.001316713 | 0.00610220   |\n",
       "| Least Squares with controls | -0.009377989 | 0.02988773   |\n",
       "| Lasso | -0.036995153 | 0.01617587   |\n",
       "| Post-Lasso | -0.036828539 | 0.01411740   |\n",
       "| CV Lasso | -0.033420281 | 0.01588175   |\n",
       "| CV Elnet | -0.024323934 | 0.01717206   |\n",
       "| CV Ridge | -0.035296577 | 0.01660945   |\n",
       "| Random Forest | -0.039644400 | 0.01431894   |\n",
       "| Best | -0.041964407 | 0.01584229   |\n",
       "\n"
      ],
      "text/plain": [
       "                            Estimate     Standard Error\n",
       "Baseline OLS                 0.001316713 0.00610220    \n",
       "Least Squares with controls -0.009377989 0.02988773    \n",
       "Lasso                       -0.036995153 0.01617587    \n",
       "Post-Lasso                  -0.036828539 0.01411740    \n",
       "CV Lasso                    -0.033420281 0.01588175    \n",
       "CV Elnet                    -0.024323934 0.01717206    \n",
       "CV Ridge                    -0.035296577 0.01660945    \n",
       "Random Forest               -0.039644400 0.01431894    \n",
       "Best                        -0.041964407 0.01584229    "
      ]
     },
     "metadata": {},
     "output_type": "display_data"
    }
   ],
   "source": [
    "library(xtable)\n",
    "\n",
    "table <- matrix(0,9,2)\n",
    "table[1,1] <- as.numeric(est_baseline[1])\n",
    "table[2,1] <- as.numeric(est_ols[1])\n",
    "table[3,1]   <- as.numeric(DML2.lasso$coef.est)\n",
    "table[4,1]   <- as.numeric(DML2.post$coef.est)\n",
    "table[5,1]  <-as.numeric(DML2.lasso.cv$coef.est)\n",
    "table[6,1] <-as.numeric(DML2.elnet$coef.est)\n",
    "table[7,1] <-as.numeric(DML2.ridge$coef.est)\n",
    "table[8,1] <-as.numeric(DML2.RF$coef.est)\n",
    "table[9,1] <-as.numeric(DML2.best$coef.est)\n",
    "table[1,2] <- as.numeric(est_baseline[2])\n",
    "table[2,2] <- as.numeric(est_ols[2])\n",
    "table[3,2]   <- as.numeric(DML2.lasso$se)\n",
    "table[4,2]   <- as.numeric(DML2.post$se)\n",
    "table[5,2]  <-as.numeric(DML2.lasso.cv$se)\n",
    "table[6,2] <-as.numeric(DML2.elnet$se)\n",
    "table[7,2] <-as.numeric(DML2.ridge$se)\n",
    "table[8,2] <-as.numeric(DML2.RF$se)\n",
    "table[9,2] <-as.numeric(DML2.best$se)\n",
    "\n",
    "\n",
    "\n",
    "\n",
    "################################# Print Results #################################\n",
    "\n",
    "colnames(table) <- c(\"Estimate\",\"Standard Error\")\n",
    "rownames(table) <- c(\"Baseline OLS\", \"Least Squares with controls\", \"Lasso\", \"Post-Lasso\", \"CV Lasso\",\"CV Elnet\", \"CV Ridge\", \"Random Forest\", \n",
    "                     \"Best\")\n",
    "\n",
    "table"
   ]
  },
  {
   "cell_type": "code",
   "execution_count": 177,
   "id": "6935dd2a",
   "metadata": {
    "execution": {
     "iopub.execute_input": "2021-02-13T17:41:19.063047Z",
     "iopub.status.busy": "2021-02-13T17:41:19.062074Z",
     "iopub.status.idle": "2021-02-13T17:41:19.075566Z",
     "shell.execute_reply": "2021-02-13T17:41:19.074278Z"
    },
    "papermill": {
     "duration": 0.043017,
     "end_time": "2021-02-13T17:41:19.075707",
     "exception": false,
     "start_time": "2021-02-13T17:41:19.032690",
     "status": "completed"
    },
    "tags": []
   },
   "outputs": [
    {
     "name": "stdout",
     "output_type": "stream",
     "text": [
      "                            Estimate Standard Error\n",
      "Baseline OLS                 0.00132         0.0061\n",
      "Least Squares with controls -0.00938         0.0299\n",
      "Lasso                       -0.03700         0.0162\n",
      "Post-Lasso                  -0.03683         0.0141\n",
      "CV Lasso                    -0.03342         0.0159\n",
      "CV Elnet                    -0.02432         0.0172\n",
      "CV Ridge                    -0.03530         0.0166\n",
      "Random Forest               -0.03964         0.0143\n",
      "Best                        -0.04196         0.0158\n"
     ]
    }
   ],
   "source": [
    "print(table, digit=3)\n"
   ]
  }
 ],
 "metadata": {
  "kernelspec": {
   "display_name": "R",
   "language": "R",
   "name": "ir"
  },
  "language_info": {
   "codemirror_mode": "r",
   "file_extension": ".r",
   "mimetype": "text/x-r-source",
   "name": "R",
   "pygments_lexer": "r",
   "version": "4.1.1"
  }
 },
 "nbformat": 4,
 "nbformat_minor": 5
}
