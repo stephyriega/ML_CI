{
 "cells": [
  {
   "cell_type": "markdown",
   "id": "922085f3",
   "metadata": {},
   "source": [
    "# Debiased Machine Learning - The Testing Converge Hypothesis Lab (Barro-Lee Growth Data)"
   ]
  },
  {
   "cell_type": "markdown",
   "id": "b29f5556",
   "metadata": {},
   "source": [
    "![](https://www.nasdaq.com/sites/acquia.prod/files/styles/720x400/public/2019/11/06/investing11.jpg?h=a338d484&itok=mFGvI1Hj)"
   ]
  },
  {
   "cell_type": "markdown",
   "id": "aa4df0f4",
   "metadata": {},
   "source": [
    "We will use the DML algorithm we have learned using The Testing Convergence Hypothesis Lab (Barro-Lee growth data) and the next variables for the main analysis:\n",
    "\n",
    "$y$ = outcome: growth rate\n",
    "\n",
    "$d$ = treatment: initial wealth\n",
    "\n",
    "$x$ = controls: country characteristics\n",
    "\n",
    "We will run the next regressions:\n",
    "\n",
    "- OLS without including the country characteristics.\n",
    "- OLS including the country characteristics.\n",
    "- DML using Lasso to predict y an d.\n",
    "- DML using Post-Lasso to predict y an d.\n",
    "- DML using Elastic Net to predict y an d.\n",
    "- DML using Ridge to predict y an d.\n",
    "- DML using Random Forest to predict y an d.  \n",
    "\n",
    "We will run the best method i.e. the best combination of methods to predict y an d., and show our results in a table."
   ]
  },
  {
   "cell_type": "code",
   "execution_count": 70,
   "id": "0c1d7b99",
   "metadata": {},
   "outputs": [],
   "source": [
    "from numpy import loadtxt\n",
    "from keras.models import Sequential\n",
    "from keras.layers import Dense\n"
   ]
  },
  {
   "cell_type": "code",
   "execution_count": 71,
   "id": "39f24049",
   "metadata": {},
   "outputs": [],
   "source": [
    "# Import relevant packages\n",
    "import pandas as pd\n",
    "import numpy as np\n",
    "import pyreadr\n",
    "from sklearn import preprocessing\n",
    "import patsy\n",
    "\n",
    "from numpy import loadtxt\n",
    "\n",
    "import math\n",
    "import hdmpy\n",
    "import numpy as np\n",
    "import random\n",
    "import statsmodels.api as sm\n",
    "import matplotlib.pyplot as plt\n",
    "import numpy as np\n",
    "from matplotlib import colors\n",
    "import warnings\n",
    "warnings.filterwarnings('ignore')"
   ]
  },
  {
   "cell_type": "code",
   "execution_count": 72,
   "id": "33e2fa97",
   "metadata": {},
   "outputs": [],
   "source": [
    "from sklearn.linear_model import LassoCV\n",
    "from sklearn.preprocessing import StandardScaler\n",
    "from sklearn.linear_model import RidgeCV, ElasticNetCV\n",
    "from sklearn.linear_model import LinearRegression\n",
    "from sklearn import linear_model\n",
    "import itertools\n",
    "from pandas.api.types import is_string_dtype\n",
    "from pandas.api.types import is_numeric_dtype\n",
    "from pandas.api.types import is_categorical_dtype\n",
    "from itertools import compress\n",
    "import statsmodels.api as sm\n",
    "import statsmodels.formula.api as smf\n",
    "from sklearn.feature_selection import SelectFromModel"
   ]
  },
  {
   "cell_type": "markdown",
   "id": "dfbe6db2",
   "metadata": {},
   "source": [
    "<div class=\"alert alert-block alert-success\">\n",
    "<b>Success:</b> First me import the packages.\n",
    "</div>"
   ]
  },
  {
   "cell_type": "markdown",
   "id": "8f7f310f",
   "metadata": {},
   "source": [
    "-  Load the data"
   ]
  },
  {
   "cell_type": "code",
   "execution_count": 77,
   "id": "c2ca6c71",
   "metadata": {},
   "outputs": [],
   "source": [
    "# I downloaded the data that the author used\n",
    "growth_read = pyreadr.read_r('D:/2021-2/estadística_aplicada/data/GrowthData.RData')\n",
    "\n",
    "# Extracting the data frame from rdata_read\n",
    "data = growth_read[ 'GrowthData' ]\n",
    "\n"
   ]
  },
  {
   "cell_type": "code",
   "execution_count": 78,
   "id": "02d7efb9",
   "metadata": {
    "scrolled": true
   },
   "outputs": [
    {
     "data": {
      "text/html": [
       "<div>\n",
       "<style scoped>\n",
       "    .dataframe tbody tr th:only-of-type {\n",
       "        vertical-align: middle;\n",
       "    }\n",
       "\n",
       "    .dataframe tbody tr th {\n",
       "        vertical-align: top;\n",
       "    }\n",
       "\n",
       "    .dataframe thead th {\n",
       "        text-align: right;\n",
       "    }\n",
       "</style>\n",
       "<table border=\"1\" class=\"dataframe\">\n",
       "  <thead>\n",
       "    <tr style=\"text-align: right;\">\n",
       "      <th></th>\n",
       "      <th>Outcome</th>\n",
       "      <th>intercept</th>\n",
       "      <th>gdpsh465</th>\n",
       "      <th>bmp1l</th>\n",
       "      <th>freeop</th>\n",
       "      <th>freetar</th>\n",
       "      <th>h65</th>\n",
       "      <th>hm65</th>\n",
       "      <th>hf65</th>\n",
       "      <th>p65</th>\n",
       "      <th>...</th>\n",
       "      <th>seccf65</th>\n",
       "      <th>syr65</th>\n",
       "      <th>syrm65</th>\n",
       "      <th>syrf65</th>\n",
       "      <th>teapri65</th>\n",
       "      <th>teasec65</th>\n",
       "      <th>ex1</th>\n",
       "      <th>im1</th>\n",
       "      <th>xr65</th>\n",
       "      <th>tot1</th>\n",
       "    </tr>\n",
       "  </thead>\n",
       "  <tbody>\n",
       "    <tr>\n",
       "      <th>0</th>\n",
       "      <td>-0.024336</td>\n",
       "      <td>1</td>\n",
       "      <td>6.591674</td>\n",
       "      <td>0.2837</td>\n",
       "      <td>0.153491</td>\n",
       "      <td>0.043888</td>\n",
       "      <td>0.007</td>\n",
       "      <td>0.013</td>\n",
       "      <td>0.001</td>\n",
       "      <td>0.29</td>\n",
       "      <td>...</td>\n",
       "      <td>0.04</td>\n",
       "      <td>0.033</td>\n",
       "      <td>0.057</td>\n",
       "      <td>0.010</td>\n",
       "      <td>47.6</td>\n",
       "      <td>17.3</td>\n",
       "      <td>0.0729</td>\n",
       "      <td>0.0667</td>\n",
       "      <td>0.348</td>\n",
       "      <td>-0.014727</td>\n",
       "    </tr>\n",
       "    <tr>\n",
       "      <th>1</th>\n",
       "      <td>0.100473</td>\n",
       "      <td>1</td>\n",
       "      <td>6.829794</td>\n",
       "      <td>0.6141</td>\n",
       "      <td>0.313509</td>\n",
       "      <td>0.061827</td>\n",
       "      <td>0.019</td>\n",
       "      <td>0.032</td>\n",
       "      <td>0.007</td>\n",
       "      <td>0.91</td>\n",
       "      <td>...</td>\n",
       "      <td>0.64</td>\n",
       "      <td>0.173</td>\n",
       "      <td>0.274</td>\n",
       "      <td>0.067</td>\n",
       "      <td>57.1</td>\n",
       "      <td>18.0</td>\n",
       "      <td>0.0940</td>\n",
       "      <td>0.1438</td>\n",
       "      <td>0.525</td>\n",
       "      <td>0.005750</td>\n",
       "    </tr>\n",
       "    <tr>\n",
       "      <th>2</th>\n",
       "      <td>0.067051</td>\n",
       "      <td>1</td>\n",
       "      <td>8.895082</td>\n",
       "      <td>0.0000</td>\n",
       "      <td>0.204244</td>\n",
       "      <td>0.009186</td>\n",
       "      <td>0.260</td>\n",
       "      <td>0.325</td>\n",
       "      <td>0.201</td>\n",
       "      <td>1.00</td>\n",
       "      <td>...</td>\n",
       "      <td>18.14</td>\n",
       "      <td>2.573</td>\n",
       "      <td>2.478</td>\n",
       "      <td>2.667</td>\n",
       "      <td>26.5</td>\n",
       "      <td>20.7</td>\n",
       "      <td>0.1741</td>\n",
       "      <td>0.1750</td>\n",
       "      <td>1.082</td>\n",
       "      <td>-0.010040</td>\n",
       "    </tr>\n",
       "    <tr>\n",
       "      <th>3</th>\n",
       "      <td>0.064089</td>\n",
       "      <td>1</td>\n",
       "      <td>7.565275</td>\n",
       "      <td>0.1997</td>\n",
       "      <td>0.248714</td>\n",
       "      <td>0.036270</td>\n",
       "      <td>0.061</td>\n",
       "      <td>0.070</td>\n",
       "      <td>0.051</td>\n",
       "      <td>1.00</td>\n",
       "      <td>...</td>\n",
       "      <td>2.63</td>\n",
       "      <td>0.438</td>\n",
       "      <td>0.453</td>\n",
       "      <td>0.424</td>\n",
       "      <td>27.8</td>\n",
       "      <td>22.7</td>\n",
       "      <td>0.1265</td>\n",
       "      <td>0.1496</td>\n",
       "      <td>6.625</td>\n",
       "      <td>-0.002195</td>\n",
       "    </tr>\n",
       "    <tr>\n",
       "      <th>4</th>\n",
       "      <td>0.027930</td>\n",
       "      <td>1</td>\n",
       "      <td>7.162397</td>\n",
       "      <td>0.1740</td>\n",
       "      <td>0.299252</td>\n",
       "      <td>0.037367</td>\n",
       "      <td>0.017</td>\n",
       "      <td>0.027</td>\n",
       "      <td>0.007</td>\n",
       "      <td>0.82</td>\n",
       "      <td>...</td>\n",
       "      <td>2.11</td>\n",
       "      <td>0.257</td>\n",
       "      <td>0.287</td>\n",
       "      <td>0.229</td>\n",
       "      <td>34.5</td>\n",
       "      <td>17.6</td>\n",
       "      <td>0.1211</td>\n",
       "      <td>0.1308</td>\n",
       "      <td>2.500</td>\n",
       "      <td>0.003283</td>\n",
       "    </tr>\n",
       "  </tbody>\n",
       "</table>\n",
       "<p>5 rows × 63 columns</p>\n",
       "</div>"
      ],
      "text/plain": [
       "    Outcome  intercept  gdpsh465   bmp1l    freeop   freetar    h65   hm65  \\\n",
       "0 -0.024336          1  6.591674  0.2837  0.153491  0.043888  0.007  0.013   \n",
       "1  0.100473          1  6.829794  0.6141  0.313509  0.061827  0.019  0.032   \n",
       "2  0.067051          1  8.895082  0.0000  0.204244  0.009186  0.260  0.325   \n",
       "3  0.064089          1  7.565275  0.1997  0.248714  0.036270  0.061  0.070   \n",
       "4  0.027930          1  7.162397  0.1740  0.299252  0.037367  0.017  0.027   \n",
       "\n",
       "    hf65   p65  ...  seccf65  syr65  syrm65  syrf65  teapri65  teasec65  \\\n",
       "0  0.001  0.29  ...     0.04  0.033   0.057   0.010      47.6      17.3   \n",
       "1  0.007  0.91  ...     0.64  0.173   0.274   0.067      57.1      18.0   \n",
       "2  0.201  1.00  ...    18.14  2.573   2.478   2.667      26.5      20.7   \n",
       "3  0.051  1.00  ...     2.63  0.438   0.453   0.424      27.8      22.7   \n",
       "4  0.007  0.82  ...     2.11  0.257   0.287   0.229      34.5      17.6   \n",
       "\n",
       "      ex1     im1   xr65      tot1  \n",
       "0  0.0729  0.0667  0.348 -0.014727  \n",
       "1  0.0940  0.1438  0.525  0.005750  \n",
       "2  0.1741  0.1750  1.082 -0.010040  \n",
       "3  0.1265  0.1496  6.625 -0.002195  \n",
       "4  0.1211  0.1308  2.500  0.003283  \n",
       "\n",
       "[5 rows x 63 columns]"
      ]
     },
     "execution_count": 78,
     "metadata": {},
     "output_type": "execute_result"
    }
   ],
   "source": [
    "data.head(5)"
   ]
  },
  {
   "cell_type": "markdown",
   "id": "4511d58c",
   "metadata": {},
   "source": [
    "<div class=\"alert alert-block alert-success\">\n",
    "<b>Success:</b> Data loaded\n",
    "</div>"
   ]
  },
  {
   "cell_type": "markdown",
   "id": "1d33231a",
   "metadata": {},
   "source": [
    "<div class=\"alert alert-block alert-info\">\n",
    "<b>Tip:</b> Now we have to set the main variables</div> \n",
    "\n",
    "- y = outcome: growth rate\n",
    "\n",
    "- d = treatment: initial wealth\n",
    "\n",
    "- x = controls: country characteristics"
   ]
  },
  {
   "cell_type": "code",
   "execution_count": 79,
   "id": "14e2c641",
   "metadata": {},
   "outputs": [],
   "source": [
    "y = data['Outcome']\n",
    "d = data['gdpsh465']\n",
    "x = data.drop(['Outcome','gdpsh465','intercept'], 1)"
   ]
  },
  {
   "cell_type": "markdown",
   "id": "6311ea6b",
   "metadata": {},
   "source": [
    "## 1. OLS without including the country characteristics.\n"
   ]
  },
  {
   "cell_type": "code",
   "execution_count": 80,
   "id": "08718814",
   "metadata": {},
   "outputs": [],
   "source": [
    "import statsmodels.api as sm\n",
    "import statsmodels.formula.api as smf\n",
    "import patsy"
   ]
  },
  {
   "cell_type": "markdown",
   "id": "c6e8f072",
   "metadata": {},
   "source": [
    "- We made the model equation without control variables"
   ]
  },
  {
   "cell_type": "code",
   "execution_count": 81,
   "id": "f971e640",
   "metadata": {
    "scrolled": true
   },
   "outputs": [
    {
     "name": "stdout",
     "output_type": "stream",
     "text": [
      "[0.025   -0.010810\n",
      "0.975]    0.013444\n",
      "Name: d, dtype: float64\n"
     ]
    },
    {
     "data": {
      "text/plain": [
       "Coef.       0.001317\n",
       "Std.Err.    0.006102\n",
       "t           0.215777\n",
       "P>|t|       0.829661\n",
       "[0.025     -0.010810\n",
       "0.975]      0.013444\n",
       "Name: d, dtype: float64"
      ]
     },
     "execution_count": 81,
     "metadata": {},
     "output_type": "execute_result"
    }
   ],
   "source": [
    "model = \"y ~ d\"\n",
    "baseline_ols = smf.ols(model1 , data=data).fit()\n",
    "baseline_ols_table = baseline_ols.summary2().tables[1]\n",
    "print( baseline_ols_table.iloc[ 1 , 4:] )\n",
    "baseline_ols_table.iloc[1, :]"
   ]
  },
  {
   "cell_type": "code",
   "execution_count": 106,
   "id": "c5a4dc62",
   "metadata": {},
   "outputs": [
    {
     "data": {
      "text/plain": [
       "0.001316712613446065"
      ]
     },
     "execution_count": 106,
     "metadata": {},
     "output_type": "execute_result"
    }
   ],
   "source": [
    "baseline_ols.summary2().tables[1]['Coef.']['d']"
   ]
  },
  {
   "cell_type": "code",
   "execution_count": 82,
   "id": "ece84780",
   "metadata": {},
   "outputs": [
    {
     "data": {
      "text/html": [
       "<div>\n",
       "<style scoped>\n",
       "    .dataframe tbody tr th:only-of-type {\n",
       "        vertical-align: middle;\n",
       "    }\n",
       "\n",
       "    .dataframe tbody tr th {\n",
       "        vertical-align: top;\n",
       "    }\n",
       "\n",
       "    .dataframe thead th {\n",
       "        text-align: right;\n",
       "    }\n",
       "</style>\n",
       "<table border=\"1\" class=\"dataframe\">\n",
       "  <thead>\n",
       "    <tr style=\"text-align: right;\">\n",
       "      <th></th>\n",
       "      <th>Coef.</th>\n",
       "      <th>Std.Err.</th>\n",
       "      <th>t</th>\n",
       "      <th>P&gt;|t|</th>\n",
       "      <th>[0.025</th>\n",
       "      <th>0.975]</th>\n",
       "    </tr>\n",
       "  </thead>\n",
       "  <tbody>\n",
       "    <tr>\n",
       "      <th>d</th>\n",
       "      <td>0.001317</td>\n",
       "      <td>0.006102</td>\n",
       "      <td>0.215777</td>\n",
       "      <td>0.829661</td>\n",
       "      <td>-0.01081</td>\n",
       "      <td>0.013444</td>\n",
       "    </tr>\n",
       "  </tbody>\n",
       "</table>\n",
       "</div>"
      ],
      "text/plain": [
       "      Coef.  Std.Err.         t     P>|t|   [0.025    0.975]\n",
       "d  0.001317  0.006102  0.215777  0.829661 -0.01081  0.013444"
      ]
     },
     "execution_count": 82,
     "metadata": {},
     "output_type": "execute_result"
    }
   ],
   "source": [
    "baseline_ols_table.loc[['d'],:]"
   ]
  },
  {
   "cell_type": "markdown",
   "id": "49f14eef",
   "metadata": {},
   "source": [
    "<div class=\"alert alert-block alert-success\">\n",
    "<b>Success:</b> Model runned\n",
    "</div>"
   ]
  },
  {
   "cell_type": "markdown",
   "id": "3cf7d4cc",
   "metadata": {},
   "source": [
    "An increase by 1% in the initial wealth cause an increase in the outcome by 0.001317. This model is without the country characteristics and says that these variables are low related."
   ]
  },
  {
   "cell_type": "markdown",
   "id": "0b963878",
   "metadata": {},
   "source": [
    "***"
   ]
  },
  {
   "cell_type": "markdown",
   "id": "977c16a9",
   "metadata": {},
   "source": [
    "## 2. OLS including the country characteristics."
   ]
  },
  {
   "cell_type": "markdown",
   "id": "a30d4a30",
   "metadata": {},
   "source": [
    "- We select only the country characteristics variables to include in the model equation\n",
    "- Also run the model including the country characteristics"
   ]
  },
  {
   "cell_type": "code",
   "execution_count": 83,
   "id": "673fe381",
   "metadata": {},
   "outputs": [],
   "source": [
    "control_formula = \"y~ d + x\""
   ]
  },
  {
   "cell_type": "code",
   "execution_count": 84,
   "id": "010101ec",
   "metadata": {},
   "outputs": [
    {
     "name": "stdout",
     "output_type": "stream",
     "text": [
      "[0.025   -0.070600\n",
      "0.975]    0.051844\n",
      "Name: d, dtype: float64\n"
     ]
    },
    {
     "data": {
      "text/plain": [
       "Coef.      -0.009378\n",
       "Std.Err.    0.029888\n",
       "t          -0.313774\n",
       "P>|t|       0.756019\n",
       "[0.025     -0.070600\n",
       "0.975]      0.051844\n",
       "Name: d, dtype: float64"
      ]
     },
     "execution_count": 84,
     "metadata": {},
     "output_type": "execute_result"
    }
   ],
   "source": [
    "control_ols = smf.ols( control_formula , data=data).fit()\n",
    "control_ols_table = control_ols.summary2().tables[1]\n",
    "print( control_ols_table.iloc[ 1 , 4:] )\n",
    "control_ols_table.iloc[1, :]"
   ]
  },
  {
   "cell_type": "code",
   "execution_count": 85,
   "id": "a8271c3c",
   "metadata": {
    "scrolled": true
   },
   "outputs": [
    {
     "data": {
      "text/html": [
       "<div>\n",
       "<style scoped>\n",
       "    .dataframe tbody tr th:only-of-type {\n",
       "        vertical-align: middle;\n",
       "    }\n",
       "\n",
       "    .dataframe tbody tr th {\n",
       "        vertical-align: top;\n",
       "    }\n",
       "\n",
       "    .dataframe thead th {\n",
       "        text-align: right;\n",
       "    }\n",
       "</style>\n",
       "<table border=\"1\" class=\"dataframe\">\n",
       "  <thead>\n",
       "    <tr style=\"text-align: right;\">\n",
       "      <th></th>\n",
       "      <th>Coef.</th>\n",
       "      <th>Std.Err.</th>\n",
       "      <th>t</th>\n",
       "      <th>P&gt;|t|</th>\n",
       "      <th>[0.025</th>\n",
       "      <th>0.975]</th>\n",
       "    </tr>\n",
       "  </thead>\n",
       "  <tbody>\n",
       "    <tr>\n",
       "      <th>d</th>\n",
       "      <td>-0.009378</td>\n",
       "      <td>0.029888</td>\n",
       "      <td>-0.313774</td>\n",
       "      <td>0.756019</td>\n",
       "      <td>-0.0706</td>\n",
       "      <td>0.051844</td>\n",
       "    </tr>\n",
       "  </tbody>\n",
       "</table>\n",
       "</div>"
      ],
      "text/plain": [
       "      Coef.  Std.Err.         t     P>|t|  [0.025    0.975]\n",
       "d -0.009378  0.029888 -0.313774  0.756019 -0.0706  0.051844"
      ]
     },
     "execution_count": 85,
     "metadata": {},
     "output_type": "execute_result"
    }
   ],
   "source": [
    "control_ols_table.loc[['d'],:]"
   ]
  },
  {
   "cell_type": "markdown",
   "id": "29c2ccef",
   "metadata": {},
   "source": [
    "This can interpret as if the initial wealth increase by 1%, then the outcome decrease by -0.0093. This model has all the country characteristics in the equation. "
   ]
  },
  {
   "cell_type": "markdown",
   "id": "f756e024",
   "metadata": {},
   "source": [
    "<div class=\"alert alert-block alert-success\">\n",
    "<b>Success:</b> Model runned\n",
    "</div>"
   ]
  },
  {
   "cell_type": "markdown",
   "id": "2577979e",
   "metadata": {},
   "source": [
    "## DML algorithm\n",
    "\n",
    "Here we perform inference of the predictive coefficient $\\beta$ in our partially linear statistical model, \n",
    "\n",
    "$$\n",
    "Y = D\\beta + g(Z) + \\epsilon, \\quad E (\\epsilon | D, Z) = 0,\n",
    "$$\n",
    "\n",
    "using the **double machine learning** approach. \n",
    "\n",
    "For $\\tilde Y = Y- E(Y|Z)$ and $\\tilde D= D- E(D|Z)$, we can write\n",
    "$$\n",
    "\\tilde Y = \\alpha \\tilde D + \\epsilon, \\quad E (\\epsilon |\\tilde D) =0.\n",
    "$$\n",
    "\n",
    "Using cross-fitting, we employ modern regression methods\n",
    "to build estimators $\\hat \\ell(Z)$ and $\\hat m(Z)$ of $\\ell(Z):=E(Y|Z)$ and $m(Z):=E(D|Z)$ to obtain the estimates of the residualized quantities:\n",
    "\n",
    "$$\n",
    "\\tilde Y_i = Y_i  - \\hat \\ell (Z_i),   \\quad \\tilde D_i = D_i - \\hat m(Z_i), \\quad \\text{ for each } i = 1,\\dots,n.\n",
    "$$\n",
    "\n",
    "Finally, using ordinary least squares of $\\tilde Y_i$ on $\\tilde D_i$, we obtain the \n",
    "estimate of $\\beta$."
   ]
  },
  {
   "cell_type": "markdown",
   "id": "389f949a",
   "metadata": {},
   "source": [
    "- First we create the base fuction to use in the __DML__"
   ]
  },
  {
   "cell_type": "code",
   "execution_count": 86,
   "id": "331c2683",
   "metadata": {},
   "outputs": [],
   "source": [
    "def DML2_for_PLM(x, d, y, dreg, yreg, nfold):\n",
    "    \n",
    "    # Num ob observations\n",
    "    nobs = x.shape[0]\n",
    "    \n",
    "    # Define folds indices \n",
    "    list_1 = [*range(0, nfold, 1)]*nobs\n",
    "    sample = np.random.choice(nobs,nobs, replace=False).tolist()\n",
    "    foldid = [list_1[index] for index in sample]\n",
    "\n",
    "    # Create split function(similar to R)\n",
    "    def split(x, f):\n",
    "        count = max(f) + 1\n",
    "        return tuple( list(itertools.compress(x, (el == i for el in f))) for i in range(count) ) \n",
    "\n",
    "    # Split observation indices into folds \n",
    "    list_2 = [*range(0, nobs, 1)]\n",
    "    I = split(list_2, foldid)\n",
    "    \n",
    "    # Create array to save errors \n",
    "    dtil = np.zeros( len(x) ).reshape( len(x) , 1 )\n",
    "    ytil = np.zeros( len(x) ).reshape( len(x) , 1 )\n",
    "    \n",
    "    # loop to save results\n",
    "    for b in range(0,len(I)):\n",
    "    \n",
    "        # Split data - index to keep are in mask as booleans\n",
    "        include_idx = set(I[b])  #Here should go I[b] Set is more efficient, but doesn't reorder your elements if that is desireable\n",
    "        mask = np.array([(i in include_idx) for i in range(len(x))])\n",
    "\n",
    "        # Lasso regression, excluding folds selected \n",
    "        dfit = dreg(x[~mask,], d[~mask,])\n",
    "        yfit = yreg(x[~mask,], y[~mask,])\n",
    "\n",
    "        # predict estimates using the \n",
    "        dhat = dfit.predict( x[mask,] )\n",
    "        yhat = yfit.predict( x[mask,] )\n",
    "\n",
    "        # save errors  \n",
    "        dtil[mask] =  d[mask,] - dhat.reshape( len(I[b]) , 1 )\n",
    "        ytil[mask] = y[mask,] - yhat.reshape( len(I[b]) , 1 )\n",
    "        print(b, \" \")\n",
    "    \n",
    "    # Create dataframe \n",
    "    data_2 = pd.DataFrame(np.concatenate( ( ytil, dtil), axis = 1), columns = ['ytil','dtil'])\n",
    "   \n",
    "    # OLS clustering at the County level\n",
    "    model = \"ytil ~ dtil\"\n",
    "    baseline_ols = smf.ols(model , data = data_2 ).fit()\n",
    "    coef_est = baseline_ols.summary2().tables[1]['Coef.']['dtil']\n",
    "    se = baseline_ols.summary2().tables[1]['Std.Err.']['dtil']\n",
    "    \n",
    "    Final_result = { 'coef_est' : coef_est , 'se' : se , 'dtil' : dtil , 'ytil' : ytil }\n",
    "\n",
    "    print(\"Coefficient is {}, SE is equal to {}\".format(coef_est, se))\n",
    "    \n",
    "    return Final_result"
   ]
  },
  {
   "cell_type": "markdown",
   "id": "78ec0358",
   "metadata": {},
   "source": [
    "<div class=\"alert alert-block alert-success\">\n",
    "<b>Success:</b> function done\n",
    "</div>"
   ]
  },
  {
   "cell_type": "markdown",
   "id": "15823d72",
   "metadata": {},
   "source": [
    "- Now that we have the function, the next step is to use the differents machine learning method "
   ]
  },
  {
   "cell_type": "markdown",
   "id": "3fd7d282",
   "metadata": {},
   "source": [
    "<div class=\"alert alert-block alert-info\">\n",
    "<b>Tip:</b> we have to covert our main variables to matrix</div>"
   ]
  },
  {
   "cell_type": "code",
   "execution_count": 87,
   "id": "04027b97",
   "metadata": {},
   "outputs": [],
   "source": [
    "#as matrix\n",
    "y = y.to_numpy().reshape( len(y) , 1 )\n",
    "d = d.to_numpy().reshape( len(y) , 1 )\n",
    "x = x.to_numpy()"
   ]
  },
  {
   "cell_type": "markdown",
   "id": "e98d95a4",
   "metadata": {},
   "source": [
    "## 3. DML using Lasso to predict y an d\n"
   ]
  },
  {
   "cell_type": "markdown",
   "id": "c64c26f6",
   "metadata": {},
   "source": [
    "### 3.1 Lasso Using scikit-learn\n"
   ]
  },
  {
   "cell_type": "code",
   "execution_count": 88,
   "id": "6f83f32b",
   "metadata": {
    "scrolled": false
   },
   "outputs": [
    {
     "name": "stdout",
     "output_type": "stream",
     "text": [
      "0  \n",
      "1  \n",
      "2  \n",
      "3  \n",
      "4  \n",
      "5  \n",
      "6  \n",
      "7  \n",
      "8  \n",
      "9  \n",
      "Coefficient is 0.02286307636348808, SE is equal to 0.013254036125334325\n"
     ]
    }
   ],
   "source": [
    "def dreg(x,d):\n",
    "    alpha=0.00000001\n",
    "    result = linear_model.Lasso(alpha = alpha).fit(x, d)\n",
    "    return result\n",
    "\n",
    "def yreg(x,y):\n",
    "    alpha=0.00000001\n",
    "    result = linear_model.Lasso(alpha = alpha).fit(x, y)\n",
    "    return result\n",
    "\n",
    "DML2_lasso = DML2_for_PLM(x, d, y, dreg, yreg, 10)"
   ]
  },
  {
   "cell_type": "markdown",
   "id": "12e9f7cb",
   "metadata": {},
   "source": [
    "This can be interpret as if the initial wealth in crease in 1% then the outcome increase by 0.022%"
   ]
  },
  {
   "cell_type": "markdown",
   "id": "3ea67728",
   "metadata": {},
   "source": [
    "###  3.2 Lasso using hdmy "
   ]
  },
  {
   "cell_type": "code",
   "execution_count": 116,
   "id": "a22306e5",
   "metadata": {},
   "outputs": [],
   "source": [
    "import hdmpy\n",
    "from statsmodels.tools import add_constant"
   ]
  },
  {
   "cell_type": "code",
   "execution_count": 119,
   "id": "f05040bb",
   "metadata": {},
   "outputs": [],
   "source": [
    "class rlasso_hdmy:\n",
    "    \n",
    "    def __init__(self, post ):\n",
    "        self.post = post\n",
    "       \n",
    "    def fit( self, X, Y ):\n",
    "        \n",
    "        self.X = X\n",
    "        self.Y = Y\n",
    "        \n",
    "        # Standarization of X and Y\n",
    "        self.rlasso_model = hdmpy.rlasso( X , Y , post = self.post )                \n",
    "        return self\n",
    "    \n",
    "    def predict( self , X_1 ):\n",
    "        self.X_1 = X_1\n",
    "        beta = self.rlasso_model.est['coefficients'].to_numpy()\n",
    "        \n",
    "        if beta.sum() == 0:\n",
    "            prediction = np.repeat( self.rlasso_model.est['intercept'] , self.X_1.shape[0] )\n",
    "        \n",
    "        else:\n",
    "            prediction = ( add_constant( self.X_1 , has_constant = 'add') @ beta ).flatten()\n",
    "                \n",
    "        return prediction"
   ]
  },
  {
   "cell_type": "code",
   "execution_count": 120,
   "id": "b309c50f",
   "metadata": {
    "scrolled": true
   },
   "outputs": [
    {
     "name": "stdout",
     "output_type": "stream",
     "text": [
      "0  \n",
      "1  \n",
      "2  \n",
      "3  \n",
      "4  \n",
      "5  \n",
      "6  \n",
      "7  \n",
      "8  \n",
      "9  \n",
      "Coefficient is -0.03164280324542696, SE is equal to 0.014687979114759876\n"
     ]
    }
   ],
   "source": [
    "# Post = false\n",
    "def dreg(x, d):\n",
    "    result = rlasso_hdmy( post = False ).fit( x , d )\n",
    "    return result\n",
    "\n",
    "def yreg(x,y):\n",
    "    result = rlasso_hdmy( post = False ).fit( x , y )\n",
    "    return result\n",
    "\n",
    "DML2_lasso_hdmpy = DML2_for_PLM(x, d, y, dreg, yreg, 10)"
   ]
  },
  {
   "cell_type": "markdown",
   "id": "eaf18816",
   "metadata": {},
   "source": [
    "This can be interpret as if the initial wealth in crease in 1% then the outcome decrease by -0.0316%"
   ]
  },
  {
   "cell_type": "markdown",
   "id": "c5212f2c",
   "metadata": {},
   "source": [
    "## 4. DML using Post-Lasso to predict y an d"
   ]
  },
  {
   "cell_type": "markdown",
   "id": "e9611dff",
   "metadata": {},
   "source": [
    "### 4.1 Post - Lasso Using scikit-learn\n"
   ]
  },
  {
   "cell_type": "code",
   "execution_count": 89,
   "id": "0b2f225d",
   "metadata": {},
   "outputs": [],
   "source": [
    "class Lasso_post:\n",
    "    \n",
    "    def __init__(self, alpha ):\n",
    "        self.alpha = alpha\n",
    "\n",
    "        \n",
    "    def fit( self, X, Y ):\n",
    "        self.X = X\n",
    "        self.Y = Y\n",
    "        lasso = linear_model.Lasso( alpha = self.alpha ).fit( X , Y )\n",
    "        model = SelectFromModel( lasso , prefit = True )\n",
    "        X_new = model.transform( X )\n",
    "        # Gettin indices from columns which has variance for regression\n",
    "        index_X = model.get_support()\n",
    "        \n",
    "        self.index = index_X\n",
    "        new_x = X[ : ,  index_X ]\n",
    "        \n",
    "        lasso2 = linear_model.Lasso( alpha = self.alpha ).fit( new_x , Y )\n",
    "        self.model = lasso2\n",
    "        \n",
    "        return self\n",
    "    \n",
    "    def predict( self , X ):\n",
    "        \n",
    "        dropped_X = X[ : , self.index ]\n",
    "        \n",
    "        predictions = self.model.predict( dropped_X )\n",
    "        \n",
    "        return predictions"
   ]
  },
  {
   "cell_type": "code",
   "execution_count": 90,
   "id": "96aaae27",
   "metadata": {
    "scrolled": true
   },
   "outputs": [
    {
     "name": "stdout",
     "output_type": "stream",
     "text": [
      "0  \n",
      "1  \n",
      "2  \n",
      "3  \n",
      "4  \n",
      "5  \n",
      "6  \n",
      "7  \n",
      "8  \n",
      "9  \n",
      "Coefficient is 0.02133316532733849, SE is equal to 0.013136859271364234\n"
     ]
    }
   ],
   "source": [
    "def dreg(x,d):\n",
    "    alpha=0.00000001\n",
    "    result = Lasso_post( alpha = alpha ).fit( x , d )\n",
    "    return result\n",
    "\n",
    "def yreg( x , y ):\n",
    "    alpha = 0.00000001\n",
    "    result = Lasso_post( alpha = alpha ).fit( x , y )\n",
    "    return result\n",
    "\n",
    "DML2_lasso_post = DML2_for_PLM(x, d, y, dreg, yreg, 10)"
   ]
  },
  {
   "cell_type": "markdown",
   "id": "e585a712",
   "metadata": {},
   "source": [
    "This can be interpret as if the initial wealth in crease in 1% then the outcome increase by 0.0213%"
   ]
  },
  {
   "cell_type": "markdown",
   "id": "e0485dca",
   "metadata": {},
   "source": [
    "### 4.2 Post - Lasso using hdmy"
   ]
  },
  {
   "cell_type": "code",
   "execution_count": 121,
   "id": "936e1343",
   "metadata": {},
   "outputs": [],
   "source": [
    "import hdmpy\n",
    "from statsmodels.tools import add_constant"
   ]
  },
  {
   "cell_type": "code",
   "execution_count": 122,
   "id": "6662c900",
   "metadata": {},
   "outputs": [],
   "source": [
    "class rlasso_hdmy:\n",
    "    \n",
    "    def __init__(self, post ):\n",
    "        self.post = post\n",
    "       \n",
    "    def fit( self, X, Y ):\n",
    "        \n",
    "        self.X = X\n",
    "        self.Y = Y\n",
    "        \n",
    "        # Standarization of X and Y\n",
    "        self.rlasso_model = hdmpy.rlasso( X , Y , post = self.post )                \n",
    "        return self\n",
    "    \n",
    "    def predict( self , X_1 ):\n",
    "        self.X_1 = X_1\n",
    "        beta = self.rlasso_model.est['coefficients'].to_numpy()\n",
    "        \n",
    "        if beta.sum() == 0:\n",
    "            prediction = np.repeat( self.rlasso_model.est['intercept'] , self.X_1.shape[0] )\n",
    "        \n",
    "        else:\n",
    "            prediction = ( add_constant( self.X_1 , has_constant = 'add') @ beta ).flatten()\n",
    "                \n",
    "        return prediction"
   ]
  },
  {
   "cell_type": "code",
   "execution_count": 124,
   "id": "5501731b",
   "metadata": {},
   "outputs": [
    {
     "name": "stdout",
     "output_type": "stream",
     "text": [
      "0  \n",
      "1  \n",
      "2  \n",
      "3  \n",
      "4  \n",
      "5  \n",
      "6  \n",
      "7  \n",
      "8  \n",
      "9  \n",
      "Coefficient is -0.043526751164098994, SE is equal to 0.01356072557603484\n"
     ]
    }
   ],
   "source": [
    "# Post = True\n",
    "def dreg(x, d):\n",
    "    result = rlasso_hdmy( post = True ).fit( x , d )\n",
    "    return result\n",
    "\n",
    "def yreg(x,y):\n",
    "    result = rlasso_hdmy( post = True ).fit( x , y )\n",
    "    return result\n",
    "\n",
    "DML2_lasso_post_hdmpy = DML2_for_PLM(x, d, y, dreg, yreg, 10)"
   ]
  },
  {
   "cell_type": "markdown",
   "id": "3c10d8be",
   "metadata": {},
   "source": [
    "This can be interpret as if the initial wealth in crease in 1% then the outcome decrease by -0.0435%"
   ]
  },
  {
   "cell_type": "markdown",
   "id": "0243e97d",
   "metadata": {},
   "source": [
    "## 5. DML using Elastic Net"
   ]
  },
  {
   "cell_type": "code",
   "execution_count": 91,
   "id": "89c497ff",
   "metadata": {},
   "outputs": [],
   "source": [
    "class standard_skl_model:\n",
    "    \n",
    "    def __init__(self, model ):\n",
    "        self.model = model\n",
    "       \n",
    "    def fit( self, X, Y ):\n",
    "        \n",
    "        # Standarization of X and Y\n",
    "        self.scaler_X = StandardScaler()\n",
    "        self.scaler_X.fit( X )\n",
    "        std_X = self.scaler_X.transform( X )\n",
    "                \n",
    "        self.model.fit( std_X , Y )\n",
    "                \n",
    "        return self\n",
    "    \n",
    "    def predict( self , X ):\n",
    "        \n",
    "        self.scaler_X = StandardScaler()\n",
    "        self.scaler_X.fit( X )\n",
    "        std_X = self.scaler_X.transform( X )\n",
    "        \n",
    "        prediction = self.model.predict( std_X )\n",
    "        \n",
    "        return prediction"
   ]
  },
  {
   "cell_type": "code",
   "execution_count": 92,
   "id": "d156dccd",
   "metadata": {
    "scrolled": true
   },
   "outputs": [
    {
     "name": "stdout",
     "output_type": "stream",
     "text": [
      "0  \n",
      "1  \n",
      "2  \n",
      "3  \n",
      "4  \n",
      "5  \n",
      "6  \n",
      "7  \n",
      "8  \n",
      "9  \n",
      "Coefficient is -0.022617689027352565, SE is equal to 0.010330550242415635\n"
     ]
    }
   ],
   "source": [
    "# DML with cross-validated Elastic Net:\n",
    "def dreg(x,d):\n",
    "    result = standard_skl_model( ElasticNetCV( cv = 10 , random_state = 0 , l1_ratio = 0.5, max_iter = 100000 ) ).fit( x, d )\n",
    "    return result\n",
    "\n",
    "def yreg(x,y):\n",
    "    result = standard_skl_model( ElasticNetCV( cv = 10 , random_state = 0 , l1_ratio = 0.5, max_iter = 100000 ) ).fit( x, y )\n",
    "    return result\n",
    "\n",
    "DML2_elnet = DML2_for_PLM(x, d, y, dreg, yreg, 10 )"
   ]
  },
  {
   "cell_type": "markdown",
   "id": "1b3ddbcd",
   "metadata": {},
   "source": [
    "This can be interpret as if the initial wealth in crease in 1% then the outcome decrease by -0.0226%"
   ]
  },
  {
   "cell_type": "markdown",
   "id": "6ebb9a34",
   "metadata": {},
   "source": [
    "## 6. DML using Ridge to predict"
   ]
  },
  {
   "cell_type": "code",
   "execution_count": 65,
   "id": "5b85bd9f",
   "metadata": {},
   "outputs": [
    {
     "name": "stdout",
     "output_type": "stream",
     "text": [
      "0  \n",
      "1  \n",
      "2  \n",
      "3  \n",
      "4  \n",
      "5  \n",
      "6  \n",
      "7  \n",
      "8  \n",
      "9  \n",
      "Coefficient is -0.01691434758337521, SE is equal to 0.009311024465275054\n"
     ]
    }
   ],
   "source": [
    "#DML with cross-validated Ridge:\n",
    "def dreg(x,d):\n",
    "    result = standard_skl_model( ElasticNetCV( cv = 10 ,  random_state = 0 , l1_ratio = 0.0001 ) ).fit( x, d )\n",
    "    return result\n",
    "\n",
    "def yreg(x,y):\n",
    "    result = standard_skl_model( ElasticNetCV( cv = 10 , random_state = 0 , l1_ratio = 0.0001 ) ).fit( x, y )\n",
    "    return result\n",
    "\n",
    "DML2_ridge = DML2_for_PLM(x, d, y, dreg, yreg, 10)"
   ]
  },
  {
   "cell_type": "markdown",
   "id": "c305e6ed",
   "metadata": {},
   "source": [
    "This can be interpret as if the initial wealth in crease in 1% then the outcome decrease by -0.0169%"
   ]
  },
  {
   "cell_type": "markdown",
   "id": "8f49b888",
   "metadata": {},
   "source": [
    "## 7. DML using Random Forest"
   ]
  },
  {
   "cell_type": "code",
   "execution_count": 67,
   "id": "51d32ad1",
   "metadata": {},
   "outputs": [],
   "source": [
    "from sklearn.tree import DecisionTreeRegressor\n",
    "from sklearn.ensemble import RandomForestRegressor\n",
    "from sklearn.ensemble import GradientBoostingRegressor"
   ]
  },
  {
   "cell_type": "code",
   "execution_count": 68,
   "id": "c2017918",
   "metadata": {
    "scrolled": true
   },
   "outputs": [
    {
     "name": "stdout",
     "output_type": "stream",
     "text": [
      "0  \n",
      "1  \n",
      "2  \n",
      "3  \n",
      "4  \n",
      "5  \n",
      "6  \n",
      "7  \n",
      "8  \n",
      "9  \n",
      "Coefficient is -0.035561338081183225, SE is equal to 0.01224899142510313\n"
     ]
    }
   ],
   "source": [
    "#DML with Random Forest:\n",
    "def dreg(x,d):\n",
    "    result = RandomForestRegressor( random_state = 0 , n_estimators = 500 , max_features = 60 , n_jobs = 4 , min_samples_leaf = 5 ).fit( x, d )\n",
    "    return result\n",
    "\n",
    "def yreg(x,y):\n",
    "    result = RandomForestRegressor( random_state = 0 , n_estimators = 500 , max_features = 60 , n_jobs = 4 , min_samples_leaf = 5 ).fit( x, y )\n",
    "    return result\n",
    "\n",
    "DML2_RF = DML2_for_PLM(x, d, y, dreg, yreg, 10)   # set to 2 due to computation time"
   ]
  },
  {
   "cell_type": "markdown",
   "id": "b0cb20e5",
   "metadata": {},
   "source": [
    "This can be interpret as if the initial wealth in crease in 1% then the outcome decrease by -0.0355%"
   ]
  },
  {
   "cell_type": "markdown",
   "id": "3e2e65a6",
   "metadata": {},
   "source": [
    "***"
   ]
  },
  {
   "cell_type": "markdown",
   "id": "5f1afac3",
   "metadata": {},
   "source": [
    "- Now we can join all the results for every method"
   ]
  },
  {
   "cell_type": "code",
   "execution_count": 125,
   "id": "51fa0df3",
   "metadata": {
    "scrolled": true
   },
   "outputs": [
    {
     "data": {
      "text/html": [
       "<div>\n",
       "<style scoped>\n",
       "    .dataframe tbody tr th:only-of-type {\n",
       "        vertical-align: middle;\n",
       "    }\n",
       "\n",
       "    .dataframe tbody tr th {\n",
       "        vertical-align: top;\n",
       "    }\n",
       "\n",
       "    .dataframe thead th {\n",
       "        text-align: right;\n",
       "    }\n",
       "</style>\n",
       "<table border=\"1\" class=\"dataframe\">\n",
       "  <thead>\n",
       "    <tr style=\"text-align: right;\">\n",
       "      <th></th>\n",
       "      <th>DML2_lasso</th>\n",
       "      <th>DML2_lasso_hdmy</th>\n",
       "      <th>DML2_lasso_post</th>\n",
       "      <th>DML2_lasso_post_hdmpy</th>\n",
       "      <th>DML2_ridge</th>\n",
       "      <th>DML2_elnet</th>\n",
       "      <th>DML2_RF</th>\n",
       "    </tr>\n",
       "  </thead>\n",
       "  <tbody>\n",
       "    <tr>\n",
       "      <th>RMSEY</th>\n",
       "      <td>0.002094</td>\n",
       "      <td>0.001052</td>\n",
       "      <td>0.002321</td>\n",
       "      <td>0.000415</td>\n",
       "      <td>7.709882e-18</td>\n",
       "      <td>2.937465e-17</td>\n",
       "      <td>0.000511</td>\n",
       "    </tr>\n",
       "    <tr>\n",
       "      <th>RMSED</th>\n",
       "      <td>0.003916</td>\n",
       "      <td>0.013437</td>\n",
       "      <td>0.000987</td>\n",
       "      <td>0.002541</td>\n",
       "      <td>3.552714e-16</td>\n",
       "      <td>1.480297e-15</td>\n",
       "      <td>0.012705</td>\n",
       "    </tr>\n",
       "  </tbody>\n",
       "</table>\n",
       "</div>"
      ],
      "text/plain": [
       "       DML2_lasso  DML2_lasso_hdmy  DML2_lasso_post  DML2_lasso_post_hdmpy  \\\n",
       "RMSEY    0.002094         0.001052         0.002321               0.000415   \n",
       "RMSED    0.003916         0.013437         0.000987               0.002541   \n",
       "\n",
       "         DML2_ridge    DML2_elnet   DML2_RF  \n",
       "RMSEY  7.709882e-18  2.937465e-17  0.000511  \n",
       "RMSED  3.552714e-16  1.480297e-15  0.012705  "
      ]
     },
     "execution_count": 125,
     "metadata": {},
     "output_type": "execute_result"
    }
   ],
   "source": [
    "mods = [DML2_lasso, DML2_lasso_hdmpy, DML2_lasso_post ,DML2_lasso_post_hdmpy, DML2_ridge, DML2_elnet, DML2_RF]\n",
    "mods_name = [\"DML2_lasso\", 'DML2_lasso_hdmy',\"DML2_lasso_post\",'DML2_lasso_post_hdmpy', 'DML2_ridge', 'DML2_elnet', 'DML2_RF']\n",
    "\n",
    "def mdl( model , model_name ):\n",
    "    \n",
    "    RMSEY = np.sqrt( np.mean( model[ 'ytil' ] ) ** 2 ) # I have some doubts about these equations...we have to recheck\n",
    "    RMSED = np.sqrt( np.mean( model[ 'dtil' ] ) ** 2 ) # I have some doubts about these equations...we have to recheck\n",
    "    \n",
    "    result = pd.DataFrame( { model_name : [ RMSEY , RMSED ]} , index = [ 'RMSEY' , 'RMSED' ])\n",
    "    return result\n",
    "\n",
    "RES = [ mdl( model , name ) for model, name in zip( mods , mods_name ) ]\n",
    "    \n",
    "\n",
    "pr_Res = pd.concat( RES, axis = 1)\n",
    "\n",
    "pr_Res"
   ]
  },
  {
   "cell_type": "markdown",
   "id": "7605c79e",
   "metadata": {},
   "source": [
    "It looks like the best method fro predicting $Y$ is Ridge and for $D$ is Ridge too. "
   ]
  },
  {
   "cell_type": "markdown",
   "id": "d7bc0689",
   "metadata": {},
   "source": [
    "## 8. Run the best method i.e. the best combination of methods to predict y an d"
   ]
  },
  {
   "cell_type": "code",
   "execution_count": 130,
   "id": "bb776501",
   "metadata": {
    "scrolled": true
   },
   "outputs": [
    {
     "name": "stdout",
     "output_type": "stream",
     "text": [
      "0  \n",
      "1  \n",
      "2  \n",
      "3  \n",
      "4  \n",
      "5  \n",
      "6  \n",
      "7  \n",
      "8  \n",
      "9  \n",
      "Coefficient is -0.005285590458468861, SE is equal to 0.007555802610939796\n"
     ]
    }
   ],
   "source": [
    "def dreg(x,d):\n",
    "    result = standard_skl_model(  ElasticNetCV(cv = 10 , random_state = 0 , alphas = [0]) ).fit( x, d )\n",
    "    return result\n",
    "\n",
    "\n",
    "def yreg(x,y):\n",
    "    result = standard_skl_model( ElasticNetCV( cv = 10 ,  random_state = 0 , l1_ratio = 0.0001 ) ).fit( x, y )\n",
    "    return result\n",
    "\n",
    "DML2_best = DML2_for_PLM(x, d, y , dreg, yreg, 10)\n",
    "\n"
   ]
  },
  {
   "cell_type": "markdown",
   "id": "7d62a56e",
   "metadata": {},
   "source": [
    "We can coclude that country outcome is negative related to the initial wealth. This can be interpret as if the initial wealth in crease in 1% then the outcome decrease by -0.0052%"
   ]
  },
  {
   "cell_type": "markdown",
   "id": "9f09e9e9",
   "metadata": {},
   "source": [
    "##  9. Show your results in a table as we did in the lab."
   ]
  },
  {
   "cell_type": "code",
   "execution_count": 127,
   "id": "f44cd416",
   "metadata": {},
   "outputs": [],
   "source": [
    "table = np.zeros( ( 10 , 2 ))\n",
    "table[ 0 , 0] = baseline_ols.summary2().tables[1]['Coef.']['d']\n",
    "table[ 1 , 0] = control_ols.summary2().tables[1]['Coef.']['d']\n",
    "table[ 2 , 0] = DML2_lasso['coef_est']\n",
    "table[ 3 , 0] = DML2_lasso_hdmpy['coef_est']\n",
    "table[ 4 , 0] = DML2_lasso_post['coef_est']\n",
    "table[ 5 , 0] = DML2_lasso_post_hdmpy['coef_est']\n",
    "table[ 6 , 0] = DML2_ridge['coef_est']\n",
    "table[ 7 , 0] = DML2_elnet['coef_est']\n",
    "table[ 8 , 0] = DML2_RF['coef_est']\n",
    "table[ 9 , 0] = DML2_best['coef_est']\n",
    "table[ 0 , 1] = baseline_ols.summary2().tables[1]['Std.Err.']['d']\n",
    "table[ 1 , 1] = control_ols.summary2().tables[1]['Std.Err.']['d']\n",
    "table[ 2 , 1] = DML2_lasso['se']\n",
    "table[ 3 , 1] = DML2_lasso_hdmpy['se']\n",
    "table[ 4 , 1] = DML2_lasso_post['se']\n",
    "table[ 5 , 1] = DML2_lasso_post_hdmpy['se']\n",
    "table[ 6 , 1] = DML2_ridge['se']\n",
    "table[ 7 , 1] = DML2_elnet['se']\n",
    "table[ 8 , 1] = DML2_RF['se']\n",
    "table[ 9 , 1] = DML2_best['se']"
   ]
  },
  {
   "cell_type": "code",
   "execution_count": 128,
   "id": "830154b9",
   "metadata": {},
   "outputs": [
    {
     "data": {
      "text/html": [
       "<div>\n",
       "<style scoped>\n",
       "    .dataframe tbody tr th:only-of-type {\n",
       "        vertical-align: middle;\n",
       "    }\n",
       "\n",
       "    .dataframe tbody tr th {\n",
       "        vertical-align: top;\n",
       "    }\n",
       "\n",
       "    .dataframe thead th {\n",
       "        text-align: right;\n",
       "    }\n",
       "</style>\n",
       "<table border=\"1\" class=\"dataframe\">\n",
       "  <thead>\n",
       "    <tr style=\"text-align: right;\">\n",
       "      <th></th>\n",
       "      <th>Estimate</th>\n",
       "      <th>Standard Error</th>\n",
       "    </tr>\n",
       "  </thead>\n",
       "  <tbody>\n",
       "    <tr>\n",
       "      <th>Baseline OLS</th>\n",
       "      <td>0.001</td>\n",
       "      <td>0.006</td>\n",
       "    </tr>\n",
       "    <tr>\n",
       "      <th>OLS with controls</th>\n",
       "      <td>-0.009</td>\n",
       "      <td>0.030</td>\n",
       "    </tr>\n",
       "    <tr>\n",
       "      <th>Lasso</th>\n",
       "      <td>0.023</td>\n",
       "      <td>0.013</td>\n",
       "    </tr>\n",
       "    <tr>\n",
       "      <th>Lasso using hdmy</th>\n",
       "      <td>-0.032</td>\n",
       "      <td>0.015</td>\n",
       "    </tr>\n",
       "    <tr>\n",
       "      <th>Post-Lasso</th>\n",
       "      <td>0.021</td>\n",
       "      <td>0.013</td>\n",
       "    </tr>\n",
       "    <tr>\n",
       "      <th>Post-Lasso using hdmy</th>\n",
       "      <td>-0.044</td>\n",
       "      <td>0.014</td>\n",
       "    </tr>\n",
       "    <tr>\n",
       "      <th>CV Elnet</th>\n",
       "      <td>-0.017</td>\n",
       "      <td>0.009</td>\n",
       "    </tr>\n",
       "    <tr>\n",
       "      <th>CV Ridge</th>\n",
       "      <td>-0.023</td>\n",
       "      <td>0.010</td>\n",
       "    </tr>\n",
       "    <tr>\n",
       "      <th>Random Forest</th>\n",
       "      <td>-0.036</td>\n",
       "      <td>0.012</td>\n",
       "    </tr>\n",
       "    <tr>\n",
       "      <th>Best</th>\n",
       "      <td>0.011</td>\n",
       "      <td>0.008</td>\n",
       "    </tr>\n",
       "  </tbody>\n",
       "</table>\n",
       "</div>"
      ],
      "text/plain": [
       "                       Estimate  Standard Error\n",
       "Baseline OLS              0.001           0.006\n",
       "OLS with controls        -0.009           0.030\n",
       "Lasso                     0.023           0.013\n",
       "Lasso using hdmy         -0.032           0.015\n",
       "Post-Lasso                0.021           0.013\n",
       "Post-Lasso using hdmy    -0.044           0.014\n",
       "CV Elnet                 -0.017           0.009\n",
       "CV Ridge                 -0.023           0.010\n",
       "Random Forest            -0.036           0.012\n",
       "Best                      0.011           0.008"
      ]
     },
     "execution_count": 128,
     "metadata": {},
     "output_type": "execute_result"
    }
   ],
   "source": [
    "table = pd.DataFrame( table , index = [ \"Baseline OLS\", \"OLS with controls\", \"Lasso\", \\\n",
    "'Lasso using hdmy', \"Post-Lasso\",'Post-Lasso using hdmy',\"CV Elnet\", \"CV Ridge\", \"Random Forest\", \"Best\" ] , \\\n",
    "            columns = [\"Estimate\",\"Standard Error\"] )\n",
    "table.round( 3 )"
   ]
  }
 ],
 "metadata": {
  "kernelspec": {
   "display_name": "Python 3",
   "language": "python",
   "name": "python3"
  },
  "language_info": {
   "codemirror_mode": {
    "name": "ipython",
    "version": 3
   },
   "file_extension": ".py",
   "mimetype": "text/x-python",
   "name": "python",
   "nbconvert_exporter": "python",
   "pygments_lexer": "ipython3",
   "version": "3.8.8"
  }
 },
 "nbformat": 4,
 "nbformat_minor": 5
}
